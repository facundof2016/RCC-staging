{
 "cells": [
  {
   "cell_type": "markdown",
   "metadata": {},
   "source": [
    "# Metabolites Fold Changes\n",
    "\n",
    "Author: Olatomiwa Bifarin<br>\n",
    "Department of Biochemistry and Molecular Biology<br>\n",
    "University of Georgia<br>\n",
    "Edison Lab<br>\n",
    "\n",
    "Last edited: 24FEB2020"
   ]
  },
  {
   "cell_type": "markdown",
   "metadata": {},
   "source": [
    "## Import Libraries"
   ]
  },
  {
   "cell_type": "code",
   "execution_count": 25,
   "metadata": {},
   "outputs": [],
   "source": [
    "import numpy as np\n",
    "import pandas as pd\n",
    "from matplotlib import pyplot as plt\n",
    "from matplotlib import style\n",
    "import scipy\n",
    "from scipy import stats\n",
    "import statsmodels as sms\n",
    "from statsmodels.stats import multitest\n",
    "import seaborn as sns; sns.set(style='white')\n",
    "\n",
    "#To ignore warning\n",
    "import warnings\n",
    "warnings.filterwarnings('ignore')\n",
    "\n",
    "# More sharp and legible graphics\n",
    "%config InlineBackend.figure_format = 'retina'"
   ]
  },
  {
   "cell_type": "markdown",
   "metadata": {},
   "source": [
    "## Import Data"
   ]
  },
  {
   "cell_type": "code",
   "execution_count": 26,
   "metadata": {},
   "outputs": [],
   "source": [
    "RCCdataframe = pd.read_excel('data/RCCdataframe.xlsx')\n",
    "\n",
    "#RCCdataframe = pd.read_excel('RCCdataframe.xlsx')\n",
    "# Remove samples with inconclusive staging information.\n",
    "RCCdataframe = RCCdataframe[pd.notnull(RCCdataframe['Grouped Stage'])]"
   ]
  },
  {
   "cell_type": "code",
   "execution_count": 27,
   "metadata": {},
   "outputs": [],
   "source": [
    "# non-metabolites (non-features) elements in RCC dataframe\n",
    "non_metabolites = ['Groups', 'Collection', 'Sample ID', 'Metastatic', \n",
    "     'SubTypes','Nuclear Grade', 'Grade', 'Tstage', \n",
    "     'Tstage Group', 'Nstage', 'Mstage', \n",
    "     'Stage', 'Grouped Stage','Tumor Width','Gender', \n",
    "     'Race', 'BMI', 'Smoker', 'Age', 'Patient ID' ]"
   ]
  },
  {
   "cell_type": "code",
   "execution_count": 28,
   "metadata": {},
   "outputs": [],
   "source": [
    "# Define two dataframes, Early RCC cancer and Late RCC cancer, and drop\n",
    "# non-metabolites features from these dataframes.\n",
    "\n",
    "Early = RCCdataframe[(RCCdataframe['Grouped Stage'] == 'Early')].drop(non_metabolites,\n",
    "                                                                      axis=1)\n",
    "Late = RCCdataframe[(RCCdataframe['Grouped Stage'] == 'Late')].drop(non_metabolites,\n",
    "                                                                      axis=1)"
   ]
  },
  {
   "cell_type": "code",
   "execution_count": 29,
   "metadata": {},
   "outputs": [
    {
     "data": {
      "text/plain": [
       "(70, 7146)"
      ]
     },
     "execution_count": 29,
     "metadata": {},
     "output_type": "execute_result"
    }
   ],
   "source": [
    "# df_features contains the features alone. \n",
    "df_features = RCCdataframe.drop(non_metabolites, axis=1)\n",
    "df_features.shape"
   ]
  },
  {
   "cell_type": "code",
   "execution_count": 30,
   "metadata": {},
   "outputs": [],
   "source": [
    "# NMR and MS features\n",
    "MS_features = df_features.iloc[:, 1:7098].columns\n",
    "NMR_features = df_features.iloc[:, 7098:].columns"
   ]
  },
  {
   "cell_type": "code",
   "execution_count": 31,
   "metadata": {},
   "outputs": [],
   "source": [
    "# NMR and MS Dataframe\n",
    "NMRdataframe = pd.concat([RCCdataframe['Grouped Stage'].to_frame(), \n",
    "                    RCCdataframe[NMR_features]], axis=1)\n",
    "\n",
    "MSdataframe = pd.concat([RCCdataframe['Grouped Stage'].to_frame(), \n",
    "                    RCCdataframe[MS_features]], axis=1)"
   ]
  },
  {
   "cell_type": "markdown",
   "metadata": {},
   "source": [
    "## NMR Metabolomics"
   ]
  },
  {
   "cell_type": "markdown",
   "metadata": {},
   "source": [
    "T-test function"
   ]
  },
  {
   "cell_type": "code",
   "execution_count": 32,
   "metadata": {},
   "outputs": [],
   "source": [
    "def Ttest(metabolites, dfControl, dfTreat, alpha=0.05, var=True):\n",
    "    '''\n",
    "    Function conducts a T-test for the metabolites differences between two groups with \n",
    "    Benjamini-Hocberg FDR correction\n",
    "    \n",
    "    Inputs: \n",
    "    metabolites = A list containing names of metabolites\n",
    "    dfControl = A pandas dataframe containing the control group metabolites data\n",
    "    dfTreat =  A pandas dataframe containing the treatment group metabolites data\n",
    "    alpha = alpha for statistical significant judgment, default 0.05\n",
    "    var = If True (default), perform a standard independent 2 sample test that assumes \n",
    "    equal population variances [1]. If False, perform Welch’s t-test, which does not \n",
    "    assume equal population variance\n",
    "    \n",
    "    Outputs: A pandas dataframe with p-values of numerical cohort characteristics. \n",
    "    \n",
    "    '''\n",
    "    ttest_dict = {}\n",
    "    for metabolite in metabolites:\n",
    "        statistic, pvalue =  scipy.stats.ttest_ind(dfControl[metabolite], \n",
    "                                               dfTreat[metabolite], \n",
    "                                               equal_var=var)\n",
    "        ttest_dict[metabolite] = pvalue \n",
    "        # a dictionary containing name of metabolites and p value after t-test\n",
    "    ttest = pd.DataFrame.from_dict(ttest_dict, orient='index') # the dictionary in pandas df\n",
    "    ttest_list=list(ttest_dict.values()) #values (pvalues) of ttest result in a list\n",
    "    reject, pval_corrected, _, _ = sms.stats.multitest.multipletests(ttest_list, \n",
    "                                                                 alpha=alpha, \n",
    "                                                                 method='fdr_bh')\n",
    "    ttest_results = pd.DataFrame({'Metabolite': metabolites, 'T-test p-value': ttest_list, \n",
    "                              'FDR p-value': pval_corrected, 'Reject H0': reject})\n",
    "    Table = ttest_results.sort_values(by=['FDR p-value'])\n",
    "    return Table"
   ]
  },
  {
   "cell_type": "code",
   "execution_count": 33,
   "metadata": {},
   "outputs": [],
   "source": [
    "# Define two NMR dataframes, Early RCC cancer and Late RCC cancer, and drop\n",
    "# non-metabolites features from these dataframes.\n",
    "\n",
    "EarlyNMR = NMRdataframe[(NMRdataframe['Grouped Stage'] == 'Early')].drop('Grouped Stage', axis=1)\n",
    "LateNMR = NMRdataframe[(NMRdataframe['Grouped Stage'] == 'Late')].drop('Grouped Stage', axis=1)"
   ]
  },
  {
   "cell_type": "code",
   "execution_count": 34,
   "metadata": {},
   "outputs": [],
   "source": [
    "# NMR T-test result\n",
    "NMRttest_result = Ttest(NMR_features, EarlyNMR, LateNMR, alpha=0.05, var=True)\n",
    "#NMRstat_sig = ttest_result.loc[ttest_result['T-test p-value'] <= 0.05]"
   ]
  },
  {
   "cell_type": "code",
   "execution_count": 35,
   "metadata": {},
   "outputs": [
    {
     "data": {
      "text/plain": [
       "(48, 3)"
      ]
     },
     "execution_count": 35,
     "metadata": {},
     "output_type": "execute_result"
    }
   ],
   "source": [
    "# define the mean NMR dataframe\n",
    "\n",
    "dfmean_NMR = pd.DataFrame({'Features':NMRdataframe.drop(['Grouped Stage'], axis=1).mean(axis=0).index, \n",
    "                       'Early RCC (NMR)':EarlyNMR.mean(axis=0).values,\n",
    "                       'Advanced RCC (NMR)':LateNMR.mean(axis=0).values})\n",
    "dfmean_NMR.shape"
   ]
  },
  {
   "cell_type": "markdown",
   "metadata": {},
   "source": [
    "Compute Fold changes"
   ]
  },
  {
   "cell_type": "code",
   "execution_count": 36,
   "metadata": {},
   "outputs": [],
   "source": [
    "FC_listnmr = []\n",
    "for i in dfmean_NMR['Features']: \n",
    "    early_val = dfmean_NMR.loc[dfmean_NMR['Features'] == i]['Early RCC (NMR)']\n",
    "    late_val = dfmean_NMR.loc[dfmean_NMR['Features'] == i]['Advanced RCC (NMR)']\n",
    "    \n",
    "    FC = round(np.log2(late_val.to_numpy()[0]/early_val.to_numpy()[0]),2)\n",
    "    FC_listnmr.append(FC)"
   ]
  },
  {
   "cell_type": "code",
   "execution_count": 37,
   "metadata": {},
   "outputs": [],
   "source": [
    "data = {'Metabolite': dfmean_NMR['Features'], \n",
    "        'FC': FC_listnmr}\n",
    "\n",
    "# Create DataFrame \n",
    "df = pd.DataFrame(data) "
   ]
  },
  {
   "cell_type": "code",
   "execution_count": 38,
   "metadata": {},
   "outputs": [
    {
     "data": {
      "text/html": [
       "<div>\n",
       "<style scoped>\n",
       "    .dataframe tbody tr th:only-of-type {\n",
       "        vertical-align: middle;\n",
       "    }\n",
       "\n",
       "    .dataframe tbody tr th {\n",
       "        vertical-align: top;\n",
       "    }\n",
       "\n",
       "    .dataframe thead th {\n",
       "        text-align: right;\n",
       "    }\n",
       "</style>\n",
       "<table border=\"1\" class=\"dataframe\">\n",
       "  <thead>\n",
       "    <tr style=\"text-align: right;\">\n",
       "      <th></th>\n",
       "      <th>Metabolite</th>\n",
       "      <th>FC</th>\n",
       "    </tr>\n",
       "  </thead>\n",
       "  <tbody>\n",
       "    <tr>\n",
       "      <th>0</th>\n",
       "      <td>unk1</td>\n",
       "      <td>0.13</td>\n",
       "    </tr>\n",
       "    <tr>\n",
       "      <th>1</th>\n",
       "      <td>unk2</td>\n",
       "      <td>-0.10</td>\n",
       "    </tr>\n",
       "    <tr>\n",
       "      <th>2</th>\n",
       "      <td>bile_acid1</td>\n",
       "      <td>-0.11</td>\n",
       "    </tr>\n",
       "    <tr>\n",
       "      <th>3</th>\n",
       "      <td>bile_acid2</td>\n",
       "      <td>0.04</td>\n",
       "    </tr>\n",
       "    <tr>\n",
       "      <th>4</th>\n",
       "      <td>HIVA</td>\n",
       "      <td>-0.17</td>\n",
       "    </tr>\n",
       "  </tbody>\n",
       "</table>\n",
       "</div>"
      ],
      "text/plain": [
       "   Metabolite    FC\n",
       "0        unk1  0.13\n",
       "1        unk2 -0.10\n",
       "2  bile_acid1 -0.11\n",
       "3  bile_acid2  0.04\n",
       "4        HIVA -0.17"
      ]
     },
     "execution_count": 38,
     "metadata": {},
     "output_type": "execute_result"
    }
   ],
   "source": [
    "df.head()"
   ]
  },
  {
   "cell_type": "code",
   "execution_count": 39,
   "metadata": {},
   "outputs": [
    {
     "data": {
      "text/html": [
       "<div>\n",
       "<style scoped>\n",
       "    .dataframe tbody tr th:only-of-type {\n",
       "        vertical-align: middle;\n",
       "    }\n",
       "\n",
       "    .dataframe tbody tr th {\n",
       "        vertical-align: top;\n",
       "    }\n",
       "\n",
       "    .dataframe thead th {\n",
       "        text-align: right;\n",
       "    }\n",
       "</style>\n",
       "<table border=\"1\" class=\"dataframe\">\n",
       "  <thead>\n",
       "    <tr style=\"text-align: right;\">\n",
       "      <th></th>\n",
       "      <th>Metabolite</th>\n",
       "      <th>T-test p-value</th>\n",
       "      <th>FDR p-value</th>\n",
       "      <th>Reject H0</th>\n",
       "    </tr>\n",
       "  </thead>\n",
       "  <tbody>\n",
       "    <tr>\n",
       "      <th>13</th>\n",
       "      <td>citrate</td>\n",
       "      <td>0.002546</td>\n",
       "      <td>0.122210</td>\n",
       "      <td>False</td>\n",
       "    </tr>\n",
       "    <tr>\n",
       "      <th>8</th>\n",
       "      <td>acetone</td>\n",
       "      <td>0.028642</td>\n",
       "      <td>0.305652</td>\n",
       "      <td>False</td>\n",
       "    </tr>\n",
       "    <tr>\n",
       "      <th>22</th>\n",
       "      <td>glycine</td>\n",
       "      <td>0.031839</td>\n",
       "      <td>0.305652</td>\n",
       "      <td>False</td>\n",
       "    </tr>\n",
       "    <tr>\n",
       "      <th>12</th>\n",
       "      <td>pyruvate</td>\n",
       "      <td>0.028291</td>\n",
       "      <td>0.305652</td>\n",
       "      <td>False</td>\n",
       "    </tr>\n",
       "    <tr>\n",
       "      <th>18</th>\n",
       "      <td>choline</td>\n",
       "      <td>0.026118</td>\n",
       "      <td>0.305652</td>\n",
       "      <td>False</td>\n",
       "    </tr>\n",
       "  </tbody>\n",
       "</table>\n",
       "</div>"
      ],
      "text/plain": [
       "   Metabolite  T-test p-value  FDR p-value  Reject H0\n",
       "13    citrate        0.002546     0.122210      False\n",
       "8     acetone        0.028642     0.305652      False\n",
       "22    glycine        0.031839     0.305652      False\n",
       "12   pyruvate        0.028291     0.305652      False\n",
       "18    choline        0.026118     0.305652      False"
      ]
     },
     "execution_count": 39,
     "metadata": {},
     "output_type": "execute_result"
    }
   ],
   "source": [
    "NMRttest_result.head()"
   ]
  },
  {
   "cell_type": "code",
   "execution_count": 40,
   "metadata": {},
   "outputs": [],
   "source": [
    "# drop columns that are not useful. \n",
    "NMRttest_result2 = NMRttest_result.drop(['Reject H0'], axis=1)\n",
    "# merge dataframe for paper figure\n",
    "NMR_excel_metabolites = pd.merge(df, \n",
    "                                   NMRttest_result2, \n",
    "                                   on='Metabolite')\n",
    "\n",
    "# round all numbers to 2 decimal places\n",
    "NMR_excel_metabolites.round(3);"
   ]
  },
  {
   "cell_type": "code",
   "execution_count": 41,
   "metadata": {},
   "outputs": [
    {
     "name": "stdout",
     "output_type": "stream",
     "text": [
      "DataFrame is written to Excel File successfully.\n"
     ]
    }
   ],
   "source": [
    "# saving the excel \n",
    "#NMR_excel_metabolites.round(3).to_excel(\"NMR_foldchanges_tTest.xlsx\") \n",
    "print('DataFrame is written to Excel File successfully.')"
   ]
  },
  {
   "cell_type": "markdown",
   "metadata": {},
   "source": [
    "## MS Metabolites"
   ]
  },
  {
   "cell_type": "code",
   "execution_count": 43,
   "metadata": {},
   "outputs": [],
   "source": [
    "MSqmarker_dataframe = pd.read_excel('RCCStage_171qmarkers.xlsx')"
   ]
  },
  {
   "cell_type": "code",
   "execution_count": 44,
   "metadata": {},
   "outputs": [
    {
     "data": {
      "text/html": [
       "<div>\n",
       "<style scoped>\n",
       "    .dataframe tbody tr th:only-of-type {\n",
       "        vertical-align: middle;\n",
       "    }\n",
       "\n",
       "    .dataframe tbody tr th {\n",
       "        vertical-align: top;\n",
       "    }\n",
       "\n",
       "    .dataframe thead th {\n",
       "        text-align: right;\n",
       "    }\n",
       "</style>\n",
       "<table border=\"1\" class=\"dataframe\">\n",
       "  <thead>\n",
       "    <tr style=\"text-align: right;\">\n",
       "      <th></th>\n",
       "      <th>Grouped Stage</th>\n",
       "      <th>1</th>\n",
       "      <th>2</th>\n",
       "      <th>3</th>\n",
       "      <th>4</th>\n",
       "      <th>5</th>\n",
       "      <th>6</th>\n",
       "      <th>7</th>\n",
       "      <th>8</th>\n",
       "      <th>9</th>\n",
       "      <th>...</th>\n",
       "      <th>7088</th>\n",
       "      <th>7089</th>\n",
       "      <th>7090</th>\n",
       "      <th>7091</th>\n",
       "      <th>7092</th>\n",
       "      <th>7093</th>\n",
       "      <th>7094</th>\n",
       "      <th>7095</th>\n",
       "      <th>7096</th>\n",
       "      <th>7097</th>\n",
       "    </tr>\n",
       "  </thead>\n",
       "  <tbody>\n",
       "    <tr>\n",
       "      <th>0</th>\n",
       "      <td>Early</td>\n",
       "      <td>7.248850e+08</td>\n",
       "      <td>1.103877e+09</td>\n",
       "      <td>5.068185e+06</td>\n",
       "      <td>4.682599e+03</td>\n",
       "      <td>18261.939755</td>\n",
       "      <td>1322.950578</td>\n",
       "      <td>61662.950456</td>\n",
       "      <td>1.916202e+05</td>\n",
       "      <td>5.619428e+07</td>\n",
       "      <td>...</td>\n",
       "      <td>168446.786091</td>\n",
       "      <td>81645.226415</td>\n",
       "      <td>5.015742e+05</td>\n",
       "      <td>43882.940713</td>\n",
       "      <td>235673.809999</td>\n",
       "      <td>141900.044060</td>\n",
       "      <td>144189.303819</td>\n",
       "      <td>1.659259e+06</td>\n",
       "      <td>105635.980011</td>\n",
       "      <td>76801.696555</td>\n",
       "    </tr>\n",
       "    <tr>\n",
       "      <th>7</th>\n",
       "      <td>Early</td>\n",
       "      <td>4.693305e+06</td>\n",
       "      <td>2.097896e+09</td>\n",
       "      <td>2.069727e+09</td>\n",
       "      <td>5.499192e+07</td>\n",
       "      <td>25432.663566</td>\n",
       "      <td>45520.866350</td>\n",
       "      <td>185797.531423</td>\n",
       "      <td>5.442909e+05</td>\n",
       "      <td>9.104594e+07</td>\n",
       "      <td>...</td>\n",
       "      <td>26709.418499</td>\n",
       "      <td>136386.803103</td>\n",
       "      <td>9.311136e+05</td>\n",
       "      <td>37112.894842</td>\n",
       "      <td>461212.184491</td>\n",
       "      <td>133276.969753</td>\n",
       "      <td>135275.801403</td>\n",
       "      <td>9.976305e+05</td>\n",
       "      <td>45068.765392</td>\n",
       "      <td>209961.651238</td>\n",
       "    </tr>\n",
       "    <tr>\n",
       "      <th>8</th>\n",
       "      <td>Late</td>\n",
       "      <td>2.876150e+08</td>\n",
       "      <td>1.280228e+09</td>\n",
       "      <td>9.550407e+06</td>\n",
       "      <td>3.670156e+04</td>\n",
       "      <td>44239.226722</td>\n",
       "      <td>4718.247908</td>\n",
       "      <td>116683.725311</td>\n",
       "      <td>2.910597e+05</td>\n",
       "      <td>3.868039e+08</td>\n",
       "      <td>...</td>\n",
       "      <td>647662.128723</td>\n",
       "      <td>352575.790480</td>\n",
       "      <td>1.052685e+06</td>\n",
       "      <td>15180.614023</td>\n",
       "      <td>948296.493930</td>\n",
       "      <td>260564.349646</td>\n",
       "      <td>17692.293750</td>\n",
       "      <td>6.397873e+05</td>\n",
       "      <td>305002.623966</td>\n",
       "      <td>83340.915554</td>\n",
       "    </tr>\n",
       "    <tr>\n",
       "      <th>9</th>\n",
       "      <td>Early</td>\n",
       "      <td>4.515404e+06</td>\n",
       "      <td>9.038826e+08</td>\n",
       "      <td>8.967970e+08</td>\n",
       "      <td>2.977243e+06</td>\n",
       "      <td>13076.392417</td>\n",
       "      <td>3803.132036</td>\n",
       "      <td>83057.599725</td>\n",
       "      <td>2.824007e+05</td>\n",
       "      <td>4.020343e+07</td>\n",
       "      <td>...</td>\n",
       "      <td>48406.874260</td>\n",
       "      <td>25702.543194</td>\n",
       "      <td>5.293080e+05</td>\n",
       "      <td>1051.213851</td>\n",
       "      <td>151444.889717</td>\n",
       "      <td>44642.901959</td>\n",
       "      <td>17143.802793</td>\n",
       "      <td>1.388301e+05</td>\n",
       "      <td>88515.357062</td>\n",
       "      <td>34774.981551</td>\n",
       "    </tr>\n",
       "    <tr>\n",
       "      <th>10</th>\n",
       "      <td>Early</td>\n",
       "      <td>2.094258e+06</td>\n",
       "      <td>2.272247e+09</td>\n",
       "      <td>6.622640e+07</td>\n",
       "      <td>1.975013e+07</td>\n",
       "      <td>15870.650938</td>\n",
       "      <td>1640.590789</td>\n",
       "      <td>366063.610388</td>\n",
       "      <td>1.194779e+06</td>\n",
       "      <td>1.418048e+08</td>\n",
       "      <td>...</td>\n",
       "      <td>238353.245646</td>\n",
       "      <td>426965.773883</td>\n",
       "      <td>3.958381e+05</td>\n",
       "      <td>33280.705223</td>\n",
       "      <td>432006.770308</td>\n",
       "      <td>197276.341290</td>\n",
       "      <td>96510.547193</td>\n",
       "      <td>2.020430e+06</td>\n",
       "      <td>365566.749529</td>\n",
       "      <td>620224.679053</td>\n",
       "    </tr>\n",
       "  </tbody>\n",
       "</table>\n",
       "<p>5 rows × 7098 columns</p>\n",
       "</div>"
      ],
      "text/plain": [
       "   Grouped Stage             1             2             3             4  \\\n",
       "0          Early  7.248850e+08  1.103877e+09  5.068185e+06  4.682599e+03   \n",
       "7          Early  4.693305e+06  2.097896e+09  2.069727e+09  5.499192e+07   \n",
       "8           Late  2.876150e+08  1.280228e+09  9.550407e+06  3.670156e+04   \n",
       "9          Early  4.515404e+06  9.038826e+08  8.967970e+08  2.977243e+06   \n",
       "10         Early  2.094258e+06  2.272247e+09  6.622640e+07  1.975013e+07   \n",
       "\n",
       "               5             6              7             8             9  \\\n",
       "0   18261.939755   1322.950578   61662.950456  1.916202e+05  5.619428e+07   \n",
       "7   25432.663566  45520.866350  185797.531423  5.442909e+05  9.104594e+07   \n",
       "8   44239.226722   4718.247908  116683.725311  2.910597e+05  3.868039e+08   \n",
       "9   13076.392417   3803.132036   83057.599725  2.824007e+05  4.020343e+07   \n",
       "10  15870.650938   1640.590789  366063.610388  1.194779e+06  1.418048e+08   \n",
       "\n",
       "    ...           7088           7089          7090          7091  \\\n",
       "0   ...  168446.786091   81645.226415  5.015742e+05  43882.940713   \n",
       "7   ...   26709.418499  136386.803103  9.311136e+05  37112.894842   \n",
       "8   ...  647662.128723  352575.790480  1.052685e+06  15180.614023   \n",
       "9   ...   48406.874260   25702.543194  5.293080e+05   1051.213851   \n",
       "10  ...  238353.245646  426965.773883  3.958381e+05  33280.705223   \n",
       "\n",
       "             7092           7093           7094          7095           7096  \\\n",
       "0   235673.809999  141900.044060  144189.303819  1.659259e+06  105635.980011   \n",
       "7   461212.184491  133276.969753  135275.801403  9.976305e+05   45068.765392   \n",
       "8   948296.493930  260564.349646   17692.293750  6.397873e+05  305002.623966   \n",
       "9   151444.889717   44642.901959   17143.802793  1.388301e+05   88515.357062   \n",
       "10  432006.770308  197276.341290   96510.547193  2.020430e+06  365566.749529   \n",
       "\n",
       "             7097  \n",
       "0    76801.696555  \n",
       "7   209961.651238  \n",
       "8    83340.915554  \n",
       "9    34774.981551  \n",
       "10  620224.679053  \n",
       "\n",
       "[5 rows x 7098 columns]"
      ]
     },
     "execution_count": 44,
     "metadata": {},
     "output_type": "execute_result"
    }
   ],
   "source": [
    "MSdataframe.head()"
   ]
  },
  {
   "cell_type": "code",
   "execution_count": 45,
   "metadata": {},
   "outputs": [
    {
     "data": {
      "text/html": [
       "<div>\n",
       "<style scoped>\n",
       "    .dataframe tbody tr th:only-of-type {\n",
       "        vertical-align: middle;\n",
       "    }\n",
       "\n",
       "    .dataframe tbody tr th {\n",
       "        vertical-align: top;\n",
       "    }\n",
       "\n",
       "    .dataframe thead th {\n",
       "        text-align: right;\n",
       "    }\n",
       "</style>\n",
       "<table border=\"1\" class=\"dataframe\">\n",
       "  <thead>\n",
       "    <tr style=\"text-align: right;\">\n",
       "      <th></th>\n",
       "      <th>Unnamed: 0</th>\n",
       "      <th>ID</th>\n",
       "      <th>Mode</th>\n",
       "      <th>RT [min]</th>\n",
       "      <th>Name</th>\n",
       "      <th>Formula</th>\n",
       "    </tr>\n",
       "  </thead>\n",
       "  <tbody>\n",
       "    <tr>\n",
       "      <th>0</th>\n",
       "      <td>49</td>\n",
       "      <td>50</td>\n",
       "      <td>positive</td>\n",
       "      <td>3.784</td>\n",
       "      <td>Betaine</td>\n",
       "      <td>C5 H11 N O2</td>\n",
       "    </tr>\n",
       "    <tr>\n",
       "      <th>1</th>\n",
       "      <td>226</td>\n",
       "      <td>227</td>\n",
       "      <td>positive</td>\n",
       "      <td>3.393</td>\n",
       "      <td>O-Desmethyltramadol</td>\n",
       "      <td>C15 H23 N O2</td>\n",
       "    </tr>\n",
       "    <tr>\n",
       "      <th>2</th>\n",
       "      <td>247</td>\n",
       "      <td>248</td>\n",
       "      <td>positive</td>\n",
       "      <td>5.127</td>\n",
       "      <td>248</td>\n",
       "      <td>NaN</td>\n",
       "    </tr>\n",
       "    <tr>\n",
       "      <th>3</th>\n",
       "      <td>367</td>\n",
       "      <td>368</td>\n",
       "      <td>positive</td>\n",
       "      <td>1.483</td>\n",
       "      <td>Oxybenzone</td>\n",
       "      <td>C14 H12 O3</td>\n",
       "    </tr>\n",
       "    <tr>\n",
       "      <th>4</th>\n",
       "      <td>627</td>\n",
       "      <td>628</td>\n",
       "      <td>positive</td>\n",
       "      <td>1.660</td>\n",
       "      <td>capuride</td>\n",
       "      <td>C9 H18 N2 O2</td>\n",
       "    </tr>\n",
       "  </tbody>\n",
       "</table>\n",
       "</div>"
      ],
      "text/plain": [
       "   Unnamed: 0   ID      Mode  RT [min]                 Name       Formula\n",
       "0          49   50  positive     3.784              Betaine   C5 H11 N O2\n",
       "1         226  227  positive     3.393  O-Desmethyltramadol  C15 H23 N O2\n",
       "2         247  248  positive     5.127                  248           NaN\n",
       "3         367  368  positive     1.483           Oxybenzone    C14 H12 O3\n",
       "4         627  628  positive     1.660             capuride  C9 H18 N2 O2"
      ]
     },
     "execution_count": 45,
     "metadata": {},
     "output_type": "execute_result"
    }
   ],
   "source": [
    "MSqmarker_dataframe.head()"
   ]
  },
  {
   "cell_type": "code",
   "execution_count": 46,
   "metadata": {},
   "outputs": [],
   "source": [
    "# Define two MS dataframes, Early RCC cancer and Late RCC cancer, and drop\n",
    "# non-metabolites features from these dataframes.\n",
    "\n",
    "EarlyMS = MSdataframe[(MSdataframe['Grouped Stage'] == 'Early')].drop('Grouped Stage', axis=1)\n",
    "LateMS = MSdataframe[(MSdataframe['Grouped Stage'] == 'Late')].drop('Grouped Stage', axis=1)"
   ]
  },
  {
   "cell_type": "code",
   "execution_count": 47,
   "metadata": {},
   "outputs": [],
   "source": [
    "# MS T-test result\n",
    "MSttest_result = Ttest(MS_features, EarlyMS, LateMS, alpha=0.05, var=True)\n",
    "#NMRstat_sig = ttest_result.loc[ttest_result['T-test p-value'] <= 0.05]"
   ]
  },
  {
   "cell_type": "code",
   "execution_count": 48,
   "metadata": {},
   "outputs": [
    {
     "data": {
      "text/plain": [
       "(7097, 3)"
      ]
     },
     "execution_count": 48,
     "metadata": {},
     "output_type": "execute_result"
    }
   ],
   "source": [
    "# define the mean NMR dataframe\n",
    "\n",
    "dfmean_MS = pd.DataFrame({'Features':MSdataframe.drop(['Grouped Stage'], axis=1).mean(axis=0).index, \n",
    "                       'Early RCC (NMR)':EarlyMS.mean(axis=0).values,\n",
    "                       'Advanced RCC (NMR)':LateMS.mean(axis=0).values})\n",
    "dfmean_MS.shape"
   ]
  },
  {
   "cell_type": "markdown",
   "metadata": {},
   "source": [
    "Compute fold changes"
   ]
  },
  {
   "cell_type": "code",
   "execution_count": 49,
   "metadata": {},
   "outputs": [],
   "source": [
    "FC_listMS = []\n",
    "for i in dfmean_MS['Features']: \n",
    "    early_val = dfmean_MS.loc[dfmean_MS['Features'] == i]['Early RCC (NMR)']\n",
    "    late_val = dfmean_MS.loc[dfmean_MS['Features'] == i]['Advanced RCC (NMR)']\n",
    "    \n",
    "    FC = round(np.log2(late_val.to_numpy()[0]/early_val.to_numpy()[0]),2)\n",
    "    FC_listMS.append(FC)"
   ]
  },
  {
   "cell_type": "code",
   "execution_count": 53,
   "metadata": {},
   "outputs": [],
   "source": [
    "data = {'Metabolite': dfmean_MS['Features'], \n",
    "        'FC': FC_listMS}\n",
    "\n",
    "# Create DataFrame \n",
    "df = pd.DataFrame(data)"
   ]
  },
  {
   "cell_type": "code",
   "execution_count": 54,
   "metadata": {},
   "outputs": [
    {
     "data": {
      "text/html": [
       "<div>\n",
       "<style scoped>\n",
       "    .dataframe tbody tr th:only-of-type {\n",
       "        vertical-align: middle;\n",
       "    }\n",
       "\n",
       "    .dataframe tbody tr th {\n",
       "        vertical-align: top;\n",
       "    }\n",
       "\n",
       "    .dataframe thead th {\n",
       "        text-align: right;\n",
       "    }\n",
       "</style>\n",
       "<table border=\"1\" class=\"dataframe\">\n",
       "  <thead>\n",
       "    <tr style=\"text-align: right;\">\n",
       "      <th></th>\n",
       "      <th>Metabolite</th>\n",
       "      <th>FC</th>\n",
       "    </tr>\n",
       "  </thead>\n",
       "  <tbody>\n",
       "    <tr>\n",
       "      <th>0</th>\n",
       "      <td>1</td>\n",
       "      <td>0.45</td>\n",
       "    </tr>\n",
       "    <tr>\n",
       "      <th>1</th>\n",
       "      <td>2</td>\n",
       "      <td>-0.04</td>\n",
       "    </tr>\n",
       "    <tr>\n",
       "      <th>2</th>\n",
       "      <td>3</td>\n",
       "      <td>-0.05</td>\n",
       "    </tr>\n",
       "    <tr>\n",
       "      <th>3</th>\n",
       "      <td>4</td>\n",
       "      <td>0.32</td>\n",
       "    </tr>\n",
       "    <tr>\n",
       "      <th>4</th>\n",
       "      <td>5</td>\n",
       "      <td>-8.85</td>\n",
       "    </tr>\n",
       "  </tbody>\n",
       "</table>\n",
       "</div>"
      ],
      "text/plain": [
       "  Metabolite    FC\n",
       "0          1  0.45\n",
       "1          2 -0.04\n",
       "2          3 -0.05\n",
       "3          4  0.32\n",
       "4          5 -8.85"
      ]
     },
     "execution_count": 54,
     "metadata": {},
     "output_type": "execute_result"
    }
   ],
   "source": [
    "df.head()"
   ]
  },
  {
   "cell_type": "code",
   "execution_count": 55,
   "metadata": {},
   "outputs": [
    {
     "data": {
      "text/html": [
       "<div>\n",
       "<style scoped>\n",
       "    .dataframe tbody tr th:only-of-type {\n",
       "        vertical-align: middle;\n",
       "    }\n",
       "\n",
       "    .dataframe tbody tr th {\n",
       "        vertical-align: top;\n",
       "    }\n",
       "\n",
       "    .dataframe thead th {\n",
       "        text-align: right;\n",
       "    }\n",
       "</style>\n",
       "<table border=\"1\" class=\"dataframe\">\n",
       "  <thead>\n",
       "    <tr style=\"text-align: right;\">\n",
       "      <th></th>\n",
       "      <th>Metabolite</th>\n",
       "      <th>T-test p-value</th>\n",
       "      <th>FDR p-value</th>\n",
       "      <th>Reject H0</th>\n",
       "    </tr>\n",
       "  </thead>\n",
       "  <tbody>\n",
       "    <tr>\n",
       "      <th>7000</th>\n",
       "      <td>7001</td>\n",
       "      <td>0.000160</td>\n",
       "      <td>0.189336</td>\n",
       "      <td>False</td>\n",
       "    </tr>\n",
       "    <tr>\n",
       "      <th>6395</th>\n",
       "      <td>6396</td>\n",
       "      <td>0.000155</td>\n",
       "      <td>0.189336</td>\n",
       "      <td>False</td>\n",
       "    </tr>\n",
       "    <tr>\n",
       "      <th>6336</th>\n",
       "      <td>6337</td>\n",
       "      <td>0.000126</td>\n",
       "      <td>0.189336</td>\n",
       "      <td>False</td>\n",
       "    </tr>\n",
       "    <tr>\n",
       "      <th>5407</th>\n",
       "      <td>5408</td>\n",
       "      <td>0.000114</td>\n",
       "      <td>0.189336</td>\n",
       "      <td>False</td>\n",
       "    </tr>\n",
       "    <tr>\n",
       "      <th>5064</th>\n",
       "      <td>5065</td>\n",
       "      <td>0.000094</td>\n",
       "      <td>0.189336</td>\n",
       "      <td>False</td>\n",
       "    </tr>\n",
       "    <tr>\n",
       "      <th>...</th>\n",
       "      <td>...</td>\n",
       "      <td>...</td>\n",
       "      <td>...</td>\n",
       "      <td>...</td>\n",
       "    </tr>\n",
       "    <tr>\n",
       "      <th>1521</th>\n",
       "      <td>1522</td>\n",
       "      <td>0.998874</td>\n",
       "      <td>0.999297</td>\n",
       "      <td>False</td>\n",
       "    </tr>\n",
       "    <tr>\n",
       "      <th>4043</th>\n",
       "      <td>4044</td>\n",
       "      <td>0.998829</td>\n",
       "      <td>0.999297</td>\n",
       "      <td>False</td>\n",
       "    </tr>\n",
       "    <tr>\n",
       "      <th>1590</th>\n",
       "      <td>1591</td>\n",
       "      <td>0.999103</td>\n",
       "      <td>0.999385</td>\n",
       "      <td>False</td>\n",
       "    </tr>\n",
       "    <tr>\n",
       "      <th>4765</th>\n",
       "      <td>4766</td>\n",
       "      <td>0.999608</td>\n",
       "      <td>0.999749</td>\n",
       "      <td>False</td>\n",
       "    </tr>\n",
       "    <tr>\n",
       "      <th>785</th>\n",
       "      <td>786</td>\n",
       "      <td>0.999798</td>\n",
       "      <td>0.999798</td>\n",
       "      <td>False</td>\n",
       "    </tr>\n",
       "  </tbody>\n",
       "</table>\n",
       "<p>7097 rows × 4 columns</p>\n",
       "</div>"
      ],
      "text/plain": [
       "     Metabolite  T-test p-value  FDR p-value  Reject H0\n",
       "7000       7001        0.000160     0.189336      False\n",
       "6395       6396        0.000155     0.189336      False\n",
       "6336       6337        0.000126     0.189336      False\n",
       "5407       5408        0.000114     0.189336      False\n",
       "5064       5065        0.000094     0.189336      False\n",
       "...         ...             ...          ...        ...\n",
       "1521       1522        0.998874     0.999297      False\n",
       "4043       4044        0.998829     0.999297      False\n",
       "1590       1591        0.999103     0.999385      False\n",
       "4765       4766        0.999608     0.999749      False\n",
       "785         786        0.999798     0.999798      False\n",
       "\n",
       "[7097 rows x 4 columns]"
      ]
     },
     "execution_count": 55,
     "metadata": {},
     "output_type": "execute_result"
    }
   ],
   "source": [
    "MSttest_result"
   ]
  },
  {
   "cell_type": "code",
   "execution_count": 56,
   "metadata": {},
   "outputs": [],
   "source": [
    "# drop columns that are not useful. \n",
    "MSttest_result2 = MSttest_result.drop(['Reject H0'], axis=1)\n",
    "# merge dataframe for paper figure\n",
    "MS_excel_metabolites = pd.merge(df, \n",
    "                                   MSttest_result2, \n",
    "                                   on='Metabolite')"
   ]
  },
  {
   "cell_type": "code",
   "execution_count": 57,
   "metadata": {},
   "outputs": [
    {
     "data": {
      "text/html": [
       "<div>\n",
       "<style scoped>\n",
       "    .dataframe tbody tr th:only-of-type {\n",
       "        vertical-align: middle;\n",
       "    }\n",
       "\n",
       "    .dataframe tbody tr th {\n",
       "        vertical-align: top;\n",
       "    }\n",
       "\n",
       "    .dataframe thead th {\n",
       "        text-align: right;\n",
       "    }\n",
       "</style>\n",
       "<table border=\"1\" class=\"dataframe\">\n",
       "  <thead>\n",
       "    <tr style=\"text-align: right;\">\n",
       "      <th></th>\n",
       "      <th>Metabolite</th>\n",
       "      <th>FC</th>\n",
       "      <th>T-test p-value</th>\n",
       "      <th>FDR p-value</th>\n",
       "    </tr>\n",
       "  </thead>\n",
       "  <tbody>\n",
       "    <tr>\n",
       "      <th>0</th>\n",
       "      <td>1</td>\n",
       "      <td>0.45</td>\n",
       "      <td>0.181627</td>\n",
       "      <td>0.756414</td>\n",
       "    </tr>\n",
       "    <tr>\n",
       "      <th>1</th>\n",
       "      <td>2</td>\n",
       "      <td>-0.04</td>\n",
       "      <td>0.717363</td>\n",
       "      <td>0.893808</td>\n",
       "    </tr>\n",
       "    <tr>\n",
       "      <th>2</th>\n",
       "      <td>3</td>\n",
       "      <td>-0.05</td>\n",
       "      <td>0.874073</td>\n",
       "      <td>0.958537</td>\n",
       "    </tr>\n",
       "    <tr>\n",
       "      <th>3</th>\n",
       "      <td>4</td>\n",
       "      <td>0.32</td>\n",
       "      <td>0.641434</td>\n",
       "      <td>0.861020</td>\n",
       "    </tr>\n",
       "    <tr>\n",
       "      <th>4</th>\n",
       "      <td>5</td>\n",
       "      <td>-8.85</td>\n",
       "      <td>0.231517</td>\n",
       "      <td>0.756414</td>\n",
       "    </tr>\n",
       "  </tbody>\n",
       "</table>\n",
       "</div>"
      ],
      "text/plain": [
       "  Metabolite    FC  T-test p-value  FDR p-value\n",
       "0          1  0.45        0.181627     0.756414\n",
       "1          2 -0.04        0.717363     0.893808\n",
       "2          3 -0.05        0.874073     0.958537\n",
       "3          4  0.32        0.641434     0.861020\n",
       "4          5 -8.85        0.231517     0.756414"
      ]
     },
     "execution_count": 57,
     "metadata": {},
     "output_type": "execute_result"
    }
   ],
   "source": [
    "MS_excel_metabolites.head()"
   ]
  },
  {
   "cell_type": "code",
   "execution_count": 59,
   "metadata": {},
   "outputs": [
    {
     "data": {
      "text/plain": [
       "(7097, 4)"
      ]
     },
     "execution_count": 59,
     "metadata": {},
     "output_type": "execute_result"
    }
   ],
   "source": [
    "MS_excel_metabolites.shape"
   ]
  },
  {
   "cell_type": "code",
   "execution_count": 65,
   "metadata": {},
   "outputs": [
    {
     "data": {
      "text/html": [
       "<div>\n",
       "<style scoped>\n",
       "    .dataframe tbody tr th:only-of-type {\n",
       "        vertical-align: middle;\n",
       "    }\n",
       "\n",
       "    .dataframe tbody tr th {\n",
       "        vertical-align: top;\n",
       "    }\n",
       "\n",
       "    .dataframe thead th {\n",
       "        text-align: right;\n",
       "    }\n",
       "</style>\n",
       "<table border=\"1\" class=\"dataframe\">\n",
       "  <thead>\n",
       "    <tr style=\"text-align: right;\">\n",
       "      <th></th>\n",
       "      <th>Metabolite</th>\n",
       "      <th>Mode</th>\n",
       "      <th>RT [min]</th>\n",
       "      <th>Name</th>\n",
       "      <th>Formula</th>\n",
       "    </tr>\n",
       "  </thead>\n",
       "  <tbody>\n",
       "    <tr>\n",
       "      <th>0</th>\n",
       "      <td>50</td>\n",
       "      <td>positive</td>\n",
       "      <td>3.784</td>\n",
       "      <td>Betaine</td>\n",
       "      <td>C5 H11 N O2</td>\n",
       "    </tr>\n",
       "    <tr>\n",
       "      <th>1</th>\n",
       "      <td>227</td>\n",
       "      <td>positive</td>\n",
       "      <td>3.393</td>\n",
       "      <td>O-Desmethyltramadol</td>\n",
       "      <td>C15 H23 N O2</td>\n",
       "    </tr>\n",
       "    <tr>\n",
       "      <th>2</th>\n",
       "      <td>248</td>\n",
       "      <td>positive</td>\n",
       "      <td>5.127</td>\n",
       "      <td>248</td>\n",
       "      <td>NaN</td>\n",
       "    </tr>\n",
       "    <tr>\n",
       "      <th>3</th>\n",
       "      <td>368</td>\n",
       "      <td>positive</td>\n",
       "      <td>1.483</td>\n",
       "      <td>Oxybenzone</td>\n",
       "      <td>C14 H12 O3</td>\n",
       "    </tr>\n",
       "    <tr>\n",
       "      <th>4</th>\n",
       "      <td>628</td>\n",
       "      <td>positive</td>\n",
       "      <td>1.660</td>\n",
       "      <td>capuride</td>\n",
       "      <td>C9 H18 N2 O2</td>\n",
       "    </tr>\n",
       "  </tbody>\n",
       "</table>\n",
       "</div>"
      ],
      "text/plain": [
       "   Metabolite      Mode  RT [min]                 Name       Formula\n",
       "0          50  positive     3.784              Betaine   C5 H11 N O2\n",
       "1         227  positive     3.393  O-Desmethyltramadol  C15 H23 N O2\n",
       "2         248  positive     5.127                  248           NaN\n",
       "3         368  positive     1.483           Oxybenzone    C14 H12 O3\n",
       "4         628  positive     1.660             capuride  C9 H18 N2 O2"
      ]
     },
     "execution_count": 65,
     "metadata": {},
     "output_type": "execute_result"
    }
   ],
   "source": [
    "# drop unnecessary column and rename ID to metabolite.\n",
    "MSqmarker = MSqmarker_dataframe.drop(['Unnamed: 0'], axis=1).rename(columns={\"ID\": \"Metabolite\"})\n",
    "MSqmarker.head()"
   ]
  },
  {
   "cell_type": "code",
   "execution_count": 66,
   "metadata": {},
   "outputs": [],
   "source": [
    "MS_excel = pd.merge(MS_excel_metabolites, \n",
    "                    MSqmarker, \n",
    "                    on='Metabolite')"
   ]
  },
  {
   "cell_type": "code",
   "execution_count": 67,
   "metadata": {},
   "outputs": [
    {
     "data": {
      "text/html": [
       "<div>\n",
       "<style scoped>\n",
       "    .dataframe tbody tr th:only-of-type {\n",
       "        vertical-align: middle;\n",
       "    }\n",
       "\n",
       "    .dataframe tbody tr th {\n",
       "        vertical-align: top;\n",
       "    }\n",
       "\n",
       "    .dataframe thead th {\n",
       "        text-align: right;\n",
       "    }\n",
       "</style>\n",
       "<table border=\"1\" class=\"dataframe\">\n",
       "  <thead>\n",
       "    <tr style=\"text-align: right;\">\n",
       "      <th></th>\n",
       "      <th>Metabolite</th>\n",
       "      <th>FC</th>\n",
       "      <th>T-test p-value</th>\n",
       "      <th>FDR p-value</th>\n",
       "      <th>Mode</th>\n",
       "      <th>RT [min]</th>\n",
       "      <th>Name</th>\n",
       "      <th>Formula</th>\n",
       "    </tr>\n",
       "  </thead>\n",
       "  <tbody>\n",
       "    <tr>\n",
       "      <th>0</th>\n",
       "      <td>50</td>\n",
       "      <td>-1.04</td>\n",
       "      <td>0.019741</td>\n",
       "      <td>0.608919</td>\n",
       "      <td>positive</td>\n",
       "      <td>3.784</td>\n",
       "      <td>Betaine</td>\n",
       "      <td>C5 H11 N O2</td>\n",
       "    </tr>\n",
       "    <tr>\n",
       "      <th>1</th>\n",
       "      <td>227</td>\n",
       "      <td>-4.94</td>\n",
       "      <td>0.080254</td>\n",
       "      <td>0.698281</td>\n",
       "      <td>positive</td>\n",
       "      <td>3.393</td>\n",
       "      <td>O-Desmethyltramadol</td>\n",
       "      <td>C15 H23 N O2</td>\n",
       "    </tr>\n",
       "    <tr>\n",
       "      <th>2</th>\n",
       "      <td>248</td>\n",
       "      <td>2.31</td>\n",
       "      <td>0.000253</td>\n",
       "      <td>0.243436</td>\n",
       "      <td>positive</td>\n",
       "      <td>5.127</td>\n",
       "      <td>248</td>\n",
       "      <td>NaN</td>\n",
       "    </tr>\n",
       "    <tr>\n",
       "      <th>3</th>\n",
       "      <td>368</td>\n",
       "      <td>-2.85</td>\n",
       "      <td>0.077946</td>\n",
       "      <td>0.697608</td>\n",
       "      <td>positive</td>\n",
       "      <td>1.483</td>\n",
       "      <td>Oxybenzone</td>\n",
       "      <td>C14 H12 O3</td>\n",
       "    </tr>\n",
       "    <tr>\n",
       "      <th>4</th>\n",
       "      <td>628</td>\n",
       "      <td>-1.74</td>\n",
       "      <td>0.039229</td>\n",
       "      <td>0.662882</td>\n",
       "      <td>positive</td>\n",
       "      <td>1.660</td>\n",
       "      <td>capuride</td>\n",
       "      <td>C9 H18 N2 O2</td>\n",
       "    </tr>\n",
       "  </tbody>\n",
       "</table>\n",
       "</div>"
      ],
      "text/plain": [
       "  Metabolite    FC  T-test p-value  FDR p-value      Mode  RT [min]  \\\n",
       "0         50 -1.04        0.019741     0.608919  positive     3.784   \n",
       "1        227 -4.94        0.080254     0.698281  positive     3.393   \n",
       "2        248  2.31        0.000253     0.243436  positive     5.127   \n",
       "3        368 -2.85        0.077946     0.697608  positive     1.483   \n",
       "4        628 -1.74        0.039229     0.662882  positive     1.660   \n",
       "\n",
       "                  Name       Formula  \n",
       "0              Betaine   C5 H11 N O2  \n",
       "1  O-Desmethyltramadol  C15 H23 N O2  \n",
       "2                  248           NaN  \n",
       "3           Oxybenzone    C14 H12 O3  \n",
       "4             capuride  C9 H18 N2 O2  "
      ]
     },
     "execution_count": 67,
     "metadata": {},
     "output_type": "execute_result"
    }
   ],
   "source": [
    "MS_excel.head()"
   ]
  },
  {
   "cell_type": "code",
   "execution_count": 69,
   "metadata": {},
   "outputs": [
    {
     "data": {
      "text/plain": [
       "(171, 8)"
      ]
     },
     "execution_count": 69,
     "metadata": {},
     "output_type": "execute_result"
    }
   ],
   "source": [
    "MS_excel.shape"
   ]
  },
  {
   "cell_type": "code",
   "execution_count": null,
   "metadata": {},
   "outputs": [],
   "source": [
    "# round all numbers to 2 decimal places\n",
    "#MS_excel_metabolites.round(3);"
   ]
  },
  {
   "cell_type": "code",
   "execution_count": 70,
   "metadata": {},
   "outputs": [
    {
     "name": "stdout",
     "output_type": "stream",
     "text": [
      "DataFrame is written to Excel File successfully.\n"
     ]
    }
   ],
   "source": [
    "# saving the excel \n",
    "#MS_excel.round(3).to_excel(\"MS_foldchanges_tTest.xlsx\") \n",
    "print('DataFrame is written to Excel File successfully.')"
   ]
  },
  {
   "cell_type": "code",
   "execution_count": null,
   "metadata": {},
   "outputs": [],
   "source": []
  },
  {
   "cell_type": "code",
   "execution_count": null,
   "metadata": {},
   "outputs": [],
   "source": []
  }
 ],
 "metadata": {
  "kernelspec": {
   "display_name": "Python 3",
   "language": "python",
   "name": "python3"
  },
  "language_info": {
   "codemirror_mode": {
    "name": "ipython",
    "version": 3
   },
   "file_extension": ".py",
   "mimetype": "text/x-python",
   "name": "python",
   "nbconvert_exporter": "python",
   "pygments_lexer": "ipython3",
   "version": "3.6.8"
  }
 },
 "nbformat": 4,
 "nbformat_minor": 4
}
