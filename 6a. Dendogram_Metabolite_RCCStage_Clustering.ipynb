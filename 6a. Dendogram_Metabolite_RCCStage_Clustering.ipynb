{
 "cells": [
  {
   "cell_type": "markdown",
   "metadata": {},
   "source": [
    "# Metabolites RCC Cancer Stages Clustering\n",
    "\n",
    "Author: Olatomiwa Bifarin<br>\n",
    "Department of Biochemistry and Molecular Biology<br>\n",
    "University of Georgia<br>\n",
    "Edison Lab<br>\n",
    "\n",
    "Last edited: 04DEC2019 \n",
    "\n",
    "_This is a static version of a Jupyter notebook, and work (documentation) is still in progress_ \n",
    "\n",
    "**Goal**: \n",
    "\n",
    "### Notebook Outline\n",
    "\n",
    "1. [Load Data/Feature Selection](#1)\n",
    "2. [Plot Dendograms](#2)"
   ]
  },
  {
   "cell_type": "code",
   "execution_count": null,
   "metadata": {},
   "outputs": [],
   "source": [
    "import statlib\n",
    ">>> print statlib.__version__"
   ]
  },
  {
   "cell_type": "code",
   "execution_count": 2,
   "metadata": {},
   "outputs": [],
   "source": [
    "#import python packages and libraries\n",
    "import numpy as np\n",
    "import pandas as pd\n",
    "from matplotlib import pyplot as plt\n",
    "from matplotlib import style\n",
    "import math\n",
    "import scipy\n",
    "from scipy import stats\n",
    "import statsmodels as sms\n",
    "from statsmodels.stats import multitest\n",
    "from scipy.stats import shapiro\n",
    "\n",
    "#For Seaborn plots\n",
    "import seaborn as sns; sns.set(style='white')\n",
    "\n",
    "#To ignore warning\n",
    "import warnings\n",
    "warnings.filterwarnings('ignore')\n",
    "\n",
    "# More sharp and legible graphics\n",
    "%config InlineBackend.figure_format = 'retina'\n",
    "\n",
    "# Set seaborn figure labels to 'talk', to be more visible. \n",
    "sns.set_context('paper')"
   ]
  },
  {
   "cell_type": "markdown",
   "metadata": {},
   "source": [
    "_Plotly Libraries_"
   ]
  },
  {
   "cell_type": "code",
   "execution_count": 3,
   "metadata": {},
   "outputs": [
    {
     "data": {
      "text/html": [
       "        <script type=\"text/javascript\">\n",
       "        window.PlotlyConfig = {MathJaxConfig: 'local'};\n",
       "        if (window.MathJax) {MathJax.Hub.Config({SVG: {font: \"STIX-Web\"}});}\n",
       "        if (typeof require !== 'undefined') {\n",
       "        require.undef(\"plotly\");\n",
       "        requirejs.config({\n",
       "            paths: {\n",
       "                'plotly': ['https://cdn.plot.ly/plotly-latest.min']\n",
       "            }\n",
       "        });\n",
       "        require(['plotly'], function(Plotly) {\n",
       "            window._Plotly = Plotly;\n",
       "        });\n",
       "        }\n",
       "        </script>\n",
       "        "
      ]
     },
     "metadata": {},
     "output_type": "display_data"
    }
   ],
   "source": [
    "import plotly as py\n",
    "import plotly.graph_objs as go\n",
    "\n",
    "import networkx as nx\n",
    "\n",
    "py.offline.init_notebook_mode(connected=True)"
   ]
  },
  {
   "cell_type": "markdown",
   "metadata": {},
   "source": [
    "## 1. Load Data / Feature Selection\n",
    "<a id=\"1\"></a>"
   ]
  },
  {
   "cell_type": "markdown",
   "metadata": {},
   "source": [
    "`MLfeatures` are features selected by fold change and t-test filtering in this notebook. `RFE_MLfeatures` was uploaded, and the features were selected from 2 fold changes, t-test p<0.05, in addition to RF-RFECV. Be sure to chose the appropriate inputs for `sRCC` and `smRCC`."
   ]
  },
  {
   "cell_type": "code",
   "execution_count": 4,
   "metadata": {},
   "outputs": [],
   "source": [
    "RFE_MLfeatures = pd.read_excel('RCCdata/MLfeatures_40StagePredictor.xlsx')"
   ]
  },
  {
   "cell_type": "markdown",
   "metadata": {},
   "source": [
    "## 2. Plot Dendograms\n",
    "<a id=\"2\"></a>"
   ]
  },
  {
   "cell_type": "markdown",
   "metadata": {},
   "source": [
    "___Set up HCA Clusters___"
   ]
  },
  {
   "cell_type": "code",
   "execution_count": 6,
   "metadata": {},
   "outputs": [],
   "source": [
    "df = pd.read_excel('data/combinedNMRMS_DuplicatesRemoved.xlsx')\n",
    "df.drop(['MS_ID'], axis=1, inplace=True)\n",
    "dfRCC = pd.read_excel('RCCdata/RCC_MetaData_01JUL2019.xlsx')\n",
    "\n",
    "dfRCC = dfRCC.filter(['Sample_ID', 'Metastatic', 'SubTypes', \n",
    "                      'Nuclear Grade', 'Grade', 'Tstage', \n",
    "                      'Tstage Group', 'Nstage', 'Mstage', \n",
    "                      'Stage', 'Grouped Stage','Tumor Width'], axis=1)\n",
    "\n",
    "RCCdataframe = pd.merge(df, dfRCC, on='Sample_ID') # Merge the two dataframe on Sample ID"
   ]
  },
  {
   "cell_type": "code",
   "execution_count": 7,
   "metadata": {},
   "outputs": [],
   "source": [
    "# index of grouped stage in RCCdataframe\n",
    "stage_loc = RCCdataframe.columns.get_loc(\"Stage\") \n",
    "# marker is the dataframe for our boxplot\n",
    "sRCC = RCCdataframe.iloc[:, stage_loc].to_frame().join(RFE_MLfeatures).dropna()"
   ]
  },
  {
   "cell_type": "code",
   "execution_count": 8,
   "metadata": {},
   "outputs": [
    {
     "data": {
      "text/html": [
       "<div>\n",
       "<style scoped>\n",
       "    .dataframe tbody tr th:only-of-type {\n",
       "        vertical-align: middle;\n",
       "    }\n",
       "\n",
       "    .dataframe tbody tr th {\n",
       "        vertical-align: top;\n",
       "    }\n",
       "\n",
       "    .dataframe thead th {\n",
       "        text-align: right;\n",
       "    }\n",
       "</style>\n",
       "<table border=\"1\" class=\"dataframe\">\n",
       "  <thead>\n",
       "    <tr style=\"text-align: right;\">\n",
       "      <th></th>\n",
       "      <th>Stage</th>\n",
       "      <th>4116</th>\n",
       "      <th>6912</th>\n",
       "      <th>248</th>\n",
       "      <th>4-Guanidinobutanoate</th>\n",
       "      <th>5087</th>\n",
       "      <th>2313</th>\n",
       "      <th>1536</th>\n",
       "      <th>7001</th>\n",
       "      <th>5379</th>\n",
       "      <th>...</th>\n",
       "      <th>5420</th>\n",
       "      <th>6952</th>\n",
       "      <th>3093</th>\n",
       "      <th>3370</th>\n",
       "      <th>5898</th>\n",
       "      <th>6980</th>\n",
       "      <th>3405</th>\n",
       "      <th>6994</th>\n",
       "      <th>Coumarin</th>\n",
       "      <th>4992</th>\n",
       "    </tr>\n",
       "  </thead>\n",
       "  <tbody>\n",
       "    <tr>\n",
       "      <th>0</th>\n",
       "      <td>1.0</td>\n",
       "      <td>-0.361192</td>\n",
       "      <td>-0.046419</td>\n",
       "      <td>-0.080780</td>\n",
       "      <td>-0.041930</td>\n",
       "      <td>-0.511155</td>\n",
       "      <td>-0.701577</td>\n",
       "      <td>-0.023649</td>\n",
       "      <td>1.374757</td>\n",
       "      <td>1.612282</td>\n",
       "      <td>...</td>\n",
       "      <td>-0.548525</td>\n",
       "      <td>-0.242347</td>\n",
       "      <td>-0.766826</td>\n",
       "      <td>-0.627737</td>\n",
       "      <td>-0.533164</td>\n",
       "      <td>-0.120953</td>\n",
       "      <td>0.665469</td>\n",
       "      <td>-0.237698</td>\n",
       "      <td>0.427669</td>\n",
       "      <td>-0.501679</td>\n",
       "    </tr>\n",
       "    <tr>\n",
       "      <th>7</th>\n",
       "      <td>2.0</td>\n",
       "      <td>-0.183863</td>\n",
       "      <td>-0.433287</td>\n",
       "      <td>-0.529760</td>\n",
       "      <td>1.203678</td>\n",
       "      <td>-0.188862</td>\n",
       "      <td>-0.124713</td>\n",
       "      <td>-0.364514</td>\n",
       "      <td>-0.737920</td>\n",
       "      <td>-0.701059</td>\n",
       "      <td>...</td>\n",
       "      <td>-0.022791</td>\n",
       "      <td>-0.241971</td>\n",
       "      <td>0.916776</td>\n",
       "      <td>-0.626818</td>\n",
       "      <td>-0.456342</td>\n",
       "      <td>0.044520</td>\n",
       "      <td>-0.271758</td>\n",
       "      <td>-0.236631</td>\n",
       "      <td>-0.290184</td>\n",
       "      <td>-0.015318</td>\n",
       "    </tr>\n",
       "    <tr>\n",
       "      <th>8</th>\n",
       "      <td>4.0</td>\n",
       "      <td>-0.716685</td>\n",
       "      <td>-0.747206</td>\n",
       "      <td>-0.536666</td>\n",
       "      <td>-0.368887</td>\n",
       "      <td>-0.496488</td>\n",
       "      <td>0.167831</td>\n",
       "      <td>-0.452046</td>\n",
       "      <td>-0.383390</td>\n",
       "      <td>-0.032353</td>\n",
       "      <td>...</td>\n",
       "      <td>-0.161990</td>\n",
       "      <td>-0.240362</td>\n",
       "      <td>0.297798</td>\n",
       "      <td>-0.625924</td>\n",
       "      <td>-0.456247</td>\n",
       "      <td>-0.247706</td>\n",
       "      <td>-0.666052</td>\n",
       "      <td>-0.235368</td>\n",
       "      <td>-0.286676</td>\n",
       "      <td>1.991044</td>\n",
       "    </tr>\n",
       "    <tr>\n",
       "      <th>9</th>\n",
       "      <td>1.0</td>\n",
       "      <td>-0.483315</td>\n",
       "      <td>-0.414518</td>\n",
       "      <td>-0.515254</td>\n",
       "      <td>0.457330</td>\n",
       "      <td>-0.519461</td>\n",
       "      <td>-0.977239</td>\n",
       "      <td>-0.102848</td>\n",
       "      <td>-0.918390</td>\n",
       "      <td>-0.741974</td>\n",
       "      <td>...</td>\n",
       "      <td>-0.547068</td>\n",
       "      <td>-0.243725</td>\n",
       "      <td>-0.814725</td>\n",
       "      <td>-0.625177</td>\n",
       "      <td>-0.555723</td>\n",
       "      <td>0.284578</td>\n",
       "      <td>-0.695203</td>\n",
       "      <td>-0.237766</td>\n",
       "      <td>-0.349675</td>\n",
       "      <td>-0.499516</td>\n",
       "    </tr>\n",
       "    <tr>\n",
       "      <th>10</th>\n",
       "      <td>1.0</td>\n",
       "      <td>0.693683</td>\n",
       "      <td>1.556351</td>\n",
       "      <td>-0.523502</td>\n",
       "      <td>2.267910</td>\n",
       "      <td>-0.478948</td>\n",
       "      <td>-0.157802</td>\n",
       "      <td>5.790984</td>\n",
       "      <td>-0.919091</td>\n",
       "      <td>-0.775003</td>\n",
       "      <td>...</td>\n",
       "      <td>2.538748</td>\n",
       "      <td>-0.238255</td>\n",
       "      <td>0.511055</td>\n",
       "      <td>1.190868</td>\n",
       "      <td>-0.335959</td>\n",
       "      <td>0.565419</td>\n",
       "      <td>5.874381</td>\n",
       "      <td>-0.234020</td>\n",
       "      <td>-0.338982</td>\n",
       "      <td>-0.381504</td>\n",
       "    </tr>\n",
       "  </tbody>\n",
       "</table>\n",
       "<p>5 rows × 41 columns</p>\n",
       "</div>"
      ],
      "text/plain": [
       "    Stage      4116      6912       248  4-Guanidinobutanoate      5087  \\\n",
       "0     1.0 -0.361192 -0.046419 -0.080780             -0.041930 -0.511155   \n",
       "7     2.0 -0.183863 -0.433287 -0.529760              1.203678 -0.188862   \n",
       "8     4.0 -0.716685 -0.747206 -0.536666             -0.368887 -0.496488   \n",
       "9     1.0 -0.483315 -0.414518 -0.515254              0.457330 -0.519461   \n",
       "10    1.0  0.693683  1.556351 -0.523502              2.267910 -0.478948   \n",
       "\n",
       "        2313      1536      7001      5379    ...         5420      6952  \\\n",
       "0  -0.701577 -0.023649  1.374757  1.612282    ...    -0.548525 -0.242347   \n",
       "7  -0.124713 -0.364514 -0.737920 -0.701059    ...    -0.022791 -0.241971   \n",
       "8   0.167831 -0.452046 -0.383390 -0.032353    ...    -0.161990 -0.240362   \n",
       "9  -0.977239 -0.102848 -0.918390 -0.741974    ...    -0.547068 -0.243725   \n",
       "10 -0.157802  5.790984 -0.919091 -0.775003    ...     2.538748 -0.238255   \n",
       "\n",
       "        3093      3370      5898      6980      3405      6994  Coumarin  \\\n",
       "0  -0.766826 -0.627737 -0.533164 -0.120953  0.665469 -0.237698  0.427669   \n",
       "7   0.916776 -0.626818 -0.456342  0.044520 -0.271758 -0.236631 -0.290184   \n",
       "8   0.297798 -0.625924 -0.456247 -0.247706 -0.666052 -0.235368 -0.286676   \n",
       "9  -0.814725 -0.625177 -0.555723  0.284578 -0.695203 -0.237766 -0.349675   \n",
       "10  0.511055  1.190868 -0.335959  0.565419  5.874381 -0.234020 -0.338982   \n",
       "\n",
       "        4992  \n",
       "0  -0.501679  \n",
       "7  -0.015318  \n",
       "8   1.991044  \n",
       "9  -0.499516  \n",
       "10 -0.381504  \n",
       "\n",
       "[5 rows x 41 columns]"
      ]
     },
     "execution_count": 8,
     "metadata": {},
     "output_type": "execute_result"
    }
   ],
   "source": [
    "sRCC.head()"
   ]
  },
  {
   "cell_type": "code",
   "execution_count": 9,
   "metadata": {},
   "outputs": [],
   "source": [
    "smRCC = sRCC.groupby(['Stage'])[RFE_MLfeatures.columns].mean()"
   ]
  },
  {
   "cell_type": "code",
   "execution_count": 10,
   "metadata": {},
   "outputs": [
    {
     "data": {
      "text/html": [
       "<div>\n",
       "<style scoped>\n",
       "    .dataframe tbody tr th:only-of-type {\n",
       "        vertical-align: middle;\n",
       "    }\n",
       "\n",
       "    .dataframe tbody tr th {\n",
       "        vertical-align: top;\n",
       "    }\n",
       "\n",
       "    .dataframe thead th {\n",
       "        text-align: right;\n",
       "    }\n",
       "</style>\n",
       "<table border=\"1\" class=\"dataframe\">\n",
       "  <thead>\n",
       "    <tr style=\"text-align: right;\">\n",
       "      <th></th>\n",
       "      <th>4116</th>\n",
       "      <th>6912</th>\n",
       "      <th>248</th>\n",
       "      <th>4-Guanidinobutanoate</th>\n",
       "      <th>5087</th>\n",
       "      <th>2313</th>\n",
       "      <th>1536</th>\n",
       "      <th>7001</th>\n",
       "      <th>5379</th>\n",
       "      <th>6835</th>\n",
       "      <th>...</th>\n",
       "      <th>5420</th>\n",
       "      <th>6952</th>\n",
       "      <th>3093</th>\n",
       "      <th>3370</th>\n",
       "      <th>5898</th>\n",
       "      <th>6980</th>\n",
       "      <th>3405</th>\n",
       "      <th>6994</th>\n",
       "      <th>Coumarin</th>\n",
       "      <th>4992</th>\n",
       "    </tr>\n",
       "    <tr>\n",
       "      <th>Stage</th>\n",
       "      <th></th>\n",
       "      <th></th>\n",
       "      <th></th>\n",
       "      <th></th>\n",
       "      <th></th>\n",
       "      <th></th>\n",
       "      <th></th>\n",
       "      <th></th>\n",
       "      <th></th>\n",
       "      <th></th>\n",
       "      <th></th>\n",
       "      <th></th>\n",
       "      <th></th>\n",
       "      <th></th>\n",
       "      <th></th>\n",
       "      <th></th>\n",
       "      <th></th>\n",
       "      <th></th>\n",
       "      <th></th>\n",
       "      <th></th>\n",
       "      <th></th>\n",
       "    </tr>\n",
       "  </thead>\n",
       "  <tbody>\n",
       "    <tr>\n",
       "      <th>1.0</th>\n",
       "      <td>0.068946</td>\n",
       "      <td>0.113343</td>\n",
       "      <td>-0.370678</td>\n",
       "      <td>0.236457</td>\n",
       "      <td>-0.047618</td>\n",
       "      <td>-0.353406</td>\n",
       "      <td>0.409517</td>\n",
       "      <td>-0.335921</td>\n",
       "      <td>-0.285697</td>\n",
       "      <td>-0.210524</td>\n",
       "      <td>...</td>\n",
       "      <td>-0.305774</td>\n",
       "      <td>0.348673</td>\n",
       "      <td>-0.322566</td>\n",
       "      <td>0.119108</td>\n",
       "      <td>-0.259899</td>\n",
       "      <td>0.030149</td>\n",
       "      <td>0.361249</td>\n",
       "      <td>0.345770</td>\n",
       "      <td>0.142171</td>\n",
       "      <td>-0.192668</td>\n",
       "    </tr>\n",
       "    <tr>\n",
       "      <th>2.0</th>\n",
       "      <td>0.575408</td>\n",
       "      <td>0.468139</td>\n",
       "      <td>-0.199940</td>\n",
       "      <td>0.299634</td>\n",
       "      <td>0.911816</td>\n",
       "      <td>0.057160</td>\n",
       "      <td>-0.106126</td>\n",
       "      <td>-0.384870</td>\n",
       "      <td>-0.398472</td>\n",
       "      <td>-0.374261</td>\n",
       "      <td>...</td>\n",
       "      <td>-0.125283</td>\n",
       "      <td>-0.240193</td>\n",
       "      <td>0.047161</td>\n",
       "      <td>0.199209</td>\n",
       "      <td>-0.163921</td>\n",
       "      <td>-0.014182</td>\n",
       "      <td>-0.008680</td>\n",
       "      <td>-0.233490</td>\n",
       "      <td>0.683233</td>\n",
       "      <td>-0.233527</td>\n",
       "    </tr>\n",
       "    <tr>\n",
       "      <th>3.0</th>\n",
       "      <td>-0.471921</td>\n",
       "      <td>-0.492232</td>\n",
       "      <td>0.451764</td>\n",
       "      <td>-0.356053</td>\n",
       "      <td>-0.351082</td>\n",
       "      <td>0.827150</td>\n",
       "      <td>-0.383217</td>\n",
       "      <td>0.865691</td>\n",
       "      <td>0.738885</td>\n",
       "      <td>0.368467</td>\n",
       "      <td>...</td>\n",
       "      <td>0.733499</td>\n",
       "      <td>-0.227120</td>\n",
       "      <td>0.442717</td>\n",
       "      <td>-0.501790</td>\n",
       "      <td>0.713593</td>\n",
       "      <td>-0.281767</td>\n",
       "      <td>-0.319993</td>\n",
       "      <td>-0.235176</td>\n",
       "      <td>-0.275234</td>\n",
       "      <td>0.343573</td>\n",
       "    </tr>\n",
       "    <tr>\n",
       "      <th>4.0</th>\n",
       "      <td>-0.425209</td>\n",
       "      <td>-0.438843</td>\n",
       "      <td>0.482634</td>\n",
       "      <td>-0.493717</td>\n",
       "      <td>-0.316607</td>\n",
       "      <td>0.102515</td>\n",
       "      <td>-0.248862</td>\n",
       "      <td>0.224475</td>\n",
       "      <td>0.235276</td>\n",
       "      <td>0.595777</td>\n",
       "      <td>...</td>\n",
       "      <td>0.198163</td>\n",
       "      <td>-0.242183</td>\n",
       "      <td>0.475947</td>\n",
       "      <td>-0.094138</td>\n",
       "      <td>0.201446</td>\n",
       "      <td>-0.316062</td>\n",
       "      <td>-0.317624</td>\n",
       "      <td>-0.236688</td>\n",
       "      <td>-0.197702</td>\n",
       "      <td>0.580351</td>\n",
       "    </tr>\n",
       "  </tbody>\n",
       "</table>\n",
       "<p>4 rows × 40 columns</p>\n",
       "</div>"
      ],
      "text/plain": [
       "           4116      6912       248  4-Guanidinobutanoate      5087      2313  \\\n",
       "Stage                                                                           \n",
       "1.0    0.068946  0.113343 -0.370678              0.236457 -0.047618 -0.353406   \n",
       "2.0    0.575408  0.468139 -0.199940              0.299634  0.911816  0.057160   \n",
       "3.0   -0.471921 -0.492232  0.451764             -0.356053 -0.351082  0.827150   \n",
       "4.0   -0.425209 -0.438843  0.482634             -0.493717 -0.316607  0.102515   \n",
       "\n",
       "           1536      7001      5379      6835    ...         5420      6952  \\\n",
       "Stage                                            ...                          \n",
       "1.0    0.409517 -0.335921 -0.285697 -0.210524    ...    -0.305774  0.348673   \n",
       "2.0   -0.106126 -0.384870 -0.398472 -0.374261    ...    -0.125283 -0.240193   \n",
       "3.0   -0.383217  0.865691  0.738885  0.368467    ...     0.733499 -0.227120   \n",
       "4.0   -0.248862  0.224475  0.235276  0.595777    ...     0.198163 -0.242183   \n",
       "\n",
       "           3093      3370      5898      6980      3405      6994  Coumarin  \\\n",
       "Stage                                                                         \n",
       "1.0   -0.322566  0.119108 -0.259899  0.030149  0.361249  0.345770  0.142171   \n",
       "2.0    0.047161  0.199209 -0.163921 -0.014182 -0.008680 -0.233490  0.683233   \n",
       "3.0    0.442717 -0.501790  0.713593 -0.281767 -0.319993 -0.235176 -0.275234   \n",
       "4.0    0.475947 -0.094138  0.201446 -0.316062 -0.317624 -0.236688 -0.197702   \n",
       "\n",
       "           4992  \n",
       "Stage            \n",
       "1.0   -0.192668  \n",
       "2.0   -0.233527  \n",
       "3.0    0.343573  \n",
       "4.0    0.580351  \n",
       "\n",
       "[4 rows x 40 columns]"
      ]
     },
     "execution_count": 10,
     "metadata": {},
     "output_type": "execute_result"
    }
   ],
   "source": [
    "smRCC"
   ]
  },
  {
   "cell_type": "code",
   "execution_count": 11,
   "metadata": {},
   "outputs": [
    {
     "data": {
      "text/html": [
       "<div>\n",
       "<style scoped>\n",
       "    .dataframe tbody tr th:only-of-type {\n",
       "        vertical-align: middle;\n",
       "    }\n",
       "\n",
       "    .dataframe tbody tr th {\n",
       "        vertical-align: top;\n",
       "    }\n",
       "\n",
       "    .dataframe thead th {\n",
       "        text-align: right;\n",
       "    }\n",
       "</style>\n",
       "<table border=\"1\" class=\"dataframe\">\n",
       "  <thead>\n",
       "    <tr style=\"text-align: right;\">\n",
       "      <th>Stage</th>\n",
       "      <th>1.0</th>\n",
       "      <th>2.0</th>\n",
       "      <th>3.0</th>\n",
       "      <th>4.0</th>\n",
       "    </tr>\n",
       "  </thead>\n",
       "  <tbody>\n",
       "    <tr>\n",
       "      <th>4116</th>\n",
       "      <td>0.068946</td>\n",
       "      <td>0.575408</td>\n",
       "      <td>-0.471921</td>\n",
       "      <td>-0.425209</td>\n",
       "    </tr>\n",
       "    <tr>\n",
       "      <th>6912</th>\n",
       "      <td>0.113343</td>\n",
       "      <td>0.468139</td>\n",
       "      <td>-0.492232</td>\n",
       "      <td>-0.438843</td>\n",
       "    </tr>\n",
       "    <tr>\n",
       "      <th>248</th>\n",
       "      <td>-0.370678</td>\n",
       "      <td>-0.199940</td>\n",
       "      <td>0.451764</td>\n",
       "      <td>0.482634</td>\n",
       "    </tr>\n",
       "    <tr>\n",
       "      <th>4-Guanidinobutanoate</th>\n",
       "      <td>0.236457</td>\n",
       "      <td>0.299634</td>\n",
       "      <td>-0.356053</td>\n",
       "      <td>-0.493717</td>\n",
       "    </tr>\n",
       "    <tr>\n",
       "      <th>5087</th>\n",
       "      <td>-0.047618</td>\n",
       "      <td>0.911816</td>\n",
       "      <td>-0.351082</td>\n",
       "      <td>-0.316607</td>\n",
       "    </tr>\n",
       "  </tbody>\n",
       "</table>\n",
       "</div>"
      ],
      "text/plain": [
       "Stage                      1.0       2.0       3.0       4.0\n",
       "4116                  0.068946  0.575408 -0.471921 -0.425209\n",
       "6912                  0.113343  0.468139 -0.492232 -0.438843\n",
       "248                  -0.370678 -0.199940  0.451764  0.482634\n",
       "4-Guanidinobutanoate  0.236457  0.299634 -0.356053 -0.493717\n",
       "5087                 -0.047618  0.911816 -0.351082 -0.316607"
      ]
     },
     "execution_count": 11,
     "metadata": {},
     "output_type": "execute_result"
    }
   ],
   "source": [
    "smtRCC = smRCC.T\n",
    "smtRCC.head()"
   ]
  },
  {
   "cell_type": "code",
   "execution_count": 12,
   "metadata": {},
   "outputs": [
    {
     "data": {
      "text/html": [
       "<div>\n",
       "<style scoped>\n",
       "    .dataframe tbody tr th:only-of-type {\n",
       "        vertical-align: middle;\n",
       "    }\n",
       "\n",
       "    .dataframe tbody tr th {\n",
       "        vertical-align: top;\n",
       "    }\n",
       "\n",
       "    .dataframe thead th {\n",
       "        text-align: right;\n",
       "    }\n",
       "</style>\n",
       "<table border=\"1\" class=\"dataframe\">\n",
       "  <thead>\n",
       "    <tr style=\"text-align: right;\">\n",
       "      <th></th>\n",
       "      <th>4116</th>\n",
       "      <th>6912</th>\n",
       "      <th>248</th>\n",
       "      <th>4-Guanidinobutanoate</th>\n",
       "      <th>5087</th>\n",
       "      <th>2313</th>\n",
       "      <th>1536</th>\n",
       "      <th>7001</th>\n",
       "      <th>5379</th>\n",
       "      <th>6835</th>\n",
       "      <th>...</th>\n",
       "      <th>5420</th>\n",
       "      <th>6952</th>\n",
       "      <th>3093</th>\n",
       "      <th>3370</th>\n",
       "      <th>5898</th>\n",
       "      <th>6980</th>\n",
       "      <th>3405</th>\n",
       "      <th>6994</th>\n",
       "      <th>Coumarin</th>\n",
       "      <th>4992</th>\n",
       "    </tr>\n",
       "    <tr>\n",
       "      <th>Stage</th>\n",
       "      <th></th>\n",
       "      <th></th>\n",
       "      <th></th>\n",
       "      <th></th>\n",
       "      <th></th>\n",
       "      <th></th>\n",
       "      <th></th>\n",
       "      <th></th>\n",
       "      <th></th>\n",
       "      <th></th>\n",
       "      <th></th>\n",
       "      <th></th>\n",
       "      <th></th>\n",
       "      <th></th>\n",
       "      <th></th>\n",
       "      <th></th>\n",
       "      <th></th>\n",
       "      <th></th>\n",
       "      <th></th>\n",
       "      <th></th>\n",
       "      <th></th>\n",
       "    </tr>\n",
       "  </thead>\n",
       "  <tbody>\n",
       "    <tr>\n",
       "      <th>1.0</th>\n",
       "      <td>0.068946</td>\n",
       "      <td>0.113343</td>\n",
       "      <td>-0.370678</td>\n",
       "      <td>0.236457</td>\n",
       "      <td>-0.047618</td>\n",
       "      <td>-0.353406</td>\n",
       "      <td>0.409517</td>\n",
       "      <td>-0.335921</td>\n",
       "      <td>-0.285697</td>\n",
       "      <td>-0.210524</td>\n",
       "      <td>...</td>\n",
       "      <td>-0.305774</td>\n",
       "      <td>0.348673</td>\n",
       "      <td>-0.322566</td>\n",
       "      <td>0.119108</td>\n",
       "      <td>-0.259899</td>\n",
       "      <td>0.030149</td>\n",
       "      <td>0.361249</td>\n",
       "      <td>0.345770</td>\n",
       "      <td>0.142171</td>\n",
       "      <td>-0.192668</td>\n",
       "    </tr>\n",
       "    <tr>\n",
       "      <th>2.0</th>\n",
       "      <td>0.575408</td>\n",
       "      <td>0.468139</td>\n",
       "      <td>-0.199940</td>\n",
       "      <td>0.299634</td>\n",
       "      <td>0.911816</td>\n",
       "      <td>0.057160</td>\n",
       "      <td>-0.106126</td>\n",
       "      <td>-0.384870</td>\n",
       "      <td>-0.398472</td>\n",
       "      <td>-0.374261</td>\n",
       "      <td>...</td>\n",
       "      <td>-0.125283</td>\n",
       "      <td>-0.240193</td>\n",
       "      <td>0.047161</td>\n",
       "      <td>0.199209</td>\n",
       "      <td>-0.163921</td>\n",
       "      <td>-0.014182</td>\n",
       "      <td>-0.008680</td>\n",
       "      <td>-0.233490</td>\n",
       "      <td>0.683233</td>\n",
       "      <td>-0.233527</td>\n",
       "    </tr>\n",
       "    <tr>\n",
       "      <th>3.0</th>\n",
       "      <td>-0.471921</td>\n",
       "      <td>-0.492232</td>\n",
       "      <td>0.451764</td>\n",
       "      <td>-0.356053</td>\n",
       "      <td>-0.351082</td>\n",
       "      <td>0.827150</td>\n",
       "      <td>-0.383217</td>\n",
       "      <td>0.865691</td>\n",
       "      <td>0.738885</td>\n",
       "      <td>0.368467</td>\n",
       "      <td>...</td>\n",
       "      <td>0.733499</td>\n",
       "      <td>-0.227120</td>\n",
       "      <td>0.442717</td>\n",
       "      <td>-0.501790</td>\n",
       "      <td>0.713593</td>\n",
       "      <td>-0.281767</td>\n",
       "      <td>-0.319993</td>\n",
       "      <td>-0.235176</td>\n",
       "      <td>-0.275234</td>\n",
       "      <td>0.343573</td>\n",
       "    </tr>\n",
       "    <tr>\n",
       "      <th>4.0</th>\n",
       "      <td>-0.425209</td>\n",
       "      <td>-0.438843</td>\n",
       "      <td>0.482634</td>\n",
       "      <td>-0.493717</td>\n",
       "      <td>-0.316607</td>\n",
       "      <td>0.102515</td>\n",
       "      <td>-0.248862</td>\n",
       "      <td>0.224475</td>\n",
       "      <td>0.235276</td>\n",
       "      <td>0.595777</td>\n",
       "      <td>...</td>\n",
       "      <td>0.198163</td>\n",
       "      <td>-0.242183</td>\n",
       "      <td>0.475947</td>\n",
       "      <td>-0.094138</td>\n",
       "      <td>0.201446</td>\n",
       "      <td>-0.316062</td>\n",
       "      <td>-0.317624</td>\n",
       "      <td>-0.236688</td>\n",
       "      <td>-0.197702</td>\n",
       "      <td>0.580351</td>\n",
       "    </tr>\n",
       "  </tbody>\n",
       "</table>\n",
       "<p>4 rows × 40 columns</p>\n",
       "</div>"
      ],
      "text/plain": [
       "           4116      6912       248  4-Guanidinobutanoate      5087      2313  \\\n",
       "Stage                                                                           \n",
       "1.0    0.068946  0.113343 -0.370678              0.236457 -0.047618 -0.353406   \n",
       "2.0    0.575408  0.468139 -0.199940              0.299634  0.911816  0.057160   \n",
       "3.0   -0.471921 -0.492232  0.451764             -0.356053 -0.351082  0.827150   \n",
       "4.0   -0.425209 -0.438843  0.482634             -0.493717 -0.316607  0.102515   \n",
       "\n",
       "           1536      7001      5379      6835    ...         5420      6952  \\\n",
       "Stage                                            ...                          \n",
       "1.0    0.409517 -0.335921 -0.285697 -0.210524    ...    -0.305774  0.348673   \n",
       "2.0   -0.106126 -0.384870 -0.398472 -0.374261    ...    -0.125283 -0.240193   \n",
       "3.0   -0.383217  0.865691  0.738885  0.368467    ...     0.733499 -0.227120   \n",
       "4.0   -0.248862  0.224475  0.235276  0.595777    ...     0.198163 -0.242183   \n",
       "\n",
       "           3093      3370      5898      6980      3405      6994  Coumarin  \\\n",
       "Stage                                                                         \n",
       "1.0   -0.322566  0.119108 -0.259899  0.030149  0.361249  0.345770  0.142171   \n",
       "2.0    0.047161  0.199209 -0.163921 -0.014182 -0.008680 -0.233490  0.683233   \n",
       "3.0    0.442717 -0.501790  0.713593 -0.281767 -0.319993 -0.235176 -0.275234   \n",
       "4.0    0.475947 -0.094138  0.201446 -0.316062 -0.317624 -0.236688 -0.197702   \n",
       "\n",
       "           4992  \n",
       "Stage            \n",
       "1.0   -0.192668  \n",
       "2.0   -0.233527  \n",
       "3.0    0.343573  \n",
       "4.0    0.580351  \n",
       "\n",
       "[4 rows x 40 columns]"
      ]
     },
     "execution_count": 12,
     "metadata": {},
     "output_type": "execute_result"
    }
   ],
   "source": [
    "smRCC.head()"
   ]
  },
  {
   "cell_type": "code",
   "execution_count": 13,
   "metadata": {},
   "outputs": [
    {
     "data": {
      "text/html": [
       "<div>\n",
       "<style scoped>\n",
       "    .dataframe tbody tr th:only-of-type {\n",
       "        vertical-align: middle;\n",
       "    }\n",
       "\n",
       "    .dataframe tbody tr th {\n",
       "        vertical-align: top;\n",
       "    }\n",
       "\n",
       "    .dataframe thead th {\n",
       "        text-align: right;\n",
       "    }\n",
       "</style>\n",
       "<table border=\"1\" class=\"dataframe\">\n",
       "  <thead>\n",
       "    <tr style=\"text-align: right;\">\n",
       "      <th>Stage</th>\n",
       "      <th>1.0</th>\n",
       "      <th>2.0</th>\n",
       "      <th>3.0</th>\n",
       "      <th>4.0</th>\n",
       "    </tr>\n",
       "  </thead>\n",
       "  <tbody>\n",
       "    <tr>\n",
       "      <th>4116</th>\n",
       "      <td>0.068946</td>\n",
       "      <td>0.575408</td>\n",
       "      <td>-0.471921</td>\n",
       "      <td>-0.425209</td>\n",
       "    </tr>\n",
       "    <tr>\n",
       "      <th>6912</th>\n",
       "      <td>0.113343</td>\n",
       "      <td>0.468139</td>\n",
       "      <td>-0.492232</td>\n",
       "      <td>-0.438843</td>\n",
       "    </tr>\n",
       "    <tr>\n",
       "      <th>248</th>\n",
       "      <td>-0.370678</td>\n",
       "      <td>-0.199940</td>\n",
       "      <td>0.451764</td>\n",
       "      <td>0.482634</td>\n",
       "    </tr>\n",
       "    <tr>\n",
       "      <th>4-Guanidinobutanoate</th>\n",
       "      <td>0.236457</td>\n",
       "      <td>0.299634</td>\n",
       "      <td>-0.356053</td>\n",
       "      <td>-0.493717</td>\n",
       "    </tr>\n",
       "    <tr>\n",
       "      <th>5087</th>\n",
       "      <td>-0.047618</td>\n",
       "      <td>0.911816</td>\n",
       "      <td>-0.351082</td>\n",
       "      <td>-0.316607</td>\n",
       "    </tr>\n",
       "  </tbody>\n",
       "</table>\n",
       "</div>"
      ],
      "text/plain": [
       "Stage                      1.0       2.0       3.0       4.0\n",
       "4116                  0.068946  0.575408 -0.471921 -0.425209\n",
       "6912                  0.113343  0.468139 -0.492232 -0.438843\n",
       "248                  -0.370678 -0.199940  0.451764  0.482634\n",
       "4-Guanidinobutanoate  0.236457  0.299634 -0.356053 -0.493717\n",
       "5087                 -0.047618  0.911816 -0.351082 -0.316607"
      ]
     },
     "execution_count": 13,
     "metadata": {},
     "output_type": "execute_result"
    }
   ],
   "source": [
    "smtRCC.head()"
   ]
  },
  {
   "cell_type": "code",
   "execution_count": 14,
   "metadata": {},
   "outputs": [],
   "source": [
    "from scipy.spatial.distance import pdist, squareform\n",
    "from scipy.cluster.hierarchy import linkage, dendrogram\n",
    "import scipy.cluster.hierarchy as hac\n",
    "\n",
    "import plotly.figure_factory as ff"
   ]
  },
  {
   "cell_type": "code",
   "execution_count": 15,
   "metadata": {},
   "outputs": [],
   "source": [
    "c_dist = pdist(smtRCC) # computing the distance\n",
    "c_link = linkage(smtRCC,  metric='correlation', method='complete')# computing the linkage"
   ]
  },
  {
   "cell_type": "markdown",
   "metadata": {},
   "source": [
    "### 3a. Plotly Heatmap Dendograms"
   ]
  },
  {
   "cell_type": "code",
   "execution_count": 18,
   "metadata": {},
   "outputs": [],
   "source": [
    "# Initialize figure by creating upper dendrogram\n",
    "fig = ff.create_dendrogram(c_link, orientation='bottom', labels=RFE_MLfeatures.columns)\n",
    "for i in range(len(fig['data'])):\n",
    "    fig['data'][i]['yaxis'] = 'y2'"
   ]
  },
  {
   "cell_type": "code",
   "execution_count": 19,
   "metadata": {},
   "outputs": [],
   "source": [
    "# Create Side Dendrogram\n",
    "dendro_side = ff.create_dendrogram(c_link, orientation='right')\n",
    "for i in range(len(dendro_side['data'])):\n",
    "    dendro_side['data'][i]['xaxis'] = 'x2'"
   ]
  },
  {
   "cell_type": "code",
   "execution_count": 20,
   "metadata": {},
   "outputs": [],
   "source": [
    "# Add Side Dendrogram Data to Figure\n",
    "for data in dendro_side['data']:\n",
    "    fig.add_trace(data)"
   ]
  },
  {
   "cell_type": "code",
   "execution_count": 21,
   "metadata": {},
   "outputs": [
    {
     "data": {
      "application/vnd.plotly.v1+json": {
       "config": {
        "linkText": "Export to plot.ly",
        "plotlyServerURL": "https://plot.ly",
        "responsive": true,
        "showLink": false
       },
       "data": [
        {
         "hoverinfo": "text",
         "marker": {
          "color": "rgb(61,153,112)"
         },
         "mode": "lines",
         "type": "scatter",
         "uid": "972fac7f-c3b6-4d78-ac19-e0f29525be78",
         "x": [
          15,
          15,
          25,
          25
         ],
         "xaxis": "x",
         "y": [
          0,
          4.472139836503849,
          4.472139836503849,
          0
         ],
         "yaxis": "y2"
        },
        {
         "hoverinfo": "text",
         "marker": {
          "color": "rgb(61,153,112)"
         },
         "mode": "lines",
         "type": "scatter",
         "uid": "aababd11-74f0-429b-a6aa-ea3ff33f63af",
         "x": [
          55,
          55,
          65,
          65
         ],
         "xaxis": "x",
         "y": [
          0,
          3.162277884686747,
          3.162277884686747,
          0
         ],
         "yaxis": "y2"
        },
        {
         "hoverinfo": "text",
         "marker": {
          "color": "rgb(61,153,112)"
         },
         "mode": "lines",
         "type": "scatter",
         "uid": "704aa0fe-a1a9-405a-83db-b024c03ef423",
         "x": [
          45,
          45,
          60,
          60
         ],
         "xaxis": "x",
         "y": [
          0,
          5.000034361093911,
          5.000034361093911,
          3.162277884686747
         ],
         "yaxis": "y2"
        },
        {
         "hoverinfo": "text",
         "marker": {
          "color": "rgb(61,153,112)"
         },
         "mode": "lines",
         "type": "scatter",
         "uid": "fe308fb6-1292-42a8-a33d-4e939dbb3aff",
         "x": [
          35,
          35,
          52.5,
          52.5
         ],
         "xaxis": "x",
         "y": [
          0,
          7.07107038069361,
          7.07107038069361,
          5.000034361093911
         ],
         "yaxis": "y2"
        },
        {
         "hoverinfo": "text",
         "marker": {
          "color": "rgb(61,153,112)"
         },
         "mode": "lines",
         "type": "scatter",
         "uid": "70000db9-5e00-448a-9c49-dcec572a7756",
         "x": [
          20,
          20,
          43.75,
          43.75
         ],
         "xaxis": "x",
         "y": [
          4.472139836503849,
          10.295638455283012,
          10.295638455283012,
          7.07107038069361
         ],
         "yaxis": "y2"
        },
        {
         "hoverinfo": "text",
         "marker": {
          "color": "rgb(61,153,112)"
         },
         "mode": "lines",
         "type": "scatter",
         "uid": "0b6f71f3-3132-44a7-b2c1-1d8b6876e8ca",
         "x": [
          5,
          5,
          31.875,
          31.875
         ],
         "xaxis": "x",
         "y": [
          0,
          13.000013687078997,
          13.000013687078997,
          10.295638455283012
         ],
         "yaxis": "y2"
        },
        {
         "hoverinfo": "text",
         "marker": {
          "color": "rgb(61,153,112)"
         },
         "mode": "lines",
         "type": "scatter",
         "uid": "0f2cf3a6-a762-4d7d-addc-2a5c158867b9",
         "x": [
          85,
          85,
          95,
          95
         ],
         "xaxis": "x",
         "y": [
          0,
          3.162320935128712,
          3.162320935128712,
          0
         ],
         "yaxis": "y2"
        },
        {
         "hoverinfo": "text",
         "marker": {
          "color": "rgb(61,153,112)"
         },
         "mode": "lines",
         "type": "scatter",
         "uid": "16ac6067-440a-425c-be04-c47b660063e8",
         "x": [
          115,
          115,
          125,
          125
         ],
         "xaxis": "x",
         "y": [
          0,
          3.6055518550348276,
          3.6055518550348276,
          0
         ],
         "yaxis": "y2"
        },
        {
         "hoverinfo": "text",
         "marker": {
          "color": "rgb(61,153,112)"
         },
         "mode": "lines",
         "type": "scatter",
         "uid": "17c8f5f4-1cf7-44d0-be1e-6a283051bfa6",
         "x": [
          105,
          105,
          120,
          120
         ],
         "xaxis": "x",
         "y": [
          0,
          7.071068164505779,
          7.071068164505779,
          3.6055518550348276
         ],
         "yaxis": "y2"
        },
        {
         "hoverinfo": "text",
         "marker": {
          "color": "rgb(61,153,112)"
         },
         "mode": "lines",
         "type": "scatter",
         "uid": "4367c7a1-b39d-490b-a1c5-615b2387bcfd",
         "x": [
          90,
          90,
          112.5,
          112.5
         ],
         "xaxis": "x",
         "y": [
          3.162320935128712,
          9.433992555326574,
          9.433992555326574,
          7.071068164505779
         ],
         "yaxis": "y2"
        },
        {
         "hoverinfo": "text",
         "marker": {
          "color": "rgb(61,153,112)"
         },
         "mode": "lines",
         "type": "scatter",
         "uid": "c112fd6e-620f-46aa-b3c0-49adbbcbd561",
         "x": [
          75,
          75,
          101.25,
          101.25
         ],
         "xaxis": "x",
         "y": [
          0,
          17.117242804824528,
          17.117242804824528,
          9.433992555326574
         ],
         "yaxis": "y2"
        },
        {
         "hoverinfo": "text",
         "marker": {
          "color": "rgb(61,153,112)"
         },
         "mode": "lines",
         "type": "scatter",
         "uid": "ef3d4a7d-570c-4c05-9247-0544386e3781",
         "x": [
          18.4375,
          18.4375,
          88.125,
          88.125
         ],
         "xaxis": "x",
         "y": [
          13.000013687078997,
          31.336879258897834,
          31.336879258897834,
          17.117242804824528
         ],
         "yaxis": "y2"
        },
        {
         "hoverinfo": "text",
         "marker": {
          "color": "rgb(61,153,112)"
         },
         "mode": "lines",
         "type": "scatter",
         "uid": "3b5eac58-e5ac-4799-92ca-15b27bfa2885",
         "x": [
          135,
          135,
          145,
          145
         ],
         "xaxis": "x",
         "y": [
          0,
          12.806299498327393,
          12.806299498327393,
          0
         ],
         "yaxis": "y2"
        },
        {
         "hoverinfo": "text",
         "marker": {
          "color": "rgb(61,153,112)"
         },
         "mode": "lines",
         "type": "scatter",
         "uid": "3951ad0e-0111-4fa3-9c0b-abd91078fc3c",
         "x": [
          165,
          165,
          175,
          175
         ],
         "xaxis": "x",
         "y": [
          0,
          5.00000010483329,
          5.00000010483329,
          0
         ],
         "yaxis": "y2"
        },
        {
         "hoverinfo": "text",
         "marker": {
          "color": "rgb(61,153,112)"
         },
         "mode": "lines",
         "type": "scatter",
         "uid": "117fe352-1b91-4548-9a14-564865500e90",
         "x": [
          155,
          155,
          170,
          170
         ],
         "xaxis": "x",
         "y": [
          0,
          10.677079446604132,
          10.677079446604132,
          5.00000010483329
         ],
         "yaxis": "y2"
        },
        {
         "hoverinfo": "text",
         "marker": {
          "color": "rgb(61,153,112)"
         },
         "mode": "lines",
         "type": "scatter",
         "uid": "12c724ef-5b97-450c-8d38-9a3cb69427ae",
         "x": [
          185,
          185,
          195,
          195
         ],
         "xaxis": "x",
         "y": [
          0,
          5.099020706346836,
          5.099020706346836,
          0
         ],
         "yaxis": "y2"
        },
        {
         "hoverinfo": "text",
         "marker": {
          "color": "rgb(61,153,112)"
         },
         "mode": "lines",
         "type": "scatter",
         "uid": "2d679df5-9715-4c86-a872-37d0d78da640",
         "x": [
          215,
          215,
          225,
          225
         ],
         "xaxis": "x",
         "y": [
          0,
          3.162278219465371,
          3.162278219465371,
          0
         ],
         "yaxis": "y2"
        },
        {
         "hoverinfo": "text",
         "marker": {
          "color": "rgb(61,153,112)"
         },
         "mode": "lines",
         "type": "scatter",
         "uid": "bf13192e-e3f4-4114-9933-569e2a46a0c4",
         "x": [
          205,
          205,
          220,
          220
         ],
         "xaxis": "x",
         "y": [
          0,
          5.744562715721172,
          5.744562715721172,
          3.162278219465371
         ],
         "yaxis": "y2"
        },
        {
         "hoverinfo": "text",
         "marker": {
          "color": "rgb(61,153,112)"
         },
         "mode": "lines",
         "type": "scatter",
         "uid": "d9531c1a-df9a-4328-9216-a4baa4d4bb06",
         "x": [
          190,
          190,
          212.5,
          212.5
         ],
         "xaxis": "x",
         "y": [
          5.099020706346836,
          12.529964647098643,
          12.529964647098643,
          5.744562715721172
         ],
         "yaxis": "y2"
        },
        {
         "hoverinfo": "text",
         "marker": {
          "color": "rgb(61,153,112)"
         },
         "mode": "lines",
         "type": "scatter",
         "uid": "0a8d7525-5654-4a33-8daf-4e391c36fe91",
         "x": [
          162.5,
          162.5,
          201.25,
          201.25
         ],
         "xaxis": "x",
         "y": [
          10.677079446604132,
          22.04540772776863,
          22.04540772776863,
          12.529964647098643
         ],
         "yaxis": "y2"
        },
        {
         "hoverinfo": "text",
         "marker": {
          "color": "rgb(61,153,112)"
         },
         "mode": "lines",
         "type": "scatter",
         "uid": "fd35ea39-291e-4468-b255-59aaaecc8f1e",
         "x": [
          140,
          140,
          181.875,
          181.875
         ],
         "xaxis": "x",
         "y": [
          12.806299498327393,
          31.638619231454616,
          31.638619231454616,
          22.04540772776863
         ],
         "yaxis": "y2"
        },
        {
         "hoverinfo": "text",
         "marker": {
          "color": "rgb(61,153,112)"
         },
         "mode": "lines",
         "type": "scatter",
         "uid": "074b3428-c97c-4ca0-b481-46fe1bcd4d5c",
         "x": [
          53.28125,
          53.28125,
          160.9375,
          160.9375
         ],
         "xaxis": "x",
         "y": [
          31.336879258897834,
          47.81213254434797,
          47.81213254434797,
          31.638619231454616
         ],
         "yaxis": "y2"
        },
        {
         "hoverinfo": "text",
         "marker": {
          "color": "rgb(255,65,54)"
         },
         "mode": "lines",
         "type": "scatter",
         "uid": "61143e9a-d2ab-4fa1-8fa1-801100f5c287",
         "x": [
          235,
          235,
          245,
          245
         ],
         "xaxis": "x",
         "y": [
          0,
          3.000313493284095,
          3.000313493284095,
          0
         ],
         "yaxis": "y2"
        },
        {
         "hoverinfo": "text",
         "marker": {
          "color": "rgb(255,65,54)"
         },
         "mode": "lines",
         "type": "scatter",
         "uid": "9b99856b-799d-475b-90bd-2a3b145db162",
         "x": [
          265,
          265,
          275,
          275
         ],
         "xaxis": "x",
         "y": [
          0,
          5.385916957183271,
          5.385916957183271,
          0
         ],
         "yaxis": "y2"
        },
        {
         "hoverinfo": "text",
         "marker": {
          "color": "rgb(255,65,54)"
         },
         "mode": "lines",
         "type": "scatter",
         "uid": "18dcb3bb-cfaf-4b37-95b8-8134b2c129c5",
         "x": [
          255,
          255,
          270,
          270
         ],
         "xaxis": "x",
         "y": [
          0,
          8.12435507701643,
          8.12435507701643,
          5.385916957183271
         ],
         "yaxis": "y2"
        },
        {
         "hoverinfo": "text",
         "marker": {
          "color": "rgb(255,65,54)"
         },
         "mode": "lines",
         "type": "scatter",
         "uid": "881de744-c47a-4f93-aa7c-3e3662e609eb",
         "x": [
          240,
          240,
          262.5,
          262.5
         ],
         "xaxis": "x",
         "y": [
          3.000313493284095,
          12.083073475291204,
          12.083073475291204,
          8.12435507701643
         ],
         "yaxis": "y2"
        },
        {
         "hoverinfo": "text",
         "marker": {
          "color": "rgb(255,65,54)"
         },
         "mode": "lines",
         "type": "scatter",
         "uid": "e76afc83-0b14-4700-80c0-c895c48be28c",
         "x": [
          295,
          295,
          305,
          305
         ],
         "xaxis": "x",
         "y": [
          0,
          3.741670183602487,
          3.741670183602487,
          0
         ],
         "yaxis": "y2"
        },
        {
         "hoverinfo": "text",
         "marker": {
          "color": "rgb(255,65,54)"
         },
         "mode": "lines",
         "type": "scatter",
         "uid": "4ba1edc2-b6c8-454d-92ba-47affca674f0",
         "x": [
          325,
          325,
          335,
          335
         ],
         "xaxis": "x",
         "y": [
          0,
          2.4494919602453358,
          2.4494919602453358,
          0
         ],
         "yaxis": "y2"
        },
        {
         "hoverinfo": "text",
         "marker": {
          "color": "rgb(255,65,54)"
         },
         "mode": "lines",
         "type": "scatter",
         "uid": "4edbd2d1-9d2d-46f6-8b6b-a77ea70d1b20",
         "x": [
          315,
          315,
          330,
          330
         ],
         "xaxis": "x",
         "y": [
          0,
          4.582580026681468,
          4.582580026681468,
          2.4494919602453358
         ],
         "yaxis": "y2"
        },
        {
         "hoverinfo": "text",
         "marker": {
          "color": "rgb(255,65,54)"
         },
         "mode": "lines",
         "type": "scatter",
         "uid": "38ac9dc8-5f99-480f-a83a-56b93e5bed2d",
         "x": [
          300,
          300,
          322.5,
          322.5
         ],
         "xaxis": "x",
         "y": [
          3.741670183602487,
          9.5394001410614,
          9.5394001410614,
          4.582580026681468
         ],
         "yaxis": "y2"
        },
        {
         "hoverinfo": "text",
         "marker": {
          "color": "rgb(255,65,54)"
         },
         "mode": "lines",
         "type": "scatter",
         "uid": "4793da62-62b9-4350-adfa-bf96e920fb9f",
         "x": [
          285,
          285,
          311.25,
          311.25
         ],
         "xaxis": "x",
         "y": [
          0,
          16.793138635002364,
          16.793138635002364,
          9.5394001410614
         ],
         "yaxis": "y2"
        },
        {
         "hoverinfo": "text",
         "marker": {
          "color": "rgb(255,65,54)"
         },
         "mode": "lines",
         "type": "scatter",
         "uid": "dbe649de-afcd-4520-9bfa-57dd3a18b7a0",
         "x": [
          251.25,
          251.25,
          298.125,
          298.125
         ],
         "xaxis": "x",
         "y": [
          12.083073475291204,
          26.551946111239463,
          26.551946111239463,
          16.793138635002364
         ],
         "yaxis": "y2"
        },
        {
         "hoverinfo": "text",
         "marker": {
          "color": "rgb(255,65,54)"
         },
         "mode": "lines",
         "type": "scatter",
         "uid": "e6d74e07-2419-4593-8bb2-304885ecb311",
         "x": [
          355,
          355,
          365,
          365
         ],
         "xaxis": "x",
         "y": [
          0,
          4.617336567135464,
          4.617336567135464,
          0
         ],
         "yaxis": "y2"
        },
        {
         "hoverinfo": "text",
         "marker": {
          "color": "rgb(255,65,54)"
         },
         "mode": "lines",
         "type": "scatter",
         "uid": "4ac95eb5-c6a9-4c1b-ab2b-33773080bbcf",
         "x": [
          375,
          375,
          385,
          385
         ],
         "xaxis": "x",
         "y": [
          0,
          5.831629587838298,
          5.831629587838298,
          0
         ],
         "yaxis": "y2"
        },
        {
         "hoverinfo": "text",
         "marker": {
          "color": "rgb(255,65,54)"
         },
         "mode": "lines",
         "type": "scatter",
         "uid": "6543e8af-6413-4747-8e52-d63d00180537",
         "x": [
          360,
          360,
          380,
          380
         ],
         "xaxis": "x",
         "y": [
          4.617336567135464,
          10.10208533375718,
          10.10208533375718,
          5.831629587838298
         ],
         "yaxis": "y2"
        },
        {
         "hoverinfo": "text",
         "marker": {
          "color": "rgb(255,65,54)"
         },
         "mode": "lines",
         "type": "scatter",
         "uid": "39ec16e9-2544-46c5-a419-fb47f5db3585",
         "x": [
          345,
          345,
          370,
          370
         ],
         "xaxis": "x",
         "y": [
          0,
          28.768399719271567,
          28.768399719271567,
          10.10208533375718
         ],
         "yaxis": "y2"
        },
        {
         "hoverinfo": "text",
         "marker": {
          "color": "rgb(255,65,54)"
         },
         "mode": "lines",
         "type": "scatter",
         "uid": "ad85f716-a3f9-4269-89aa-ab164f274394",
         "x": [
          274.6875,
          274.6875,
          357.5,
          357.5
         ],
         "xaxis": "x",
         "y": [
          26.551946111239463,
          55.25372973217474,
          55.25372973217474,
          28.768399719271567
         ],
         "yaxis": "y2"
        },
        {
         "hoverinfo": "text",
         "marker": {
          "color": "rgb(0,116,217)"
         },
         "mode": "lines",
         "type": "scatter",
         "uid": "457f2b51-12f3-42fb-b8a6-0638c4ab10b3",
         "x": [
          107.109375,
          107.109375,
          316.09375,
          316.09375
         ],
         "xaxis": "x",
         "y": [
          47.81213254434797,
          104.61831165991978,
          104.61831165991978,
          55.25372973217474
         ],
         "yaxis": "y2"
        },
        {
         "hoverinfo": "text",
         "marker": {
          "color": "rgb(61,153,112)"
         },
         "mode": "lines",
         "type": "scatter",
         "uid": "0d77238e-d048-49bf-9752-943aa6746c90",
         "x": [
          0,
          -4.472139836503849,
          -4.472139836503849,
          0
         ],
         "xaxis": "x2",
         "y": [
          15,
          15,
          25,
          25
         ],
         "yaxis": "y"
        },
        {
         "hoverinfo": "text",
         "marker": {
          "color": "rgb(61,153,112)"
         },
         "mode": "lines",
         "type": "scatter",
         "uid": "477af177-2680-429b-8585-72acc3efd952",
         "x": [
          0,
          -3.162277884686747,
          -3.162277884686747,
          0
         ],
         "xaxis": "x2",
         "y": [
          55,
          55,
          65,
          65
         ],
         "yaxis": "y"
        },
        {
         "hoverinfo": "text",
         "marker": {
          "color": "rgb(61,153,112)"
         },
         "mode": "lines",
         "type": "scatter",
         "uid": "9cbb2aac-85af-460b-b543-5b62c96804fb",
         "x": [
          0,
          -5.000034361093911,
          -5.000034361093911,
          -3.162277884686747
         ],
         "xaxis": "x2",
         "y": [
          45,
          45,
          60,
          60
         ],
         "yaxis": "y"
        },
        {
         "hoverinfo": "text",
         "marker": {
          "color": "rgb(61,153,112)"
         },
         "mode": "lines",
         "type": "scatter",
         "uid": "9726a946-eac0-4e1e-b3aa-1ff5db1277e6",
         "x": [
          0,
          -7.07107038069361,
          -7.07107038069361,
          -5.000034361093911
         ],
         "xaxis": "x2",
         "y": [
          35,
          35,
          52.5,
          52.5
         ],
         "yaxis": "y"
        },
        {
         "hoverinfo": "text",
         "marker": {
          "color": "rgb(61,153,112)"
         },
         "mode": "lines",
         "type": "scatter",
         "uid": "658d5d6c-79fa-4122-821f-0ef9a0c8731a",
         "x": [
          -4.472139836503849,
          -10.295638455283012,
          -10.295638455283012,
          -7.07107038069361
         ],
         "xaxis": "x2",
         "y": [
          20,
          20,
          43.75,
          43.75
         ],
         "yaxis": "y"
        },
        {
         "hoverinfo": "text",
         "marker": {
          "color": "rgb(61,153,112)"
         },
         "mode": "lines",
         "type": "scatter",
         "uid": "f1c7704d-ef4a-47ca-b01b-4406f5ccb232",
         "x": [
          0,
          -13.000013687078997,
          -13.000013687078997,
          -10.295638455283012
         ],
         "xaxis": "x2",
         "y": [
          5,
          5,
          31.875,
          31.875
         ],
         "yaxis": "y"
        },
        {
         "hoverinfo": "text",
         "marker": {
          "color": "rgb(61,153,112)"
         },
         "mode": "lines",
         "type": "scatter",
         "uid": "a582158c-d123-41ae-bb02-6ee307056e33",
         "x": [
          0,
          -3.162320935128712,
          -3.162320935128712,
          0
         ],
         "xaxis": "x2",
         "y": [
          85,
          85,
          95,
          95
         ],
         "yaxis": "y"
        },
        {
         "hoverinfo": "text",
         "marker": {
          "color": "rgb(61,153,112)"
         },
         "mode": "lines",
         "type": "scatter",
         "uid": "d2d36723-329a-44e4-a6a9-606ac9ba5aa7",
         "x": [
          0,
          -3.6055518550348276,
          -3.6055518550348276,
          0
         ],
         "xaxis": "x2",
         "y": [
          115,
          115,
          125,
          125
         ],
         "yaxis": "y"
        },
        {
         "hoverinfo": "text",
         "marker": {
          "color": "rgb(61,153,112)"
         },
         "mode": "lines",
         "type": "scatter",
         "uid": "f31eddae-a8a8-4d26-ada8-9fcd16261122",
         "x": [
          0,
          -7.071068164505779,
          -7.071068164505779,
          -3.6055518550348276
         ],
         "xaxis": "x2",
         "y": [
          105,
          105,
          120,
          120
         ],
         "yaxis": "y"
        },
        {
         "hoverinfo": "text",
         "marker": {
          "color": "rgb(61,153,112)"
         },
         "mode": "lines",
         "type": "scatter",
         "uid": "eed56f47-d1fb-45d0-a0e7-a51ae489a8e1",
         "x": [
          -3.162320935128712,
          -9.433992555326574,
          -9.433992555326574,
          -7.071068164505779
         ],
         "xaxis": "x2",
         "y": [
          90,
          90,
          112.5,
          112.5
         ],
         "yaxis": "y"
        },
        {
         "hoverinfo": "text",
         "marker": {
          "color": "rgb(61,153,112)"
         },
         "mode": "lines",
         "type": "scatter",
         "uid": "2696c615-c0fe-4754-9b12-ee9c2fc04a5c",
         "x": [
          0,
          -17.117242804824528,
          -17.117242804824528,
          -9.433992555326574
         ],
         "xaxis": "x2",
         "y": [
          75,
          75,
          101.25,
          101.25
         ],
         "yaxis": "y"
        },
        {
         "hoverinfo": "text",
         "marker": {
          "color": "rgb(61,153,112)"
         },
         "mode": "lines",
         "type": "scatter",
         "uid": "d128ef56-6a91-4ddf-a95c-ac8712db9601",
         "x": [
          -13.000013687078997,
          -31.336879258897834,
          -31.336879258897834,
          -17.117242804824528
         ],
         "xaxis": "x2",
         "y": [
          18.4375,
          18.4375,
          88.125,
          88.125
         ],
         "yaxis": "y"
        },
        {
         "hoverinfo": "text",
         "marker": {
          "color": "rgb(61,153,112)"
         },
         "mode": "lines",
         "type": "scatter",
         "uid": "898c07c3-8f68-4bd1-be64-267075aa49c7",
         "x": [
          0,
          -12.806299498327393,
          -12.806299498327393,
          0
         ],
         "xaxis": "x2",
         "y": [
          135,
          135,
          145,
          145
         ],
         "yaxis": "y"
        },
        {
         "hoverinfo": "text",
         "marker": {
          "color": "rgb(61,153,112)"
         },
         "mode": "lines",
         "type": "scatter",
         "uid": "3b7a7a0c-004d-4119-8b2e-ffff95e15249",
         "x": [
          0,
          -5.00000010483329,
          -5.00000010483329,
          0
         ],
         "xaxis": "x2",
         "y": [
          165,
          165,
          175,
          175
         ],
         "yaxis": "y"
        },
        {
         "hoverinfo": "text",
         "marker": {
          "color": "rgb(61,153,112)"
         },
         "mode": "lines",
         "type": "scatter",
         "uid": "7cc519f9-86de-4b6f-9b12-33d8fdd00613",
         "x": [
          0,
          -10.677079446604132,
          -10.677079446604132,
          -5.00000010483329
         ],
         "xaxis": "x2",
         "y": [
          155,
          155,
          170,
          170
         ],
         "yaxis": "y"
        },
        {
         "hoverinfo": "text",
         "marker": {
          "color": "rgb(61,153,112)"
         },
         "mode": "lines",
         "type": "scatter",
         "uid": "bf16e3f8-0758-42f6-8573-235c348106fc",
         "x": [
          0,
          -5.099020706346836,
          -5.099020706346836,
          0
         ],
         "xaxis": "x2",
         "y": [
          185,
          185,
          195,
          195
         ],
         "yaxis": "y"
        },
        {
         "hoverinfo": "text",
         "marker": {
          "color": "rgb(61,153,112)"
         },
         "mode": "lines",
         "type": "scatter",
         "uid": "acf51558-90d1-45c1-8d98-7231730fc414",
         "x": [
          0,
          -3.162278219465371,
          -3.162278219465371,
          0
         ],
         "xaxis": "x2",
         "y": [
          215,
          215,
          225,
          225
         ],
         "yaxis": "y"
        },
        {
         "hoverinfo": "text",
         "marker": {
          "color": "rgb(61,153,112)"
         },
         "mode": "lines",
         "type": "scatter",
         "uid": "0f84dd9a-86b5-4985-9299-9e68f28c0fd0",
         "x": [
          0,
          -5.744562715721172,
          -5.744562715721172,
          -3.162278219465371
         ],
         "xaxis": "x2",
         "y": [
          205,
          205,
          220,
          220
         ],
         "yaxis": "y"
        },
        {
         "hoverinfo": "text",
         "marker": {
          "color": "rgb(61,153,112)"
         },
         "mode": "lines",
         "type": "scatter",
         "uid": "e26eb41e-f1e9-4df4-aa4e-66d6d50fc584",
         "x": [
          -5.099020706346836,
          -12.529964647098643,
          -12.529964647098643,
          -5.744562715721172
         ],
         "xaxis": "x2",
         "y": [
          190,
          190,
          212.5,
          212.5
         ],
         "yaxis": "y"
        },
        {
         "hoverinfo": "text",
         "marker": {
          "color": "rgb(61,153,112)"
         },
         "mode": "lines",
         "type": "scatter",
         "uid": "717f6412-6c9a-4b53-8480-7df52a26448d",
         "x": [
          -10.677079446604132,
          -22.04540772776863,
          -22.04540772776863,
          -12.529964647098643
         ],
         "xaxis": "x2",
         "y": [
          162.5,
          162.5,
          201.25,
          201.25
         ],
         "yaxis": "y"
        },
        {
         "hoverinfo": "text",
         "marker": {
          "color": "rgb(61,153,112)"
         },
         "mode": "lines",
         "type": "scatter",
         "uid": "077c2c75-1cee-4e8c-982e-de8bf7f03ae6",
         "x": [
          -12.806299498327393,
          -31.638619231454616,
          -31.638619231454616,
          -22.04540772776863
         ],
         "xaxis": "x2",
         "y": [
          140,
          140,
          181.875,
          181.875
         ],
         "yaxis": "y"
        },
        {
         "hoverinfo": "text",
         "marker": {
          "color": "rgb(61,153,112)"
         },
         "mode": "lines",
         "type": "scatter",
         "uid": "b4919a1b-5fd2-4088-b7a9-40b4ed2ba2cd",
         "x": [
          -31.336879258897834,
          -47.81213254434797,
          -47.81213254434797,
          -31.638619231454616
         ],
         "xaxis": "x2",
         "y": [
          53.28125,
          53.28125,
          160.9375,
          160.9375
         ],
         "yaxis": "y"
        },
        {
         "hoverinfo": "text",
         "marker": {
          "color": "rgb(255,65,54)"
         },
         "mode": "lines",
         "type": "scatter",
         "uid": "c9d47d22-08c9-46b1-a0be-49eaece12f56",
         "x": [
          0,
          -3.000313493284095,
          -3.000313493284095,
          0
         ],
         "xaxis": "x2",
         "y": [
          235,
          235,
          245,
          245
         ],
         "yaxis": "y"
        },
        {
         "hoverinfo": "text",
         "marker": {
          "color": "rgb(255,65,54)"
         },
         "mode": "lines",
         "type": "scatter",
         "uid": "740a1513-f903-49b8-9c2d-3fe8ae777557",
         "x": [
          0,
          -5.385916957183271,
          -5.385916957183271,
          0
         ],
         "xaxis": "x2",
         "y": [
          265,
          265,
          275,
          275
         ],
         "yaxis": "y"
        },
        {
         "hoverinfo": "text",
         "marker": {
          "color": "rgb(255,65,54)"
         },
         "mode": "lines",
         "type": "scatter",
         "uid": "f720bceb-cddc-4802-81a0-82ad57824441",
         "x": [
          0,
          -8.12435507701643,
          -8.12435507701643,
          -5.385916957183271
         ],
         "xaxis": "x2",
         "y": [
          255,
          255,
          270,
          270
         ],
         "yaxis": "y"
        },
        {
         "hoverinfo": "text",
         "marker": {
          "color": "rgb(255,65,54)"
         },
         "mode": "lines",
         "type": "scatter",
         "uid": "793e0709-afd5-4ec8-91a4-ade7ecd87a45",
         "x": [
          -3.000313493284095,
          -12.083073475291204,
          -12.083073475291204,
          -8.12435507701643
         ],
         "xaxis": "x2",
         "y": [
          240,
          240,
          262.5,
          262.5
         ],
         "yaxis": "y"
        },
        {
         "hoverinfo": "text",
         "marker": {
          "color": "rgb(255,65,54)"
         },
         "mode": "lines",
         "type": "scatter",
         "uid": "e5672a04-ef00-47a3-8465-70923e665335",
         "x": [
          0,
          -3.741670183602487,
          -3.741670183602487,
          0
         ],
         "xaxis": "x2",
         "y": [
          295,
          295,
          305,
          305
         ],
         "yaxis": "y"
        },
        {
         "hoverinfo": "text",
         "marker": {
          "color": "rgb(255,65,54)"
         },
         "mode": "lines",
         "type": "scatter",
         "uid": "6a5e82ec-d3de-4065-8ab6-e3e2178e46d8",
         "x": [
          0,
          -2.4494919602453358,
          -2.4494919602453358,
          0
         ],
         "xaxis": "x2",
         "y": [
          325,
          325,
          335,
          335
         ],
         "yaxis": "y"
        },
        {
         "hoverinfo": "text",
         "marker": {
          "color": "rgb(255,65,54)"
         },
         "mode": "lines",
         "type": "scatter",
         "uid": "53550f7c-0040-48e4-be31-7ce24e71cfe7",
         "x": [
          0,
          -4.582580026681468,
          -4.582580026681468,
          -2.4494919602453358
         ],
         "xaxis": "x2",
         "y": [
          315,
          315,
          330,
          330
         ],
         "yaxis": "y"
        },
        {
         "hoverinfo": "text",
         "marker": {
          "color": "rgb(255,65,54)"
         },
         "mode": "lines",
         "type": "scatter",
         "uid": "bfe8dfdd-7b10-4ee6-b664-01ff99ab1396",
         "x": [
          -3.741670183602487,
          -9.5394001410614,
          -9.5394001410614,
          -4.582580026681468
         ],
         "xaxis": "x2",
         "y": [
          300,
          300,
          322.5,
          322.5
         ],
         "yaxis": "y"
        },
        {
         "hoverinfo": "text",
         "marker": {
          "color": "rgb(255,65,54)"
         },
         "mode": "lines",
         "type": "scatter",
         "uid": "068ed53a-1976-4cd8-aa45-734da9c1b9ce",
         "x": [
          0,
          -16.793138635002364,
          -16.793138635002364,
          -9.5394001410614
         ],
         "xaxis": "x2",
         "y": [
          285,
          285,
          311.25,
          311.25
         ],
         "yaxis": "y"
        },
        {
         "hoverinfo": "text",
         "marker": {
          "color": "rgb(255,65,54)"
         },
         "mode": "lines",
         "type": "scatter",
         "uid": "4d80e595-31d7-4d45-8d57-c6c28ed09467",
         "x": [
          -12.083073475291204,
          -26.551946111239463,
          -26.551946111239463,
          -16.793138635002364
         ],
         "xaxis": "x2",
         "y": [
          251.25,
          251.25,
          298.125,
          298.125
         ],
         "yaxis": "y"
        },
        {
         "hoverinfo": "text",
         "marker": {
          "color": "rgb(255,65,54)"
         },
         "mode": "lines",
         "type": "scatter",
         "uid": "9a32db0e-7704-4f6c-87be-645f953d5aa1",
         "x": [
          0,
          -4.617336567135464,
          -4.617336567135464,
          0
         ],
         "xaxis": "x2",
         "y": [
          355,
          355,
          365,
          365
         ],
         "yaxis": "y"
        },
        {
         "hoverinfo": "text",
         "marker": {
          "color": "rgb(255,65,54)"
         },
         "mode": "lines",
         "type": "scatter",
         "uid": "191a79d8-cff3-4f88-9646-9c51ba38dd0b",
         "x": [
          0,
          -5.831629587838298,
          -5.831629587838298,
          0
         ],
         "xaxis": "x2",
         "y": [
          375,
          375,
          385,
          385
         ],
         "yaxis": "y"
        },
        {
         "hoverinfo": "text",
         "marker": {
          "color": "rgb(255,65,54)"
         },
         "mode": "lines",
         "type": "scatter",
         "uid": "9d52b774-978b-4f27-bd5c-453448a595cd",
         "x": [
          -4.617336567135464,
          -10.10208533375718,
          -10.10208533375718,
          -5.831629587838298
         ],
         "xaxis": "x2",
         "y": [
          360,
          360,
          380,
          380
         ],
         "yaxis": "y"
        },
        {
         "hoverinfo": "text",
         "marker": {
          "color": "rgb(255,65,54)"
         },
         "mode": "lines",
         "type": "scatter",
         "uid": "d3642146-ce5f-4534-a2c0-d19f58e7d8f4",
         "x": [
          0,
          -28.768399719271567,
          -28.768399719271567,
          -10.10208533375718
         ],
         "xaxis": "x2",
         "y": [
          345,
          345,
          370,
          370
         ],
         "yaxis": "y"
        },
        {
         "hoverinfo": "text",
         "marker": {
          "color": "rgb(255,65,54)"
         },
         "mode": "lines",
         "type": "scatter",
         "uid": "02f745cb-5279-4b4d-b84d-c8cdfa96eae2",
         "x": [
          -26.551946111239463,
          -55.25372973217474,
          -55.25372973217474,
          -28.768399719271567
         ],
         "xaxis": "x2",
         "y": [
          274.6875,
          274.6875,
          357.5,
          357.5
         ],
         "yaxis": "y"
        },
        {
         "hoverinfo": "text",
         "marker": {
          "color": "rgb(0,116,217)"
         },
         "mode": "lines",
         "type": "scatter",
         "uid": "dfc13a4e-ffd7-42ce-859e-943798c34a7e",
         "x": [
          -47.81213254434797,
          -104.61831165991978,
          -104.61831165991978,
          -55.25372973217474
         ],
         "xaxis": "x2",
         "y": [
          107.109375,
          107.109375,
          316.09375,
          316.09375
         ],
         "yaxis": "y"
        },
        {
         "colorscale": "Blues",
         "type": "heatmap",
         "uid": "64a03c83-e77c-48f9-b3d0-5f2e2464b218",
         "x": [
          5,
          15,
          25,
          35,
          45,
          55,
          65,
          75,
          85,
          95,
          105,
          115,
          125,
          135,
          145,
          155,
          165,
          175,
          185,
          195,
          205,
          215,
          225,
          235,
          245,
          255,
          265,
          275,
          285,
          295,
          305,
          315,
          325,
          335,
          345,
          355,
          365,
          375,
          385
         ],
         "y": [
          5,
          15,
          25,
          35,
          45,
          55,
          65,
          75,
          85,
          95,
          105,
          115,
          125,
          135,
          145,
          155,
          165,
          175,
          185,
          195,
          205,
          215,
          225,
          235,
          245,
          255,
          265,
          275,
          285,
          295,
          305,
          315,
          325,
          335,
          345,
          355,
          365,
          375,
          385
         ],
         "z": [
          [
           0,
           1.470440006342178,
           1.5776908502700395,
           0.801754388342209,
           0.157656747107702,
           0.46049587536100656,
           1.2827377415204861,
           0.4874432884320191,
           0.5364877403913159,
           1.4454510353687209,
           0.5931298291853049,
           1.5452626530555527,
           0.25501685223630466,
           0.5005340445822882,
           0.334360242818117,
           1.5558259127453442,
           1.4339029781821115,
           1.4594375799259154,
           0.42111538500636975,
           0.8354368735825095,
           1.4822846275302672,
           1.5533964344705085,
           0.8125491319565927,
           0.4297150752044631,
           1.4053718109044055,
           1.345970129849667,
           0.5369269016385375,
           1.4311530439700468,
           0.23124299226176734,
           0.32509487299258266,
           1.2955848506626202,
           0.5064892989183809,
           0.8433218792032152,
           0.41332620527300695,
           1.3938950740440939,
           1.4168694095016008,
           1.3479312388094744,
           0.2833775525238471,
           1.2478403483433305
          ],
          [
           1.470440006342178,
           0,
           0.4142972532629229,
           1.4500023042998564,
           1.3620068397225196,
           1.6747005166997297,
           0.26809520024085154,
           1.5780739973790878,
           1.4199950573081226,
           0.48765706637120937,
           1.491314182554033,
           0.6977518228614924,
           1.5874293628690408,
           1.6785585720460592,
           1.4704307896514974,
           0.2551607030608076,
           0.30554195552102253,
           0.45151018591734066,
           1.4834253458250237,
           1.5445681552199697,
           0.5052554111120959,
           0.34961444645693357,
           1.5381335804051162,
           1.6568393263614265,
           0.6119608811354711,
           0.6195956066378705,
           1.3980460052670387,
           0.4525024001458009,
           1.463007238861068,
           1.344781092739864,
           0.42531269536816063,
           1.4891911817107295,
           1.5228237769501594,
           1.668205131758586,
           0.5001951203584327,
           0.3780736903069621,
           0.6138772179898796,
           1.445215925539272,
           0.4220465732904288
          ],
          [
           1.5776908502700395,
           0.4142972532629229,
           0,
           1.588028474557369,
           1.4450646453064904,
           1.8537273449775038,
           0.39482988267202046,
           1.765700760121661,
           1.6072007585106294,
           0.631304247843745,
           1.6062685504552145,
           0.329375949146402,
           1.7206461331358578,
           1.8511555090336476,
           1.6566567938922645,
           0.18815976898751577,
           0.2864201953100627,
           0.7885658948660013,
           1.6259069214377417,
           1.710534828426172,
           0.8543068688223815,
           0.07186558595863299,
           1.6925646434710981,
           1.826608869188021,
           0.3019092197310746,
           0.982751633768921,
           1.4681778711141666,
           0.5596074312628304,
           1.6047286549912243,
           1.412097232637714,
           0.7714318967567023,
           1.6952032539668345,
           1.6684900826854963,
           1.8507360835582785,
           0.3165551112374997,
           0.7465122862997877,
           0.9748664603232484,
           1.6004701373635641,
           0.6969971292031402
          ],
          [
           0.801754388342209,
           1.4500023042998564,
           1.588028474557369,
           0,
           0.835954913605824,
           0.6775865865367114,
           1.2412843774141669,
           0.5627592044013163,
           0.39584868583331567,
           1.1719137790312657,
           0.23984530697179854,
           1.636765459593844,
           0.6522482651545273,
           0.5917501296065701,
           0.7255907326155124,
           1.51869672919687,
           1.4436978727775693,
           1.2324985472526868,
           0.4147588412740373,
           0.16546531174990523,
           1.250884039374054,
           1.547994535357844,
           0.1424389031235605,
           0.6433259286156144,
           1.4488563433037744,
           1.120708209457443,
           0.4081043289082705,
           1.1922143031081807,
           0.6046839398290629,
           0.6480536020558924,
           1.1359126010275198,
           0.6065001574317623,
           0.08679981810686446,
           0.7828309247078155,
           1.4195021246803063,
           1.259065366111585,
           1.1193658145500198,
           0.5759130634289845,
           1.1057553122117776
          ],
          [
           0.157656747107702,
           1.3620068397225196,
           1.4450646453064904,
           0.835954913605824,
           0,
           0.6027169649663866,
           1.1684333982930173,
           0.6079232892150045,
           0.6122249719620729,
           1.355448248906206,
           0.6392708010975788,
           1.3978314459779666,
           0.39237914040906147,
           0.6341187827902668,
           0.4479039043587596,
           1.4345644238434456,
           1.3070010585332732,
           1.3868724770099603,
           0.49706197395408075,
           0.8929798508054875,
           1.4138133746435912,
           1.4247375809651965,
           0.865241189475867,
           0.5697447394220221,
           1.2639063734889011,
           1.294784998447843,
           0.5280297222281775,
           1.3334700323446587,
           0.33738223416213076,
           0.2686724016394907,
           1.2211646961060334,
           0.6119219608807794,
           0.8904807311705374,
           0.5601943787775611,
           1.257000680824103,
           1.3386998229760132,
           1.2958664174131278,
           0.38111847894360773,
           1.1680562987188026
          ],
          [
           0.46049587536100656,
           1.6747005166997297,
           1.8537273449775038,
           0.6775865865367114,
           0.6027169649663866,
           0,
           1.5057932748623122,
           0.1374910264151479,
           0.3421478834391453,
           1.5769172996589063,
           0.5228655615654394,
           1.8809095771433406,
           0.24228648514654966,
           0.10401530137540554,
           0.24984904778808267,
           1.7925982265669786,
           1.6944786028508776,
           1.543790301250588,
           0.34742011251452204,
           0.628634385145639,
           1.5547334388968197,
           1.815860274759319,
           0.6331926763274535,
           0.053074476750367645,
           1.7180671462796162,
           1.3789875788715216,
           0.6549608521280874,
           1.5873616988338692,
           0.2940432413252978,
           0.631580502676289,
           1.399360029927876,
           0.22864106030730222,
           0.6722923276275887,
           0.13726888037529267,
           1.688004832562399,
           1.525543386144654,
           1.3828225627002921,
           0.2797529165615856,
           1.371224214957633
          ],
          [
           1.2827377415204861,
           0.26809520024085154,
           0.39482988267202046,
           1.2412843774141669,
           1.1684333982930173,
           1.5057932748623122,
           0,
           1.408634990193493,
           1.2431115274665914,
           0.3846124764235108,
           1.273414020850943,
           0.5983645568798098,
           1.396828614276826,
           1.501027532904535,
           1.3142346094477766,
           0.29555797372113796,
           0.26399822637429937,
           0.4898304526524141,
           1.283762910097807,
           1.3504877312368098,
           0.5565881224672526,
           0.3392044531258027,
           1.337635565928786,
           1.4816207026459858,
           0.45198288085540694,
           0.6345134602762272,
           1.1633253995186654,
           0.3264468579019747,
           1.2749623907166,
           1.1238492850678778,
           0.41798240398470116,
           1.3343360785158291,
           1.318878754954599,
           1.508583718361188,
           0.3641192197402904,
           0.4414752460828553,
           0.6270680604002018,
           1.2616724852948282,
           0.3546306547308554
          ],
          [
           0.4874432884320191,
           1.5780739973790878,
           1.765700760121661,
           0.5627592044013163,
           0.6079232892150045,
           0.1374910264151479,
           1.408634990193493,
           0,
           0.20923957881571537,
           1.4587889853705487,
           0.43618923019614453,
           1.8072462690128834,
           0.27732471207540754,
           0.11638700352900441,
           0.2506532061627153,
           1.6971542772297856,
           1.603805217003126,
           1.4256464249230025,
           0.2731750439157939,
           0.514373088909314,
           1.4360682705653978,
           1.725255596457287,
           0.5228836496332535,
           0.13164096995328017,
           1.6385478484282734,
           1.260401188933368,
           0.5878650743861062,
           1.4727106545008077,
           0.2764803990345824,
           0.5995717580392758,
           1.286520738045839,
           0.1410798803754871,
           0.5601336921828183,
           0.2391115368612553,
           1.6028300419468777,
           1.4132932188675684,
           1.263928372643433,
           0.239715394937039,
           1.2621967356263903
          ],
          [
           0.5364877403913159,
           1.4199950573081226,
           1.6072007585106294,
           0.39584868583331567,
           0.6122249719620729,
           0.3421478834391453,
           1.2431115274665914,
           0.20923957881571537,
           0,
           1.2655437152494733,
           0.32068946052515696,
           1.6622072153976295,
           0.3754590000680884,
           0.29548628777344504,
           0.34728027635767067,
           1.5328436272367927,
           1.444629917507848,
           1.246391002661318,
           0.21889048012609083,
           0.3746275389673487,
           1.2586495611892317,
           1.5647309344074407,
           0.3822848898939485,
           0.32074126879637016,
           1.4862595240029577,
           1.090971199594576,
           0.47634812319301767,
           1.2818219975505358,
           0.31167732583979885,
           0.5422265782482449,
           1.1144956576807676,
           0.21968649265941637,
           0.41112863365743163,
           0.4250293296898225,
           1.4454513773821356,
           1.242417924289378,
           1.0933712339213884,
           0.2618181195756888,
           1.0920091392580396
          ],
          [
           1.4454510353687209,
           0.48765706637120937,
           0.631304247843745,
           1.1719137790312657,
           1.355448248906206,
           1.5769172996589063,
           0.3846124764235108,
           1.4587889853705487,
           1.2655437152494733,
           0,
           1.2729717374401759,
           0.8625146158087977,
           1.4986863729742885,
           1.5507237710701238,
           1.4271839430292241,
           0.49574449848934743,
           0.550362169395321,
           0.3468552108540775,
           1.3335844073728385,
           1.2777888996066877,
           0.4235257022670807,
           0.5727553291371442,
           1.27199556760574,
           1.5526173846912938,
           0.7041827290777568,
           0.5389797061571999,
           1.2071973228826494,
           0.08959245190443167,
           1.3795054495134647,
           1.2555463729917542,
           0.3983286467086295,
           1.3914245340387208,
           1.239558095078075,
           1.6089612589332223,
           0.6318339102188696,
           0.4097146208584819,
           0.5273755933109648,
           1.3560082269050715,
           0.36260618035537323
          ],
          [
           0.5931298291853049,
           1.491314182554033,
           1.6062685504552145,
           0.23984530697179854,
           0.6392708010975788,
           0.5228655615654394,
           1.273414020850943,
           0.43618923019614453,
           0.32068946052515696,
           1.2729717374401759,
           0,
           1.6197892969443592,
           0.4421705461356537,
           0.4425069631920399,
           0.5753680220996173,
           1.5559093780843505,
           1.4665603208771536,
           1.336900265416998,
           0.23473255591320763,
           0.3104321472444841,
           1.3600684458038823,
           1.5721985214602672,
           0.275276247600766,
           0.47789994581346656,
           1.4404225587279953,
           1.2269191167641489,
           0.25199203505952383,
           1.2810704338554855,
           0.41241272575784904,
           0.4636240313192808,
           1.2170511649482783,
           0.5053890385671396,
           0.27495153523419996,
           0.6203789718618207,
           1.4263213469054563,
           1.3447377743289093,
           1.2262687453450816,
           0.4014852857349257,
           1.17096147394111
          ],
          [
           1.5452626530555527,
           0.6977518228614924,
           0.329375949146402,
           1.636765459593844,
           1.3978314459779666,
           1.8809095771433406,
           0.5983645568798098,
           1.8072462690128834,
           1.6622072153976295,
           0.8625146158087977,
           1.6197892969443592,
           0,
           1.7132244847490086,
           1.879294196122078,
           1.6880536645924513,
           0.5075645722223019,
           0.46568142838778576,
           1.058023099987787,
           1.6380040630858117,
           1.7686689555144144,
           1.1183914328201527,
           0.3913481577613978,
           1.740898937398935,
           1.8481967122286478,
           0.20054242509017325,
           1.226815272467615,
           1.4427352799326527,
           0.7796222447430524,
           1.6073340938682352,
           1.36283717618197,
           1.0090265364229833,
           1.754743752967255,
           1.7216787651174257,
           1.8717109997485233,
           0.3288784554674175,
           1.007696116748321,
           1.2191387048323592,
           1.613749528162331,
           0.9318388615673923
          ],
          [
           0.25501685223630466,
           1.5874293628690408,
           1.7206461331358578,
           0.6522482651545273,
           0.39237914040906147,
           0.24228648514654966,
           1.396828614276826,
           0.27732471207540754,
           0.3754590000680884,
           1.4986863729742885,
           0.4421705461356537,
           1.7132244847490086,
           0,
           0.2574642394699152,
           0.26374164262653693,
           1.680760486634368,
           1.5710389702046434,
           1.5059401578406693,
           0.2581172586739412,
           0.6536045638301105,
           1.524498078540747,
           1.6900008596011762,
           0.6375113255612758,
           0.1983760010941269,
           1.556797049504116,
           1.370731586403975,
           0.48955113805079725,
           1.4971176200766116,
           0.12821225012850138,
           0.4145789055596521,
           1.3540197007226624,
           0.35163984969017237,
           0.6721228970575199,
           0.2583038585368951,
           1.5399929178748355,
           1.4808583319398658,
           1.3730158461318043,
           0.16870241019480584,
           1.3123605521643502
          ],
          [
           0.5005340445822882,
           1.6785585720460592,
           1.8511555090336476,
           0.5917501296065701,
           0.6341187827902668,
           0.10401530137540554,
           1.501027532904535,
           0.11638700352900441,
           0.29548628777344504,
           1.5507237710701238,
           0.4425069631920399,
           1.879294196122078,
           0.2574642394699152,
           0,
           0.31757079629534246,
           1.789048042875701,
           1.6946363819567545,
           1.531407704768895,
           0.2971045626649254,
           0.5397725359516053,
           1.5436279866004232,
           1.8129297464651568,
           0.5443165320279636,
           0.08627373093346713,
           1.711127620389677,
           1.3708189753418174,
           0.6011357282007596,
           1.563248927692093,
           0.30694575927859136,
           0.6221082449289491,
           1.393184295407598,
           0.24521112014290333,
           0.5805238959595769,
           0.23758150810794476,
           1.6837833810905682,
           1.5207712741170398,
           1.374026662228088,
           0.2892324117367962,
           1.3623944402407386
          ],
          [
           0.334360242818117,
           1.4704307896514974,
           1.6566567938922645,
           0.7255907326155124,
           0.4479039043587596,
           0.24984904778808267,
           1.3142346094477766,
           0.2506532061627153,
           0.34728027635767067,
           1.4271839430292241,
           0.5753680220996173,
           1.6880536645924513,
           0.26374164262653693,
           0.31757079629534246,
           0,
           1.5971114193356584,
           1.493627826778919,
           1.3787616658635091,
           0.37134176529242624,
           0.7102896092638954,
           1.3907821135094542,
           1.61926293639414,
           0.7103981529846826,
           0.25091191443038907,
           1.5335703845314659,
           1.2200109159215216,
           0.6392100013998541,
           1.4315352628908535,
           0.21830175819643693,
           0.5369502562500984,
           1.222626907062872,
           0.2137861595160817,
           0.7468053901223015,
           0.20083599875766142,
           1.4963359855406313,
           1.345802394389007,
           1.2242068435568854,
           0.19941628526744976,
           1.1968809011191601
          ],
          [
           1.5558259127453442,
           0.2551607030608076,
           0.18815976898751577,
           1.51869672919687,
           1.4345644238434456,
           1.7925982265669786,
           0.29555797372113796,
           1.6971542772297856,
           1.5328436272367927,
           0.49574449848934743,
           1.5559093780843505,
           0.5075645722223019,
           1.680760486634368,
           1.789048042875701,
           1.5971114193356584,
           0,
           0.26455994987630665,
           0.6135309252162394,
           1.5745799223984325,
           1.6327687699943623,
           0.6822583430213189,
           0.11864295288466602,
           1.6204226356805698,
           1.7687815743697737,
           0.4334778041363596,
           0.8161334579744453,
           1.4415997235072866,
           0.437343204931183,
           1.560769181316368,
           1.4000279607953783,
           0.6127087477197168,
           1.6187440213838264,
           1.595513401004943,
           1.793566988095304,
           0.3902992418325559,
           0.5772124509825574,
           0.8082384597074661,
           1.5500950925619779,
           0.5467408523028832
          ],
          [
           1.4339029781821115,
           0.30554195552102253,
           0.2864201953100627,
           1.4436978727775693,
           1.3070010585332732,
           1.6944786028508776,
           0.26399822637429937,
           1.603805217003126,
           1.444629917507848,
           0.550362169395321,
           1.4665603208771536,
           0.46568142838778576,
           1.5710389702046434,
           1.6946363819567545,
           1.493627826778919,
           0.26455994987630665,
           0,
           0.6417006578874874,
           1.4640119326203525,
           1.5499331030005656,
           0.6832870032525766,
           0.2598543766249742,
           1.5321166405669242,
           1.669363985587593,
           0.39962014550891484,
           0.8027773566790756,
           1.3274325869565942,
           0.4739867230409125,
           1.4493187710976707,
           1.264341504171336,
           0.5902235009272687,
           1.5360831116353362,
           1.5242042021403968,
           1.6852838054569244,
           0.2099582858669995,
           0.5692493529074217,
           0.7956045519421712,
           1.4382417658589712,
           0.5991211381018168
          ],
          [
           1.4594375799259154,
           0.45151018591734066,
           0.7885658948660013,
           1.2324985472526868,
           1.3868724770099603,
           1.543790301250588,
           0.4898304526524141,
           1.4256464249230025,
           1.246391002661318,
           0.3468552108540775,
           1.336900265416998,
           1.058023099987787,
           1.5059401578406693,
           1.531407704768895,
           1.3787616658635091,
           0.6135309252162394,
           0.6417006578874874,
           0,
           1.3520720770885373,
           1.3030818331057565,
           0.10457449879536476,
           0.7195699791409879,
           1.3084660834818809,
           1.5300705784933801,
           0.9213760490811909,
           0.246783648338982,
           1.303807869115085,
           0.39268833305642054,
           1.3817050469663756,
           1.3241017764530865,
           0.17931139939633467,
           1.338359636461726,
           1.2914039598012872,
           1.5621106014498538,
           0.796472879376956,
           0.1335536330302564,
           0.23671772471128857,
           1.3480952520583322,
           0.3214413174329259
          ],
          [
           0.42111538500636975,
           1.4834253458250237,
           1.6259069214377417,
           0.4147588412740373,
           0.49706197395408075,
           0.34742011251452204,
           1.283762910097807,
           0.2731750439157939,
           0.21889048012609083,
           1.3335844073728385,
           0.23473255591320763,
           1.6380040630858117,
           0.2581172586739412,
           0.2971045626649254,
           0.37134176529242624,
           1.5745799223984325,
           1.4640119326203525,
           1.3520720770885373,
           0,
           0.4192690276641443,
           1.3661690514022085,
           1.5914781181328732,
           0.3967058532306833,
           0.30257913189148217,
           1.4697610945183723,
           1.218383850201386,
           0.32280367565879414,
           1.3370732331692896,
           0.21268133441211062,
           0.3804464014280506,
           1.2122797890417218,
           0.353576482453699,
           0.44300425126790666,
           0.4156019218131827,
           1.435529711775899,
           1.339574744839611,
           1.2195903342579772,
           0.18855320990339555,
           1.1886526922532306
          ],
          [
           0.8354368735825095,
           1.5445681552199697,
           1.710534828426172,
           0.16546531174990523,
           0.8929798508054875,
           0.628634385145639,
           1.3504877312368098,
           0.514373088909314,
           0.3746275389673487,
           1.2777888996066877,
           0.3104321472444841,
           1.7686689555144144,
           0.6536045638301105,
           0.5397725359516053,
           0.7102896092638954,
           1.6327687699943623,
           1.5499331030005656,
           1.3030818331057565,
           0.4192690276641443,
           0,
           1.3107410036460412,
           1.6678961466077857,
           0.05950787269841975,
           0.602523365030234,
           1.5830791258556396,
           1.165662048627313,
           0.5070440402497737,
           1.3020853063081772,
           0.6183398499032267,
           0.7219016850847978,
           1.2056136910073885,
           0.5710920805835561,
           0.11802847235036593,
           0.7381815383137648,
           1.5372053657387121,
           1.3271161485868002,
           1.1656540919146958,
           0.5800273098611602,
           1.1988100041093022
          ],
          [
           1.4822846275302672,
           0.5052554111120959,
           0.8543068688223815,
           1.250884039374054,
           1.4138133746435912,
           1.5547334388968197,
           0.5565881224672526,
           1.4360682705653978,
           1.2586495611892317,
           0.4235257022670807,
           1.3600684458038823,
           1.1183914328201527,
           1.524498078540747,
           1.5436279866004232,
           1.3907821135094542,
           0.6822583430213189,
           0.6832870032525766,
           0.10457449879536476,
           1.3661690514022085,
           1.3107410036460412,
           0,
           0.7870478912895741,
           1.3171151839976305,
           1.5426668881034014,
           0.9884518023568715,
           0.21467849300333508,
           1.3292697254134356,
           0.4642903149787737,
           1.399604904598815,
           1.3485586926721589,
           0.20755616673000787,
           1.3502179797775813,
           1.3077505594030128,
           1.5702607612794335,
           0.841926302427262,
           0.14335672144469666,
           0.2057902449694211,
           1.3628021197322702,
           0.40887920305029857
          ],
          [
           1.5533964344705085,
           0.34961444645693357,
           0.07186558595863299,
           1.547994535357844,
           1.4247375809651965,
           1.815860274759319,
           0.3392044531258027,
           1.725255596457287,
           1.5647309344074407,
           0.5727553291371442,
           1.5721985214602672,
           0.3913481577613978,
           1.6900008596011762,
           1.8129297464651568,
           1.61926293639414,
           0.11864295288466602,
           0.2598543766249742,
           0.7195699791409879,
           1.5914781181328732,
           1.6678961466077857,
           0.7870478912895741,
           0,
           1.6518600467744624,
           1.7898357810631835,
           0.3357143728220995,
           0.9148107472318944,
           1.4425579455829278,
           0.5045216982171052,
           1.5725817511608828,
           1.3913973123457857,
           0.7049874924321187,
           1.6519375119788335,
           1.627316018854897,
           1.8144023685486135,
           0.3277705768143466,
           0.67915901660579,
           0.9069375806889756,
           1.566170341753276,
           0.6302329692900969
          ],
          [
           0.8125491319565927,
           1.5381335804051162,
           1.6925646434710981,
           0.1424389031235605,
           0.865241189475867,
           0.6331926763274535,
           1.337635565928786,
           0.5228836496332535,
           0.3822848898939485,
           1.27199556760574,
           0.275276247600766,
           1.740898937398935,
           0.6375113255612758,
           0.5443165320279636,
           0.7103981529846826,
           1.6204226356805698,
           1.5321166405669242,
           1.3084660834818809,
           0.3967058532306833,
           0.05950787269841975,
           1.3171151839976305,
           1.6518600467744624,
           0,
           0.60309425347406,
           1.556804927218346,
           1.1779548210824826,
           0.45828153578086045,
           1.2926158456486718,
           0.6020029759323491,
           0.6821575679937021,
           1.2083011896889497,
           0.5861478928690681,
           0.11473881692842394,
           0.7396773976156588,
           1.512167090356556,
           1.3299823934117698,
           1.177566818864018,
           0.5668242207310726,
           1.2007643045504006
          ],
          [
           0.4297150752044631,
           1.6568393263614265,
           1.826608869188021,
           0.6433259286156144,
           0.5697447394220221,
           0.053074476750367645,
           1.4816207026459858,
           0.13164096995328017,
           0.32074126879637016,
           1.5526173846912938,
           0.47789994581346656,
           1.8481967122286478,
           0.1983760010941269,
           0.08627373093346713,
           0.25091191443038907,
           1.7687815743697737,
           1.669363985587593,
           1.5300705784933801,
           0.30257913189148217,
           0.602523365030234,
           1.5426668881034014,
           1.7898357810631835,
           0.60309425347406,
           0,
           1.6848772572984017,
           1.3712193235207573,
           0.6050873057555111,
           1.5615075512380587,
           0.25495235237121516,
           0.5861985675769762,
           1.385543558848331,
           0.23798616547681684,
           0.6413025171494822,
           0.16294255141010433,
           1.6575641965956616,
           1.51250430973417,
           1.3746222980537544,
           0.24451053434504136,
           1.3544495815835613
          ],
          [
           1.4053718109044055,
           0.6119608811354711,
           0.3019092197310746,
           1.4488563433037744,
           1.2639063734889011,
           1.7180671462796162,
           0.45198288085540694,
           1.6385478484282734,
           1.4862595240029577,
           0.7041827290777568,
           1.4404225587279953,
           0.20054242509017325,
           1.556797049504116,
           1.711127620389677,
           1.5335703845314659,
           0.4334778041363596,
           0.39962014550891484,
           0.9213760490811909,
           1.4697610945183723,
           1.5830791258556396,
           0.9884518023568715,
           0.3357143728220995,
           1.556804927218346,
           1.6848772572984017,
           0,
           1.0816539956414952,
           1.2747088171673702,
           0.62373939374837,
           1.4495405000622128,
           1.2148244075266088,
           0.8663581372547289,
           1.5861396680578073,
           1.532942322193556,
           1.7178187315347488,
           0.2571796253420304,
           0.8824574457799245,
           1.0736312689691012,
           1.4538573368227918,
           0.7697208338219087
          ],
          [
           1.345970129849667,
           0.6195956066378705,
           0.982751633768921,
           1.120708209457443,
           1.294784998447843,
           1.3789875788715216,
           0.6345134602762272,
           1.260401188933368,
           1.090971199594576,
           0.5389797061571999,
           1.2269191167641489,
           1.226815272467615,
           1.370731586403975,
           1.3708189753418174,
           1.2200109159215216,
           0.8161334579744453,
           0.8027773566790756,
           0.246783648338982,
           1.218383850201386,
           1.165662048627313,
           0.21467849300333508,
           0.9148107472318944,
           1.1779548210824826,
           1.3712193235207573,
           1.0816539956414952,
           0,
           1.223734787098551,
           0.5857767811570727,
           1.2482781387067448,
           1.2423527614861527,
           0.21817576895372576,
           1.1680141447493433,
           1.171531361037895,
           1.395017878588352,
           0.9485002867330536,
           0.26090835354538655,
           0.012183891881284183,
           1.2074463467989662,
           0.4012269221658939
          ],
          [
           0.5369269016385375,
           1.3980460052670387,
           1.4681778711141666,
           0.4081043289082705,
           0.5280297222281775,
           0.6549608521280874,
           1.1633253995186654,
           0.5878650743861062,
           0.47634812319301767,
           1.2071973228826494,
           0.25199203505952383,
           1.4427352799326527,
           0.48955113805079725,
           0.6011357282007596,
           0.6392100013998541,
           1.4415997235072866,
           1.3274325869565942,
           1.303807869115085,
           0.32280367565879414,
           0.5070440402497737,
           1.3292697254134356,
           1.4425579455829278,
           0.45828153578086045,
           0.6050873057555111,
           1.2747088171673702,
           1.223734787098551,
           0,
           1.1980338492626819,
           0.43787760270413023,
           0.2844995173425499,
           1.1740065362305088,
           0.6457738258659568,
           0.47312474197395216,
           0.713018889175751,
           1.2608829840505666,
           1.2969974477266466,
           1.2218123937739682,
           0.44408040156393713,
           1.1315146670921579
          ],
          [
           1.4311530439700468,
           0.4525024001458009,
           0.5596074312628304,
           1.1922143031081807,
           1.3334700323446587,
           1.5873616988338692,
           0.3264468579019747,
           1.4727106545008077,
           1.2818219975505358,
           0.08959245190443167,
           1.2810704338554855,
           0.7796222447430524,
           1.4971176200766116,
           1.563248927692093,
           1.4315352628908535,
           0.437343204931183,
           0.4739867230409125,
           0.39268833305642054,
           1.3370732331692896,
           1.3020853063081772,
           0.4642903149787737,
           0.5045216982171052,
           1.2926158456486718,
           1.5615075512380587,
           0.62373939374837,
           0.5857767811570727,
           1.1980338492626819,
           0,
           1.3773876173088095,
           1.2342100273338659,
           0.420994934313581,
           1.4082281406126669,
           1.263523547551896,
           1.6148486587715971,
           0.5448529409706071,
           0.42993721224657117,
           0.5744622707802047,
           1.3564792855315175,
           0.38872797404702475
          ],
          [
           0.23124299226176734,
           1.463007238861068,
           1.6047286549912243,
           0.6046839398290629,
           0.33738223416213076,
           0.2940432413252978,
           1.2749623907166,
           0.2764803990345824,
           0.31167732583979885,
           1.3795054495134647,
           0.41241272575784904,
           1.6073340938682352,
           0.12821225012850138,
           0.30694575927859136,
           0.21830175819643693,
           1.560769181316368,
           1.4493187710976707,
           1.3817050469663756,
           0.21268133441211062,
           0.6183398499032267,
           1.399604904598815,
           1.5725817511608828,
           0.6020029759323491,
           0.25495235237121516,
           1.4495405000622128,
           1.2482781387067448,
           0.43787760270413023,
           1.3773876173088095,
           0,
           0.3475095334152023,
           1.228077743675661,
           0.3154250128454817,
           0.6368279418030918,
           0.30230354157957323,
           1.4242906778941977,
           1.354398786198266,
           1.2504575020036068,
           0.06328037174205714,
           1.1917960050947618
          ],
          [
           0.32509487299258266,
           1.344781092739864,
           1.412097232637714,
           0.6480536020558924,
           0.2686724016394907,
           0.631580502676289,
           1.1238492850678778,
           0.5995717580392758,
           0.5422265782482449,
           1.2555463729917542,
           0.4636240313192808,
           1.36283717618197,
           0.4145789055596521,
           0.6221082449289491,
           0.5369502562500984,
           1.4000279607953783,
           1.264341504171336,
           1.3241017764530865,
           0.3804464014280506,
           0.7219016850847978,
           1.3485586926721589,
           1.3913973123457857,
           0.6821575679937021,
           0.5861985675769762,
           1.2148244075266088,
           1.2423527614861527,
           0.2844995173425499,
           1.2342100273338659,
           0.3475095334152023,
           0,
           1.1706644478312327,
           0.6354713682878023,
           0.7111234360124025,
           0.6348580477755851,
           1.197360998514615,
           1.290410111350109,
           1.2416860160989058,
           0.37501297161291375,
           1.1311314872305278
          ],
          [
           1.2955848506626202,
           0.42531269536816063,
           0.7714318967567023,
           1.1359126010275198,
           1.2211646961060334,
           1.399360029927876,
           0.41798240398470116,
           1.286520738045839,
           1.1144956576807676,
           0.3983286467086295,
           1.2170511649482783,
           1.0090265364229833,
           1.3540197007226624,
           1.393184295407598,
           1.222626907062872,
           0.6127087477197168,
           0.5902235009272687,
           0.17931139939633467,
           1.2122797890417218,
           1.2056136910073885,
           0.20755616673000787,
           0.7049874924321187,
           1.2083011896889497,
           1.385543558848331,
           0.8663581372547289,
           0.21817576895372576,
           1.1740065362305088,
           0.420994934313581,
           1.228077743675661,
           1.1706644478312327,
           0,
           1.1986256996923843,
           1.198719978369852,
           1.4092221794831221,
           0.7347602278394351,
           0.13077910702710618,
           0.21121075475424114,
           1.1957626717397496,
           0.25826526186280035
          ],
          [
           0.5064892989183809,
           1.4891911817107295,
           1.6952032539668345,
           0.6065001574317623,
           0.6119219608807794,
           0.22864106030730222,
           1.3343360785158291,
           0.1410798803754871,
           0.21968649265941637,
           1.3914245340387208,
           0.5053890385671396,
           1.754743752967255,
           0.35163984969017237,
           0.24521112014290333,
           0.2137861595160817,
           1.6187440213838264,
           1.5360831116353362,
           1.338359636461726,
           0.353576482453699,
           0.5710920805835561,
           1.3502179797775813,
           1.6519375119788335,
           0.5861478928690681,
           0.23798616547681684,
           1.5861396680578073,
           1.1680141447493433,
           0.6457738258659568,
           1.4082281406126669,
           0.3154250128454817,
           0.6354713682878023,
           1.1986256996923843,
           0,
           0.6112371326395438,
           0.2827765560189591,
           1.549689853264237,
           1.3243537463815411,
           1.172236044264689,
           0.27472574763808694,
           1.1698682819389177
          ],
          [
           0.8433218792032152,
           1.5228237769501594,
           1.6684900826854963,
           0.08679981810686446,
           0.8904807311705374,
           0.6722923276275887,
           1.318878754954599,
           0.5601336921828183,
           0.41112863365743163,
           1.239558095078075,
           0.27495153523419996,
           1.7216787651174257,
           0.6721228970575199,
           0.5805238959595769,
           0.7468053901223015,
           1.595513401004943,
           1.5242042021403968,
           1.2914039598012872,
           0.44300425126790666,
           0.11802847235036593,
           1.3077505594030128,
           1.627316018854897,
           0.11473881692842394,
           0.6413025171494822,
           1.532942322193556,
           1.171531361037895,
           0.47312474197395216,
           1.263523547551896,
           0.6368279418030918,
           0.7111234360124025,
           1.198719978369852,
           0.6112371326395438,
           0,
           0.7859528616565706,
           1.5035944514509287,
           1.3213270108430326,
           1.170608067558188,
           0.6066024001002714,
           1.1703693605985797
          ],
          [
           0.41332620527300695,
           1.668205131758586,
           1.8507360835582785,
           0.7828309247078155,
           0.5601943787775611,
           0.13726888037529267,
           1.508583718361188,
           0.2391115368612553,
           0.4250293296898225,
           1.6089612589332223,
           0.6203789718618207,
           1.8717109997485233,
           0.2583038585368951,
           0.23758150810794476,
           0.20083599875766142,
           1.793566988095304,
           1.6852838054569244,
           1.5621106014498538,
           0.4156019218131827,
           0.7381815383137648,
           1.5702607612794335,
           1.8144023685486135,
           0.7396773976156588,
           0.16294255141010433,
           1.7178187315347488,
           1.395017878588352,
           0.713018889175751,
           1.6148486587715971,
           0.30230354157957323,
           0.6348580477755851,
           1.4092221794831221,
           0.2827765560189591,
           0.7859528616565706,
           0,
           1.6812706178309071,
           1.5324901215077815,
           1.3994365120694476,
           0.2944213344216404,
           1.3891525230815287
          ],
          [
           1.3938950740440939,
           0.5001951203584327,
           0.3165551112374997,
           1.4195021246803063,
           1.257000680824103,
           1.688004832562399,
           0.3641192197402904,
           1.6028300419468777,
           1.4454513773821356,
           0.6318339102188696,
           1.4263213469054563,
           0.3288784554674175,
           1.5399929178748355,
           1.6837833810905682,
           1.4963359855406313,
           0.3902992418325559,
           0.2099582858669995,
           0.796472879376956,
           1.435529711775899,
           1.5372053657387121,
           0.841926302427262,
           0.3277705768143466,
           1.512167090356556,
           1.6575641965956616,
           0.2571796253420304,
           0.9485002867330536,
           1.2608829840505666,
           0.5448529409706071,
           1.4242906778941977,
           1.197360998514615,
           0.7347602278394351,
           1.549689853264237,
           1.5035944514509287,
           1.6812706178309071,
           0,
           0.7369691284444463,
           0.9407220611401461,
           1.4200106593494433,
           0.7162321651886733
          ],
          [
           1.4168694095016008,
           0.3780736903069621,
           0.7465122862997877,
           1.259065366111585,
           1.3386998229760132,
           1.525543386144654,
           0.4414752460828553,
           1.4132932188675684,
           1.242417924289378,
           0.4097146208584819,
           1.3447377743289093,
           1.007696116748321,
           1.4808583319398658,
           1.5207712741170398,
           1.345802394389007,
           0.5772124509825574,
           0.5692493529074217,
           0.1335536330302564,
           1.339574744839611,
           1.3271161485868002,
           0.14335672144469666,
           0.67915901660579,
           1.3299823934117698,
           1.51250430973417,
           0.8824574457799245,
           0.26090835354538655,
           1.2969974477266466,
           0.42993721224657117,
           1.354398786198266,
           1.290410111350109,
           0.13077910702710618,
           1.3243537463815411,
           1.3213270108430326,
           1.5324901215077815,
           0.7369691284444463,
           0,
           0.254014824253523,
           1.3219906119611398,
           0.3333491232677471
          ],
          [
           1.3479312388094744,
           0.6138772179898796,
           0.9748664603232484,
           1.1193658145500198,
           1.2958664174131278,
           1.3828225627002921,
           0.6270680604002018,
           1.263928372643433,
           1.0933712339213884,
           0.5273755933109648,
           1.2262687453450816,
           1.2191387048323592,
           1.3730158461318043,
           1.374026662228088,
           1.2242068435568854,
           0.8082384597074661,
           0.7956045519421712,
           0.23671772471128857,
           1.2195903342579772,
           1.1656540919146958,
           0.2057902449694211,
           0.9069375806889756,
           1.177566818864018,
           1.3746222980537544,
           1.0736312689691012,
           0.012183891881284183,
           1.2218123937739682,
           0.5744622707802047,
           1.2504575020036068,
           1.2416860160989058,
           0.21121075475424114,
           1.172236044264689,
           1.170608067558188,
           1.3994365120694476,
           0.9407220611401461,
           0.254014824253523,
           0,
           1.2098759912320691,
           0.39520071967828435
          ],
          [
           0.2833775525238471,
           1.445215925539272,
           1.6004701373635641,
           0.5759130634289845,
           0.38111847894360773,
           0.2797529165615856,
           1.2616724852948282,
           0.239715394937039,
           0.2618181195756888,
           1.3560082269050715,
           0.4014852857349257,
           1.613749528162331,
           0.16870241019480584,
           0.2892324117367962,
           0.19941628526744976,
           1.5500950925619779,
           1.4382417658589712,
           1.3480952520583322,
           0.18855320990339555,
           0.5800273098611602,
           1.3628021197322702,
           1.566170341753276,
           0.5668242207310726,
           0.24451053434504136,
           1.4538573368227918,
           1.2074463467989662,
           0.44408040156393713,
           1.3564792855315175,
           0.06328037174205714,
           0.37501297161291375,
           1.1957626717397496,
           0.27472574763808694,
           0.6066024001002714,
           0.2944213344216404,
           1.4200106593494433,
           1.3219906119611398,
           1.2098759912320691,
           0,
           1.1683773258314594
          ],
          [
           1.2478403483433305,
           0.4220465732904288,
           0.6969971292031402,
           1.1057553122117776,
           1.1680562987188026,
           1.371224214957633,
           0.3546306547308554,
           1.2621967356263903,
           1.0920091392580396,
           0.36260618035537323,
           1.17096147394111,
           0.9318388615673923,
           1.3123605521643502,
           1.3623944402407386,
           1.1968809011191601,
           0.5467408523028832,
           0.5991211381018168,
           0.3214413174329259,
           1.1886526922532306,
           1.1988100041093022,
           0.40887920305029857,
           0.6302329692900969,
           1.2007643045504006,
           1.3544495815835613,
           0.7697208338219087,
           0.4012269221658939,
           1.1315146670921579,
           0.38872797404702475,
           1.1917960050947618,
           1.1311314872305278,
           0.25826526186280035,
           1.1698682819389177,
           1.1703693605985797,
           1.3891525230815287,
           0.7162321651886733,
           0.3333491232677471,
           0.39520071967828435,
           1.1683773258314594,
           0
          ]
         ]
        }
       ],
       "layout": {
        "autosize": false,
        "height": 800,
        "hovermode": "closest",
        "showlegend": false,
        "width": 800,
        "xaxis": {
         "domain": [
          0.15,
          1
         ],
         "mirror": false,
         "rangemode": "tozero",
         "showgrid": false,
         "showline": false,
         "showticklabels": true,
         "tickmode": "array",
         "ticks": "",
         "ticktext": [
          "1536",
          "5087",
          "5511",
          "2738",
          "5481",
          "5379",
          "3163",
          "6835",
          "6787",
          "782",
          "4-Guanidinobutanoate",
          "2313",
          "5045",
          "5192",
          "5729",
          "248",
          "5680",
          "2934",
          "4460",
          "4938",
          "7001",
          "6912",
          "3498",
          "1718",
          "5420",
          "3093",
          "3370",
          "5898",
          "6952",
          "2-Hydroxymethylserine",
          "5065",
          "6687",
          "5482",
          "3297",
          "4992",
          "6994",
          "Coumarin",
          "6980",
          "3405"
         ],
         "tickvals": [
          5,
          15,
          25,
          35,
          45,
          55,
          65,
          75,
          85,
          95,
          105,
          115,
          125,
          135,
          145,
          155,
          165,
          175,
          185,
          195,
          205,
          215,
          225,
          235,
          245,
          255,
          265,
          275,
          285,
          295,
          305,
          315,
          325,
          335,
          345,
          355,
          365,
          375,
          385
         ],
         "type": "linear",
         "zeroline": false
        },
        "xaxis2": {
         "domain": [
          0,
          0.15
         ],
         "mirror": false,
         "showgrid": false,
         "showline": false,
         "showticklabels": false,
         "ticks": "",
         "zeroline": false
        },
        "yaxis": {
         "domain": [
          0,
          0.85
         ],
         "mirror": false,
         "rangemode": "tozero",
         "showgrid": false,
         "showline": false,
         "showticklabels": false,
         "ticks": "",
         "type": "linear",
         "zeroline": false
        },
        "yaxis2": {
         "domain": [
          0.825,
          0.975
         ],
         "mirror": false,
         "showgrid": false,
         "showline": false,
         "showticklabels": false,
         "ticks": "",
         "zeroline": false
        }
       }
      },
      "text/html": [
       "<div>\n",
       "        \n",
       "        \n",
       "            <div id=\"97473b80-47d2-4176-b95a-cca62fc509c4\" class=\"plotly-graph-div\" style=\"height:800px; width:800px;\"></div>\n",
       "            <script type=\"text/javascript\">\n",
       "                require([\"plotly\"], function(Plotly) {\n",
       "                    window.PLOTLYENV=window.PLOTLYENV || {};\n",
       "                    window.PLOTLYENV.BASE_URL='https://plot.ly';\n",
       "                    \n",
       "                if (document.getElementById(\"97473b80-47d2-4176-b95a-cca62fc509c4\")) {\n",
       "                    Plotly.newPlot(\n",
       "                        '97473b80-47d2-4176-b95a-cca62fc509c4',\n",
       "                        [{\"hoverinfo\": \"text\", \"marker\": {\"color\": \"rgb(61,153,112)\"}, \"mode\": \"lines\", \"type\": \"scatter\", \"uid\": \"76a4bf9c-b590-4b06-95b4-24562d70c426\", \"x\": [15.0, 15.0, 25.0, 25.0], \"xaxis\": \"x\", \"y\": [0.0, 4.472139836503849, 4.472139836503849, 0.0], \"yaxis\": \"y2\"}, {\"hoverinfo\": \"text\", \"marker\": {\"color\": \"rgb(61,153,112)\"}, \"mode\": \"lines\", \"type\": \"scatter\", \"uid\": \"770b5cdf-7253-49d3-9a53-9362dcb32237\", \"x\": [55.0, 55.0, 65.0, 65.0], \"xaxis\": \"x\", \"y\": [0.0, 3.162277884686747, 3.162277884686747, 0.0], \"yaxis\": \"y2\"}, {\"hoverinfo\": \"text\", \"marker\": {\"color\": \"rgb(61,153,112)\"}, \"mode\": \"lines\", \"type\": \"scatter\", \"uid\": \"14ba81aa-52a3-41f0-bf91-110f7c399eec\", \"x\": [45.0, 45.0, 60.0, 60.0], \"xaxis\": \"x\", \"y\": [0.0, 5.000034361093911, 5.000034361093911, 3.162277884686747], \"yaxis\": \"y2\"}, {\"hoverinfo\": \"text\", \"marker\": {\"color\": \"rgb(61,153,112)\"}, \"mode\": \"lines\", \"type\": \"scatter\", \"uid\": \"4249c848-31f6-457d-88ff-bf88274323f0\", \"x\": [35.0, 35.0, 52.5, 52.5], \"xaxis\": \"x\", \"y\": [0.0, 7.07107038069361, 7.07107038069361, 5.000034361093911], \"yaxis\": \"y2\"}, {\"hoverinfo\": \"text\", \"marker\": {\"color\": \"rgb(61,153,112)\"}, \"mode\": \"lines\", \"type\": \"scatter\", \"uid\": \"274eac9d-0408-4294-b948-c758cc9e7e48\", \"x\": [20.0, 20.0, 43.75, 43.75], \"xaxis\": \"x\", \"y\": [4.472139836503849, 10.295638455283012, 10.295638455283012, 7.07107038069361], \"yaxis\": \"y2\"}, {\"hoverinfo\": \"text\", \"marker\": {\"color\": \"rgb(61,153,112)\"}, \"mode\": \"lines\", \"type\": \"scatter\", \"uid\": \"a569c59a-9955-495a-8f9e-85017c81d0c0\", \"x\": [5.0, 5.0, 31.875, 31.875], \"xaxis\": \"x\", \"y\": [0.0, 13.000013687078997, 13.000013687078997, 10.295638455283012], \"yaxis\": \"y2\"}, {\"hoverinfo\": \"text\", \"marker\": {\"color\": \"rgb(61,153,112)\"}, \"mode\": \"lines\", \"type\": \"scatter\", \"uid\": \"ded11cb9-7ebc-4ecb-aa3d-e4719ae4fa9e\", \"x\": [85.0, 85.0, 95.0, 95.0], \"xaxis\": \"x\", \"y\": [0.0, 3.162320935128712, 3.162320935128712, 0.0], \"yaxis\": \"y2\"}, {\"hoverinfo\": \"text\", \"marker\": {\"color\": \"rgb(61,153,112)\"}, \"mode\": \"lines\", \"type\": \"scatter\", \"uid\": \"c3768dd2-4bd1-43a3-b6a1-c35c1f90f06a\", \"x\": [115.0, 115.0, 125.0, 125.0], \"xaxis\": \"x\", \"y\": [0.0, 3.6055518550348276, 3.6055518550348276, 0.0], \"yaxis\": \"y2\"}, {\"hoverinfo\": \"text\", \"marker\": {\"color\": \"rgb(61,153,112)\"}, \"mode\": \"lines\", \"type\": \"scatter\", \"uid\": \"37965823-1d8c-45e3-beff-2603fc48d424\", \"x\": [105.0, 105.0, 120.0, 120.0], \"xaxis\": \"x\", \"y\": [0.0, 7.071068164505779, 7.071068164505779, 3.6055518550348276], \"yaxis\": \"y2\"}, {\"hoverinfo\": \"text\", \"marker\": {\"color\": \"rgb(61,153,112)\"}, \"mode\": \"lines\", \"type\": \"scatter\", \"uid\": \"6ae81173-d3bc-4f14-a841-2b1fbd4dfd98\", \"x\": [90.0, 90.0, 112.5, 112.5], \"xaxis\": \"x\", \"y\": [3.162320935128712, 9.433992555326574, 9.433992555326574, 7.071068164505779], \"yaxis\": \"y2\"}, {\"hoverinfo\": \"text\", \"marker\": {\"color\": \"rgb(61,153,112)\"}, \"mode\": \"lines\", \"type\": \"scatter\", \"uid\": \"b6ae7d06-4520-4235-862f-a8718591fd78\", \"x\": [75.0, 75.0, 101.25, 101.25], \"xaxis\": \"x\", \"y\": [0.0, 17.117242804824528, 17.117242804824528, 9.433992555326574], \"yaxis\": \"y2\"}, {\"hoverinfo\": \"text\", \"marker\": {\"color\": \"rgb(61,153,112)\"}, \"mode\": \"lines\", \"type\": \"scatter\", \"uid\": \"f429155a-8f43-4be3-8812-a3e2a695467c\", \"x\": [18.4375, 18.4375, 88.125, 88.125], \"xaxis\": \"x\", \"y\": [13.000013687078997, 31.336879258897834, 31.336879258897834, 17.117242804824528], \"yaxis\": \"y2\"}, {\"hoverinfo\": \"text\", \"marker\": {\"color\": \"rgb(61,153,112)\"}, \"mode\": \"lines\", \"type\": \"scatter\", \"uid\": \"8b7bff5d-aea1-441b-b522-36eeb824cefa\", \"x\": [135.0, 135.0, 145.0, 145.0], \"xaxis\": \"x\", \"y\": [0.0, 12.806299498327393, 12.806299498327393, 0.0], \"yaxis\": \"y2\"}, {\"hoverinfo\": \"text\", \"marker\": {\"color\": \"rgb(61,153,112)\"}, \"mode\": \"lines\", \"type\": \"scatter\", \"uid\": \"199a58ea-16cc-4e9d-9ae6-5b6884e11bb1\", \"x\": [165.0, 165.0, 175.0, 175.0], \"xaxis\": \"x\", \"y\": [0.0, 5.00000010483329, 5.00000010483329, 0.0], \"yaxis\": \"y2\"}, {\"hoverinfo\": \"text\", \"marker\": {\"color\": \"rgb(61,153,112)\"}, \"mode\": \"lines\", \"type\": \"scatter\", \"uid\": \"3b80a33a-3bf8-43ef-991c-806b3c9104be\", \"x\": [155.0, 155.0, 170.0, 170.0], \"xaxis\": \"x\", \"y\": [0.0, 10.677079446604132, 10.677079446604132, 5.00000010483329], \"yaxis\": \"y2\"}, {\"hoverinfo\": \"text\", \"marker\": {\"color\": \"rgb(61,153,112)\"}, \"mode\": \"lines\", \"type\": \"scatter\", \"uid\": \"44d9821f-b318-499f-a5b9-a61c1e20ba02\", \"x\": [185.0, 185.0, 195.0, 195.0], \"xaxis\": \"x\", \"y\": [0.0, 5.099020706346836, 5.099020706346836, 0.0], \"yaxis\": \"y2\"}, {\"hoverinfo\": \"text\", \"marker\": {\"color\": \"rgb(61,153,112)\"}, \"mode\": \"lines\", \"type\": \"scatter\", \"uid\": \"3b54f649-425b-4a8c-9fc7-947d67c46c14\", \"x\": [215.0, 215.0, 225.0, 225.0], \"xaxis\": \"x\", \"y\": [0.0, 3.162278219465371, 3.162278219465371, 0.0], \"yaxis\": \"y2\"}, {\"hoverinfo\": \"text\", \"marker\": {\"color\": \"rgb(61,153,112)\"}, \"mode\": \"lines\", \"type\": \"scatter\", \"uid\": \"7362cc4a-3666-4b2f-abbd-5c73f1ab655e\", \"x\": [205.0, 205.0, 220.0, 220.0], \"xaxis\": \"x\", \"y\": [0.0, 5.744562715721172, 5.744562715721172, 3.162278219465371], \"yaxis\": \"y2\"}, {\"hoverinfo\": \"text\", \"marker\": {\"color\": \"rgb(61,153,112)\"}, \"mode\": \"lines\", \"type\": \"scatter\", \"uid\": \"904cc645-281c-486d-b6ce-b351304425a8\", \"x\": [190.0, 190.0, 212.5, 212.5], \"xaxis\": \"x\", \"y\": [5.099020706346836, 12.529964647098643, 12.529964647098643, 5.744562715721172], \"yaxis\": \"y2\"}, {\"hoverinfo\": \"text\", \"marker\": {\"color\": \"rgb(61,153,112)\"}, \"mode\": \"lines\", \"type\": \"scatter\", \"uid\": \"b328f5aa-db15-4a64-8c36-b9994bdb2261\", \"x\": [162.5, 162.5, 201.25, 201.25], \"xaxis\": \"x\", \"y\": [10.677079446604132, 22.04540772776863, 22.04540772776863, 12.529964647098643], \"yaxis\": \"y2\"}, {\"hoverinfo\": \"text\", \"marker\": {\"color\": \"rgb(61,153,112)\"}, \"mode\": \"lines\", \"type\": \"scatter\", \"uid\": \"9bdc0492-ebb1-4cb4-939e-1f8cbbc4e67a\", \"x\": [140.0, 140.0, 181.875, 181.875], \"xaxis\": \"x\", \"y\": [12.806299498327393, 31.638619231454616, 31.638619231454616, 22.04540772776863], \"yaxis\": \"y2\"}, {\"hoverinfo\": \"text\", \"marker\": {\"color\": \"rgb(61,153,112)\"}, \"mode\": \"lines\", \"type\": \"scatter\", \"uid\": \"56cb00d7-85e7-45ad-9934-33cbe26c2a5d\", \"x\": [53.28125, 53.28125, 160.9375, 160.9375], \"xaxis\": \"x\", \"y\": [31.336879258897834, 47.81213254434797, 47.81213254434797, 31.638619231454616], \"yaxis\": \"y2\"}, {\"hoverinfo\": \"text\", \"marker\": {\"color\": \"rgb(255,65,54)\"}, \"mode\": \"lines\", \"type\": \"scatter\", \"uid\": \"afeb3d7d-e81f-4eeb-903a-943b90a2307c\", \"x\": [235.0, 235.0, 245.0, 245.0], \"xaxis\": \"x\", \"y\": [0.0, 3.000313493284095, 3.000313493284095, 0.0], \"yaxis\": \"y2\"}, {\"hoverinfo\": \"text\", \"marker\": {\"color\": \"rgb(255,65,54)\"}, \"mode\": \"lines\", \"type\": \"scatter\", \"uid\": \"61172bd3-beb4-44b1-a5f3-3053492fd6e4\", \"x\": [265.0, 265.0, 275.0, 275.0], \"xaxis\": \"x\", \"y\": [0.0, 5.385916957183271, 5.385916957183271, 0.0], \"yaxis\": \"y2\"}, {\"hoverinfo\": \"text\", \"marker\": {\"color\": \"rgb(255,65,54)\"}, \"mode\": \"lines\", \"type\": \"scatter\", \"uid\": \"a214b077-e690-4db9-b874-c6eba07e238f\", \"x\": [255.0, 255.0, 270.0, 270.0], \"xaxis\": \"x\", \"y\": [0.0, 8.12435507701643, 8.12435507701643, 5.385916957183271], \"yaxis\": \"y2\"}, {\"hoverinfo\": \"text\", \"marker\": {\"color\": \"rgb(255,65,54)\"}, \"mode\": \"lines\", \"type\": \"scatter\", \"uid\": \"17ae98f6-0ebf-469c-b10e-c2b0828a1f9c\", \"x\": [240.0, 240.0, 262.5, 262.5], \"xaxis\": \"x\", \"y\": [3.000313493284095, 12.083073475291204, 12.083073475291204, 8.12435507701643], \"yaxis\": \"y2\"}, {\"hoverinfo\": \"text\", \"marker\": {\"color\": \"rgb(255,65,54)\"}, \"mode\": \"lines\", \"type\": \"scatter\", \"uid\": \"bb236498-ca3d-48aa-9f9d-0cc9f5ddf71a\", \"x\": [295.0, 295.0, 305.0, 305.0], \"xaxis\": \"x\", \"y\": [0.0, 3.741670183602487, 3.741670183602487, 0.0], \"yaxis\": \"y2\"}, {\"hoverinfo\": \"text\", \"marker\": {\"color\": \"rgb(255,65,54)\"}, \"mode\": \"lines\", \"type\": \"scatter\", \"uid\": \"35f3e1bc-3415-49e1-8e99-3484e7b9a15a\", \"x\": [325.0, 325.0, 335.0, 335.0], \"xaxis\": \"x\", \"y\": [0.0, 2.4494919602453358, 2.4494919602453358, 0.0], \"yaxis\": \"y2\"}, {\"hoverinfo\": \"text\", \"marker\": {\"color\": \"rgb(255,65,54)\"}, \"mode\": \"lines\", \"type\": \"scatter\", \"uid\": \"fdefa066-49e6-4683-adce-17712eb71443\", \"x\": [315.0, 315.0, 330.0, 330.0], \"xaxis\": \"x\", \"y\": [0.0, 4.582580026681468, 4.582580026681468, 2.4494919602453358], \"yaxis\": \"y2\"}, {\"hoverinfo\": \"text\", \"marker\": {\"color\": \"rgb(255,65,54)\"}, \"mode\": \"lines\", \"type\": \"scatter\", \"uid\": \"daed58bb-a918-4dbc-bb53-45cf9b77251d\", \"x\": [300.0, 300.0, 322.5, 322.5], \"xaxis\": \"x\", \"y\": [3.741670183602487, 9.5394001410614, 9.5394001410614, 4.582580026681468], \"yaxis\": \"y2\"}, {\"hoverinfo\": \"text\", \"marker\": {\"color\": \"rgb(255,65,54)\"}, \"mode\": \"lines\", \"type\": \"scatter\", \"uid\": \"632aab7c-56cc-4f5b-be67-e4fe09ebbf3b\", \"x\": [285.0, 285.0, 311.25, 311.25], \"xaxis\": \"x\", \"y\": [0.0, 16.793138635002364, 16.793138635002364, 9.5394001410614], \"yaxis\": \"y2\"}, {\"hoverinfo\": \"text\", \"marker\": {\"color\": \"rgb(255,65,54)\"}, \"mode\": \"lines\", \"type\": \"scatter\", \"uid\": \"d03b3f7b-ef78-4ada-b374-37356ac6f20c\", \"x\": [251.25, 251.25, 298.125, 298.125], \"xaxis\": \"x\", \"y\": [12.083073475291204, 26.551946111239463, 26.551946111239463, 16.793138635002364], \"yaxis\": \"y2\"}, {\"hoverinfo\": \"text\", \"marker\": {\"color\": \"rgb(255,65,54)\"}, \"mode\": \"lines\", \"type\": \"scatter\", \"uid\": \"e39c0092-5b68-486a-8ee4-ab3ec33f6d33\", \"x\": [355.0, 355.0, 365.0, 365.0], \"xaxis\": \"x\", \"y\": [0.0, 4.617336567135464, 4.617336567135464, 0.0], \"yaxis\": \"y2\"}, {\"hoverinfo\": \"text\", \"marker\": {\"color\": \"rgb(255,65,54)\"}, \"mode\": \"lines\", \"type\": \"scatter\", \"uid\": \"782f16dd-f233-487e-abe2-8234142d82a5\", \"x\": [375.0, 375.0, 385.0, 385.0], \"xaxis\": \"x\", \"y\": [0.0, 5.831629587838298, 5.831629587838298, 0.0], \"yaxis\": \"y2\"}, {\"hoverinfo\": \"text\", \"marker\": {\"color\": \"rgb(255,65,54)\"}, \"mode\": \"lines\", \"type\": \"scatter\", \"uid\": \"8880449f-e9c6-4dd2-b485-e254f1d49d48\", \"x\": [360.0, 360.0, 380.0, 380.0], \"xaxis\": \"x\", \"y\": [4.617336567135464, 10.10208533375718, 10.10208533375718, 5.831629587838298], \"yaxis\": \"y2\"}, {\"hoverinfo\": \"text\", \"marker\": {\"color\": \"rgb(255,65,54)\"}, \"mode\": \"lines\", \"type\": \"scatter\", \"uid\": \"ec8b56e7-4ee5-4e98-b45c-a12afa7674e9\", \"x\": [345.0, 345.0, 370.0, 370.0], \"xaxis\": \"x\", \"y\": [0.0, 28.768399719271567, 28.768399719271567, 10.10208533375718], \"yaxis\": \"y2\"}, {\"hoverinfo\": \"text\", \"marker\": {\"color\": \"rgb(255,65,54)\"}, \"mode\": \"lines\", \"type\": \"scatter\", \"uid\": \"1c7b5db7-131e-4f41-ab3f-9ca5f6cc152c\", \"x\": [274.6875, 274.6875, 357.5, 357.5], \"xaxis\": \"x\", \"y\": [26.551946111239463, 55.25372973217474, 55.25372973217474, 28.768399719271567], \"yaxis\": \"y2\"}, {\"hoverinfo\": \"text\", \"marker\": {\"color\": \"rgb(0,116,217)\"}, \"mode\": \"lines\", \"type\": \"scatter\", \"uid\": \"9d300dd6-3580-4f70-84a0-fbf8769fba9d\", \"x\": [107.109375, 107.109375, 316.09375, 316.09375], \"xaxis\": \"x\", \"y\": [47.81213254434797, 104.61831165991978, 104.61831165991978, 55.25372973217474], \"yaxis\": \"y2\"}, {\"hoverinfo\": \"text\", \"marker\": {\"color\": \"rgb(61,153,112)\"}, \"mode\": \"lines\", \"type\": \"scatter\", \"uid\": \"2dbb8c42-8f79-4c58-8276-d9b6c69fb5da\", \"x\": [-0.0, -4.472139836503849, -4.472139836503849, -0.0], \"xaxis\": \"x2\", \"y\": [15.0, 15.0, 25.0, 25.0], \"yaxis\": \"y\"}, {\"hoverinfo\": \"text\", \"marker\": {\"color\": \"rgb(61,153,112)\"}, \"mode\": \"lines\", \"type\": \"scatter\", \"uid\": \"03e0a43f-af14-4ecb-8d0c-60fa4f8bb97d\", \"x\": [-0.0, -3.162277884686747, -3.162277884686747, -0.0], \"xaxis\": \"x2\", \"y\": [55.0, 55.0, 65.0, 65.0], \"yaxis\": \"y\"}, {\"hoverinfo\": \"text\", \"marker\": {\"color\": \"rgb(61,153,112)\"}, \"mode\": \"lines\", \"type\": \"scatter\", \"uid\": \"01d80f77-b9fb-4058-b9db-fb48e5c648bf\", \"x\": [-0.0, -5.000034361093911, -5.000034361093911, -3.162277884686747], \"xaxis\": \"x2\", \"y\": [45.0, 45.0, 60.0, 60.0], \"yaxis\": \"y\"}, {\"hoverinfo\": \"text\", \"marker\": {\"color\": \"rgb(61,153,112)\"}, \"mode\": \"lines\", \"type\": \"scatter\", \"uid\": \"b0b1b87a-f541-4973-868f-e26dba0a42c9\", \"x\": [-0.0, -7.07107038069361, -7.07107038069361, -5.000034361093911], \"xaxis\": \"x2\", \"y\": [35.0, 35.0, 52.5, 52.5], \"yaxis\": \"y\"}, {\"hoverinfo\": \"text\", \"marker\": {\"color\": \"rgb(61,153,112)\"}, \"mode\": \"lines\", \"type\": \"scatter\", \"uid\": \"bee8b7b4-090c-4d76-9cca-491fb2246757\", \"x\": [-4.472139836503849, -10.295638455283012, -10.295638455283012, -7.07107038069361], \"xaxis\": \"x2\", \"y\": [20.0, 20.0, 43.75, 43.75], \"yaxis\": \"y\"}, {\"hoverinfo\": \"text\", \"marker\": {\"color\": \"rgb(61,153,112)\"}, \"mode\": \"lines\", \"type\": \"scatter\", \"uid\": \"5f289a95-1df8-4023-8941-ebf1a61e0a72\", \"x\": [-0.0, -13.000013687078997, -13.000013687078997, -10.295638455283012], \"xaxis\": \"x2\", \"y\": [5.0, 5.0, 31.875, 31.875], \"yaxis\": \"y\"}, {\"hoverinfo\": \"text\", \"marker\": {\"color\": \"rgb(61,153,112)\"}, \"mode\": \"lines\", \"type\": \"scatter\", \"uid\": \"3cd1749b-16aa-4406-a570-c40e366043a2\", \"x\": [-0.0, -3.162320935128712, -3.162320935128712, -0.0], \"xaxis\": \"x2\", \"y\": [85.0, 85.0, 95.0, 95.0], \"yaxis\": \"y\"}, {\"hoverinfo\": \"text\", \"marker\": {\"color\": \"rgb(61,153,112)\"}, \"mode\": \"lines\", \"type\": \"scatter\", \"uid\": \"c3e522af-a5f6-49fd-94c0-adb4f01cfe5a\", \"x\": [-0.0, -3.6055518550348276, -3.6055518550348276, -0.0], \"xaxis\": \"x2\", \"y\": [115.0, 115.0, 125.0, 125.0], \"yaxis\": \"y\"}, {\"hoverinfo\": \"text\", \"marker\": {\"color\": \"rgb(61,153,112)\"}, \"mode\": \"lines\", \"type\": \"scatter\", \"uid\": \"04bccdaa-bd90-45be-81f0-d21082331a66\", \"x\": [-0.0, -7.071068164505779, -7.071068164505779, -3.6055518550348276], \"xaxis\": \"x2\", \"y\": [105.0, 105.0, 120.0, 120.0], \"yaxis\": \"y\"}, {\"hoverinfo\": \"text\", \"marker\": {\"color\": \"rgb(61,153,112)\"}, \"mode\": \"lines\", \"type\": \"scatter\", \"uid\": \"86c479ed-d91b-468d-898a-35c6f44a1d45\", \"x\": [-3.162320935128712, -9.433992555326574, -9.433992555326574, -7.071068164505779], \"xaxis\": \"x2\", \"y\": [90.0, 90.0, 112.5, 112.5], \"yaxis\": \"y\"}, {\"hoverinfo\": \"text\", \"marker\": {\"color\": \"rgb(61,153,112)\"}, \"mode\": \"lines\", \"type\": \"scatter\", \"uid\": \"5aff2e08-9ab6-448a-85f0-eaed633523b0\", \"x\": [-0.0, -17.117242804824528, -17.117242804824528, -9.433992555326574], \"xaxis\": \"x2\", \"y\": [75.0, 75.0, 101.25, 101.25], \"yaxis\": \"y\"}, {\"hoverinfo\": \"text\", \"marker\": {\"color\": \"rgb(61,153,112)\"}, \"mode\": \"lines\", \"type\": \"scatter\", \"uid\": \"ead009ac-0f06-459e-b506-527441bdbb28\", \"x\": [-13.000013687078997, -31.336879258897834, -31.336879258897834, -17.117242804824528], \"xaxis\": \"x2\", \"y\": [18.4375, 18.4375, 88.125, 88.125], \"yaxis\": \"y\"}, {\"hoverinfo\": \"text\", \"marker\": {\"color\": \"rgb(61,153,112)\"}, \"mode\": \"lines\", \"type\": \"scatter\", \"uid\": \"a7d9da8e-f80d-4ec0-89b4-b9e7ee45c14c\", \"x\": [-0.0, -12.806299498327393, -12.806299498327393, -0.0], \"xaxis\": \"x2\", \"y\": [135.0, 135.0, 145.0, 145.0], \"yaxis\": \"y\"}, {\"hoverinfo\": \"text\", \"marker\": {\"color\": \"rgb(61,153,112)\"}, \"mode\": \"lines\", \"type\": \"scatter\", \"uid\": \"1d47feab-522d-41e3-9b8b-d9a6d87a43b2\", \"x\": [-0.0, -5.00000010483329, -5.00000010483329, -0.0], \"xaxis\": \"x2\", \"y\": [165.0, 165.0, 175.0, 175.0], \"yaxis\": \"y\"}, {\"hoverinfo\": \"text\", \"marker\": {\"color\": \"rgb(61,153,112)\"}, \"mode\": \"lines\", \"type\": \"scatter\", \"uid\": \"9afc521f-fc6f-4f6d-8c0d-a324e870df71\", \"x\": [-0.0, -10.677079446604132, -10.677079446604132, -5.00000010483329], \"xaxis\": \"x2\", \"y\": [155.0, 155.0, 170.0, 170.0], \"yaxis\": \"y\"}, {\"hoverinfo\": \"text\", \"marker\": {\"color\": \"rgb(61,153,112)\"}, \"mode\": \"lines\", \"type\": \"scatter\", \"uid\": \"1c4c1290-380e-4252-a337-a90859728da6\", \"x\": [-0.0, -5.099020706346836, -5.099020706346836, -0.0], \"xaxis\": \"x2\", \"y\": [185.0, 185.0, 195.0, 195.0], \"yaxis\": \"y\"}, {\"hoverinfo\": \"text\", \"marker\": {\"color\": \"rgb(61,153,112)\"}, \"mode\": \"lines\", \"type\": \"scatter\", \"uid\": \"543d098f-28f3-49b2-9e77-354e8c3e99c3\", \"x\": [-0.0, -3.162278219465371, -3.162278219465371, -0.0], \"xaxis\": \"x2\", \"y\": [215.0, 215.0, 225.0, 225.0], \"yaxis\": \"y\"}, {\"hoverinfo\": \"text\", \"marker\": {\"color\": \"rgb(61,153,112)\"}, \"mode\": \"lines\", \"type\": \"scatter\", \"uid\": \"430724a7-aaee-4507-ab7e-ab504582768d\", \"x\": [-0.0, -5.744562715721172, -5.744562715721172, -3.162278219465371], \"xaxis\": \"x2\", \"y\": [205.0, 205.0, 220.0, 220.0], \"yaxis\": \"y\"}, {\"hoverinfo\": \"text\", \"marker\": {\"color\": \"rgb(61,153,112)\"}, \"mode\": \"lines\", \"type\": \"scatter\", \"uid\": \"1a6dd8c2-c6e8-4906-9ae8-e844482e4354\", \"x\": [-5.099020706346836, -12.529964647098643, -12.529964647098643, -5.744562715721172], \"xaxis\": \"x2\", \"y\": [190.0, 190.0, 212.5, 212.5], \"yaxis\": \"y\"}, {\"hoverinfo\": \"text\", \"marker\": {\"color\": \"rgb(61,153,112)\"}, \"mode\": \"lines\", \"type\": \"scatter\", \"uid\": \"8fcd0846-e40f-4642-be00-785337bf95f9\", \"x\": [-10.677079446604132, -22.04540772776863, -22.04540772776863, -12.529964647098643], \"xaxis\": \"x2\", \"y\": [162.5, 162.5, 201.25, 201.25], \"yaxis\": \"y\"}, {\"hoverinfo\": \"text\", \"marker\": {\"color\": \"rgb(61,153,112)\"}, \"mode\": \"lines\", \"type\": \"scatter\", \"uid\": \"78288abb-460e-4246-aeca-f880a25a2ddb\", \"x\": [-12.806299498327393, -31.638619231454616, -31.638619231454616, -22.04540772776863], \"xaxis\": \"x2\", \"y\": [140.0, 140.0, 181.875, 181.875], \"yaxis\": \"y\"}, {\"hoverinfo\": \"text\", \"marker\": {\"color\": \"rgb(61,153,112)\"}, \"mode\": \"lines\", \"type\": \"scatter\", \"uid\": \"ce7d72b0-116e-4926-bc69-eff7a53e1a62\", \"x\": [-31.336879258897834, -47.81213254434797, -47.81213254434797, -31.638619231454616], \"xaxis\": \"x2\", \"y\": [53.28125, 53.28125, 160.9375, 160.9375], \"yaxis\": \"y\"}, {\"hoverinfo\": \"text\", \"marker\": {\"color\": \"rgb(255,65,54)\"}, \"mode\": \"lines\", \"type\": \"scatter\", \"uid\": \"22a9dec7-0b2e-4478-8f71-ffd414bd5e31\", \"x\": [-0.0, -3.000313493284095, -3.000313493284095, -0.0], \"xaxis\": \"x2\", \"y\": [235.0, 235.0, 245.0, 245.0], \"yaxis\": \"y\"}, {\"hoverinfo\": \"text\", \"marker\": {\"color\": \"rgb(255,65,54)\"}, \"mode\": \"lines\", \"type\": \"scatter\", \"uid\": \"b49e4d16-4025-4b32-9cb5-62bfae31c245\", \"x\": [-0.0, -5.385916957183271, -5.385916957183271, -0.0], \"xaxis\": \"x2\", \"y\": [265.0, 265.0, 275.0, 275.0], \"yaxis\": \"y\"}, {\"hoverinfo\": \"text\", \"marker\": {\"color\": \"rgb(255,65,54)\"}, \"mode\": \"lines\", \"type\": \"scatter\", \"uid\": \"29cd5bbc-52fe-4f39-ad20-e2cd33087a80\", \"x\": [-0.0, -8.12435507701643, -8.12435507701643, -5.385916957183271], \"xaxis\": \"x2\", \"y\": [255.0, 255.0, 270.0, 270.0], \"yaxis\": \"y\"}, {\"hoverinfo\": \"text\", \"marker\": {\"color\": \"rgb(255,65,54)\"}, \"mode\": \"lines\", \"type\": \"scatter\", \"uid\": \"5037a9a0-d51b-442c-a09f-a2e27d82b83f\", \"x\": [-3.000313493284095, -12.083073475291204, -12.083073475291204, -8.12435507701643], \"xaxis\": \"x2\", \"y\": [240.0, 240.0, 262.5, 262.5], \"yaxis\": \"y\"}, {\"hoverinfo\": \"text\", \"marker\": {\"color\": \"rgb(255,65,54)\"}, \"mode\": \"lines\", \"type\": \"scatter\", \"uid\": \"46ec9058-87d5-442c-9870-96073e2024b8\", \"x\": [-0.0, -3.741670183602487, -3.741670183602487, -0.0], \"xaxis\": \"x2\", \"y\": [295.0, 295.0, 305.0, 305.0], \"yaxis\": \"y\"}, {\"hoverinfo\": \"text\", \"marker\": {\"color\": \"rgb(255,65,54)\"}, \"mode\": \"lines\", \"type\": \"scatter\", \"uid\": \"06d45831-b7fc-4c7d-b65a-4b8d63e8fc93\", \"x\": [-0.0, -2.4494919602453358, -2.4494919602453358, -0.0], \"xaxis\": \"x2\", \"y\": [325.0, 325.0, 335.0, 335.0], \"yaxis\": \"y\"}, {\"hoverinfo\": \"text\", \"marker\": {\"color\": \"rgb(255,65,54)\"}, \"mode\": \"lines\", \"type\": \"scatter\", \"uid\": \"0ffd5e45-82aa-4cbb-81ea-547f4a007254\", \"x\": [-0.0, -4.582580026681468, -4.582580026681468, -2.4494919602453358], \"xaxis\": \"x2\", \"y\": [315.0, 315.0, 330.0, 330.0], \"yaxis\": \"y\"}, {\"hoverinfo\": \"text\", \"marker\": {\"color\": \"rgb(255,65,54)\"}, \"mode\": \"lines\", \"type\": \"scatter\", \"uid\": \"0da6099a-2620-4763-bc2d-fd88ed08e9a5\", \"x\": [-3.741670183602487, -9.5394001410614, -9.5394001410614, -4.582580026681468], \"xaxis\": \"x2\", \"y\": [300.0, 300.0, 322.5, 322.5], \"yaxis\": \"y\"}, {\"hoverinfo\": \"text\", \"marker\": {\"color\": \"rgb(255,65,54)\"}, \"mode\": \"lines\", \"type\": \"scatter\", \"uid\": \"6b43791a-c2bb-4e49-adcf-068c7b34ab20\", \"x\": [-0.0, -16.793138635002364, -16.793138635002364, -9.5394001410614], \"xaxis\": \"x2\", \"y\": [285.0, 285.0, 311.25, 311.25], \"yaxis\": \"y\"}, {\"hoverinfo\": \"text\", \"marker\": {\"color\": \"rgb(255,65,54)\"}, \"mode\": \"lines\", \"type\": \"scatter\", \"uid\": \"2104592d-79b0-423a-82a3-7edd3f03d513\", \"x\": [-12.083073475291204, -26.551946111239463, -26.551946111239463, -16.793138635002364], \"xaxis\": \"x2\", \"y\": [251.25, 251.25, 298.125, 298.125], \"yaxis\": \"y\"}, {\"hoverinfo\": \"text\", \"marker\": {\"color\": \"rgb(255,65,54)\"}, \"mode\": \"lines\", \"type\": \"scatter\", \"uid\": \"66891c90-eda9-4e9b-a07f-024239b14f52\", \"x\": [-0.0, -4.617336567135464, -4.617336567135464, -0.0], \"xaxis\": \"x2\", \"y\": [355.0, 355.0, 365.0, 365.0], \"yaxis\": \"y\"}, {\"hoverinfo\": \"text\", \"marker\": {\"color\": \"rgb(255,65,54)\"}, \"mode\": \"lines\", \"type\": \"scatter\", \"uid\": \"2b83d90d-45d1-478a-a31f-36b398d68284\", \"x\": [-0.0, -5.831629587838298, -5.831629587838298, -0.0], \"xaxis\": \"x2\", \"y\": [375.0, 375.0, 385.0, 385.0], \"yaxis\": \"y\"}, {\"hoverinfo\": \"text\", \"marker\": {\"color\": \"rgb(255,65,54)\"}, \"mode\": \"lines\", \"type\": \"scatter\", \"uid\": \"a874f229-2ae7-4e72-bebf-e48c86b81f9a\", \"x\": [-4.617336567135464, -10.10208533375718, -10.10208533375718, -5.831629587838298], \"xaxis\": \"x2\", \"y\": [360.0, 360.0, 380.0, 380.0], \"yaxis\": \"y\"}, {\"hoverinfo\": \"text\", \"marker\": {\"color\": \"rgb(255,65,54)\"}, \"mode\": \"lines\", \"type\": \"scatter\", \"uid\": \"76e52bac-7711-43e9-b31f-786d79bb998d\", \"x\": [-0.0, -28.768399719271567, -28.768399719271567, -10.10208533375718], \"xaxis\": \"x2\", \"y\": [345.0, 345.0, 370.0, 370.0], \"yaxis\": \"y\"}, {\"hoverinfo\": \"text\", \"marker\": {\"color\": \"rgb(255,65,54)\"}, \"mode\": \"lines\", \"type\": \"scatter\", \"uid\": \"e41de206-b2e4-434e-b2fe-65ce4860b7b8\", \"x\": [-26.551946111239463, -55.25372973217474, -55.25372973217474, -28.768399719271567], \"xaxis\": \"x2\", \"y\": [274.6875, 274.6875, 357.5, 357.5], \"yaxis\": \"y\"}, {\"hoverinfo\": \"text\", \"marker\": {\"color\": \"rgb(0,116,217)\"}, \"mode\": \"lines\", \"type\": \"scatter\", \"uid\": \"d2bb8de5-ee9c-47ff-b2b9-762483ae7dcc\", \"x\": [-47.81213254434797, -104.61831165991978, -104.61831165991978, -55.25372973217474], \"xaxis\": \"x2\", \"y\": [107.109375, 107.109375, 316.09375, 316.09375], \"yaxis\": \"y\"}, {\"colorscale\": \"Blues\", \"type\": \"heatmap\", \"uid\": \"3ffb1311-bd68-4965-b951-22a6b68882fc\", \"x\": [5.0, 15.0, 25.0, 35.0, 45.0, 55.0, 65.0, 75.0, 85.0, 95.0, 105.0, 115.0, 125.0, 135.0, 145.0, 155.0, 165.0, 175.0, 185.0, 195.0, 205.0, 215.0, 225.0, 235.0, 245.0, 255.0, 265.0, 275.0, 285.0, 295.0, 305.0, 315.0, 325.0, 335.0, 345.0, 355.0, 365.0, 375.0, 385.0], \"y\": [5.0, 15.0, 25.0, 35.0, 45.0, 55.0, 65.0, 75.0, 85.0, 95.0, 105.0, 115.0, 125.0, 135.0, 145.0, 155.0, 165.0, 175.0, 185.0, 195.0, 205.0, 215.0, 225.0, 235.0, 245.0, 255.0, 265.0, 275.0, 285.0, 295.0, 305.0, 315.0, 325.0, 335.0, 345.0, 355.0, 365.0, 375.0, 385.0], \"z\": [[0.0, 1.470440006342178, 1.5776908502700395, 0.801754388342209, 0.157656747107702, 0.46049587536100656, 1.2827377415204861, 0.4874432884320191, 0.5364877403913159, 1.4454510353687209, 0.5931298291853049, 1.5452626530555527, 0.25501685223630466, 0.5005340445822882, 0.334360242818117, 1.5558259127453442, 1.4339029781821115, 1.4594375799259154, 0.42111538500636975, 0.8354368735825095, 1.4822846275302672, 1.5533964344705085, 0.8125491319565927, 0.4297150752044631, 1.4053718109044055, 1.345970129849667, 0.5369269016385375, 1.4311530439700468, 0.23124299226176734, 0.32509487299258266, 1.2955848506626202, 0.5064892989183809, 0.8433218792032152, 0.41332620527300695, 1.3938950740440939, 1.4168694095016008, 1.3479312388094744, 0.2833775525238471, 1.2478403483433305], [1.470440006342178, 0.0, 0.4142972532629229, 1.4500023042998564, 1.3620068397225196, 1.6747005166997297, 0.26809520024085154, 1.5780739973790878, 1.4199950573081226, 0.48765706637120937, 1.491314182554033, 0.6977518228614924, 1.5874293628690408, 1.6785585720460592, 1.4704307896514974, 0.2551607030608076, 0.30554195552102253, 0.45151018591734066, 1.4834253458250237, 1.5445681552199697, 0.5052554111120959, 0.34961444645693357, 1.5381335804051162, 1.6568393263614265, 0.6119608811354711, 0.6195956066378705, 1.3980460052670387, 0.4525024001458009, 1.463007238861068, 1.344781092739864, 0.42531269536816063, 1.4891911817107295, 1.5228237769501594, 1.668205131758586, 0.5001951203584327, 0.3780736903069621, 0.6138772179898796, 1.445215925539272, 0.4220465732904288], [1.5776908502700395, 0.4142972532629229, 0.0, 1.588028474557369, 1.4450646453064904, 1.8537273449775038, 0.39482988267202046, 1.765700760121661, 1.6072007585106294, 0.631304247843745, 1.6062685504552145, 0.329375949146402, 1.7206461331358578, 1.8511555090336476, 1.6566567938922645, 0.18815976898751577, 0.2864201953100627, 0.7885658948660013, 1.6259069214377417, 1.710534828426172, 0.8543068688223815, 0.07186558595863299, 1.6925646434710981, 1.826608869188021, 0.3019092197310746, 0.982751633768921, 1.4681778711141666, 0.5596074312628304, 1.6047286549912243, 1.412097232637714, 0.7714318967567023, 1.6952032539668345, 1.6684900826854963, 1.8507360835582785, 0.3165551112374997, 0.7465122862997877, 0.9748664603232484, 1.6004701373635641, 0.6969971292031402], [0.801754388342209, 1.4500023042998564, 1.588028474557369, 0.0, 0.835954913605824, 0.6775865865367114, 1.2412843774141669, 0.5627592044013163, 0.39584868583331567, 1.1719137790312657, 0.23984530697179854, 1.636765459593844, 0.6522482651545273, 0.5917501296065701, 0.7255907326155124, 1.51869672919687, 1.4436978727775693, 1.2324985472526868, 0.4147588412740373, 0.16546531174990523, 1.250884039374054, 1.547994535357844, 0.1424389031235605, 0.6433259286156144, 1.4488563433037744, 1.120708209457443, 0.4081043289082705, 1.1922143031081807, 0.6046839398290629, 0.6480536020558924, 1.1359126010275198, 0.6065001574317623, 0.08679981810686446, 0.7828309247078155, 1.4195021246803063, 1.259065366111585, 1.1193658145500198, 0.5759130634289845, 1.1057553122117776], [0.157656747107702, 1.3620068397225196, 1.4450646453064904, 0.835954913605824, 0.0, 0.6027169649663866, 1.1684333982930173, 0.6079232892150045, 0.6122249719620729, 1.355448248906206, 0.6392708010975788, 1.3978314459779666, 0.39237914040906147, 0.6341187827902668, 0.4479039043587596, 1.4345644238434456, 1.3070010585332732, 1.3868724770099603, 0.49706197395408075, 0.8929798508054875, 1.4138133746435912, 1.4247375809651965, 0.865241189475867, 0.5697447394220221, 1.2639063734889011, 1.294784998447843, 0.5280297222281775, 1.3334700323446587, 0.33738223416213076, 0.2686724016394907, 1.2211646961060334, 0.6119219608807794, 0.8904807311705374, 0.5601943787775611, 1.257000680824103, 1.3386998229760132, 1.2958664174131278, 0.38111847894360773, 1.1680562987188026], [0.46049587536100656, 1.6747005166997297, 1.8537273449775038, 0.6775865865367114, 0.6027169649663866, 0.0, 1.5057932748623122, 0.1374910264151479, 0.3421478834391453, 1.5769172996589063, 0.5228655615654394, 1.8809095771433406, 0.24228648514654966, 0.10401530137540554, 0.24984904778808267, 1.7925982265669786, 1.6944786028508776, 1.543790301250588, 0.34742011251452204, 0.628634385145639, 1.5547334388968197, 1.815860274759319, 0.6331926763274535, 0.053074476750367645, 1.7180671462796162, 1.3789875788715216, 0.6549608521280874, 1.5873616988338692, 0.2940432413252978, 0.631580502676289, 1.399360029927876, 0.22864106030730222, 0.6722923276275887, 0.13726888037529267, 1.688004832562399, 1.525543386144654, 1.3828225627002921, 0.2797529165615856, 1.371224214957633], [1.2827377415204861, 0.26809520024085154, 0.39482988267202046, 1.2412843774141669, 1.1684333982930173, 1.5057932748623122, 0.0, 1.408634990193493, 1.2431115274665914, 0.3846124764235108, 1.273414020850943, 0.5983645568798098, 1.396828614276826, 1.501027532904535, 1.3142346094477766, 0.29555797372113796, 0.26399822637429937, 0.4898304526524141, 1.283762910097807, 1.3504877312368098, 0.5565881224672526, 0.3392044531258027, 1.337635565928786, 1.4816207026459858, 0.45198288085540694, 0.6345134602762272, 1.1633253995186654, 0.3264468579019747, 1.2749623907166, 1.1238492850678778, 0.41798240398470116, 1.3343360785158291, 1.318878754954599, 1.508583718361188, 0.3641192197402904, 0.4414752460828553, 0.6270680604002018, 1.2616724852948282, 0.3546306547308554], [0.4874432884320191, 1.5780739973790878, 1.765700760121661, 0.5627592044013163, 0.6079232892150045, 0.1374910264151479, 1.408634990193493, 0.0, 0.20923957881571537, 1.4587889853705487, 0.43618923019614453, 1.8072462690128834, 0.27732471207540754, 0.11638700352900441, 0.2506532061627153, 1.6971542772297856, 1.603805217003126, 1.4256464249230025, 0.2731750439157939, 0.514373088909314, 1.4360682705653978, 1.725255596457287, 0.5228836496332535, 0.13164096995328017, 1.6385478484282734, 1.260401188933368, 0.5878650743861062, 1.4727106545008077, 0.2764803990345824, 0.5995717580392758, 1.286520738045839, 0.1410798803754871, 0.5601336921828183, 0.2391115368612553, 1.6028300419468777, 1.4132932188675684, 1.263928372643433, 0.239715394937039, 1.2621967356263903], [0.5364877403913159, 1.4199950573081226, 1.6072007585106294, 0.39584868583331567, 0.6122249719620729, 0.3421478834391453, 1.2431115274665914, 0.20923957881571537, 0.0, 1.2655437152494733, 0.32068946052515696, 1.6622072153976295, 0.3754590000680884, 0.29548628777344504, 0.34728027635767067, 1.5328436272367927, 1.444629917507848, 1.246391002661318, 0.21889048012609083, 0.3746275389673487, 1.2586495611892317, 1.5647309344074407, 0.3822848898939485, 0.32074126879637016, 1.4862595240029577, 1.090971199594576, 0.47634812319301767, 1.2818219975505358, 0.31167732583979885, 0.5422265782482449, 1.1144956576807676, 0.21968649265941637, 0.41112863365743163, 0.4250293296898225, 1.4454513773821356, 1.242417924289378, 1.0933712339213884, 0.2618181195756888, 1.0920091392580396], [1.4454510353687209, 0.48765706637120937, 0.631304247843745, 1.1719137790312657, 1.355448248906206, 1.5769172996589063, 0.3846124764235108, 1.4587889853705487, 1.2655437152494733, 0.0, 1.2729717374401759, 0.8625146158087977, 1.4986863729742885, 1.5507237710701238, 1.4271839430292241, 0.49574449848934743, 0.550362169395321, 0.3468552108540775, 1.3335844073728385, 1.2777888996066877, 0.4235257022670807, 0.5727553291371442, 1.27199556760574, 1.5526173846912938, 0.7041827290777568, 0.5389797061571999, 1.2071973228826494, 0.08959245190443167, 1.3795054495134647, 1.2555463729917542, 0.3983286467086295, 1.3914245340387208, 1.239558095078075, 1.6089612589332223, 0.6318339102188696, 0.4097146208584819, 0.5273755933109648, 1.3560082269050715, 0.36260618035537323], [0.5931298291853049, 1.491314182554033, 1.6062685504552145, 0.23984530697179854, 0.6392708010975788, 0.5228655615654394, 1.273414020850943, 0.43618923019614453, 0.32068946052515696, 1.2729717374401759, 0.0, 1.6197892969443592, 0.4421705461356537, 0.4425069631920399, 0.5753680220996173, 1.5559093780843505, 1.4665603208771536, 1.336900265416998, 0.23473255591320763, 0.3104321472444841, 1.3600684458038823, 1.5721985214602672, 0.275276247600766, 0.47789994581346656, 1.4404225587279953, 1.2269191167641489, 0.25199203505952383, 1.2810704338554855, 0.41241272575784904, 0.4636240313192808, 1.2170511649482783, 0.5053890385671396, 0.27495153523419996, 0.6203789718618207, 1.4263213469054563, 1.3447377743289093, 1.2262687453450816, 0.4014852857349257, 1.17096147394111], [1.5452626530555527, 0.6977518228614924, 0.329375949146402, 1.636765459593844, 1.3978314459779666, 1.8809095771433406, 0.5983645568798098, 1.8072462690128834, 1.6622072153976295, 0.8625146158087977, 1.6197892969443592, 0.0, 1.7132244847490086, 1.879294196122078, 1.6880536645924513, 0.5075645722223019, 0.46568142838778576, 1.058023099987787, 1.6380040630858117, 1.7686689555144144, 1.1183914328201527, 0.3913481577613978, 1.740898937398935, 1.8481967122286478, 0.20054242509017325, 1.226815272467615, 1.4427352799326527, 0.7796222447430524, 1.6073340938682352, 1.36283717618197, 1.0090265364229833, 1.754743752967255, 1.7216787651174257, 1.8717109997485233, 0.3288784554674175, 1.007696116748321, 1.2191387048323592, 1.613749528162331, 0.9318388615673923], [0.25501685223630466, 1.5874293628690408, 1.7206461331358578, 0.6522482651545273, 0.39237914040906147, 0.24228648514654966, 1.396828614276826, 0.27732471207540754, 0.3754590000680884, 1.4986863729742885, 0.4421705461356537, 1.7132244847490086, 0.0, 0.2574642394699152, 0.26374164262653693, 1.680760486634368, 1.5710389702046434, 1.5059401578406693, 0.2581172586739412, 0.6536045638301105, 1.524498078540747, 1.6900008596011762, 0.6375113255612758, 0.1983760010941269, 1.556797049504116, 1.370731586403975, 0.48955113805079725, 1.4971176200766116, 0.12821225012850138, 0.4145789055596521, 1.3540197007226624, 0.35163984969017237, 0.6721228970575199, 0.2583038585368951, 1.5399929178748355, 1.4808583319398658, 1.3730158461318043, 0.16870241019480584, 1.3123605521643502], [0.5005340445822882, 1.6785585720460592, 1.8511555090336476, 0.5917501296065701, 0.6341187827902668, 0.10401530137540554, 1.501027532904535, 0.11638700352900441, 0.29548628777344504, 1.5507237710701238, 0.4425069631920399, 1.879294196122078, 0.2574642394699152, 0.0, 0.31757079629534246, 1.789048042875701, 1.6946363819567545, 1.531407704768895, 0.2971045626649254, 0.5397725359516053, 1.5436279866004232, 1.8129297464651568, 0.5443165320279636, 0.08627373093346713, 1.711127620389677, 1.3708189753418174, 0.6011357282007596, 1.563248927692093, 0.30694575927859136, 0.6221082449289491, 1.393184295407598, 0.24521112014290333, 0.5805238959595769, 0.23758150810794476, 1.6837833810905682, 1.5207712741170398, 1.374026662228088, 0.2892324117367962, 1.3623944402407386], [0.334360242818117, 1.4704307896514974, 1.6566567938922645, 0.7255907326155124, 0.4479039043587596, 0.24984904778808267, 1.3142346094477766, 0.2506532061627153, 0.34728027635767067, 1.4271839430292241, 0.5753680220996173, 1.6880536645924513, 0.26374164262653693, 0.31757079629534246, 0.0, 1.5971114193356584, 1.493627826778919, 1.3787616658635091, 0.37134176529242624, 0.7102896092638954, 1.3907821135094542, 1.61926293639414, 0.7103981529846826, 0.25091191443038907, 1.5335703845314659, 1.2200109159215216, 0.6392100013998541, 1.4315352628908535, 0.21830175819643693, 0.5369502562500984, 1.222626907062872, 0.2137861595160817, 0.7468053901223015, 0.20083599875766142, 1.4963359855406313, 1.345802394389007, 1.2242068435568854, 0.19941628526744976, 1.1968809011191601], [1.5558259127453442, 0.2551607030608076, 0.18815976898751577, 1.51869672919687, 1.4345644238434456, 1.7925982265669786, 0.29555797372113796, 1.6971542772297856, 1.5328436272367927, 0.49574449848934743, 1.5559093780843505, 0.5075645722223019, 1.680760486634368, 1.789048042875701, 1.5971114193356584, 0.0, 0.26455994987630665, 0.6135309252162394, 1.5745799223984325, 1.6327687699943623, 0.6822583430213189, 0.11864295288466602, 1.6204226356805698, 1.7687815743697737, 0.4334778041363596, 0.8161334579744453, 1.4415997235072866, 0.437343204931183, 1.560769181316368, 1.4000279607953783, 0.6127087477197168, 1.6187440213838264, 1.595513401004943, 1.793566988095304, 0.3902992418325559, 0.5772124509825574, 0.8082384597074661, 1.5500950925619779, 0.5467408523028832], [1.4339029781821115, 0.30554195552102253, 0.2864201953100627, 1.4436978727775693, 1.3070010585332732, 1.6944786028508776, 0.26399822637429937, 1.603805217003126, 1.444629917507848, 0.550362169395321, 1.4665603208771536, 0.46568142838778576, 1.5710389702046434, 1.6946363819567545, 1.493627826778919, 0.26455994987630665, 0.0, 0.6417006578874874, 1.4640119326203525, 1.5499331030005656, 0.6832870032525766, 0.2598543766249742, 1.5321166405669242, 1.669363985587593, 0.39962014550891484, 0.8027773566790756, 1.3274325869565942, 0.4739867230409125, 1.4493187710976707, 1.264341504171336, 0.5902235009272687, 1.5360831116353362, 1.5242042021403968, 1.6852838054569244, 0.2099582858669995, 0.5692493529074217, 0.7956045519421712, 1.4382417658589712, 0.5991211381018168], [1.4594375799259154, 0.45151018591734066, 0.7885658948660013, 1.2324985472526868, 1.3868724770099603, 1.543790301250588, 0.4898304526524141, 1.4256464249230025, 1.246391002661318, 0.3468552108540775, 1.336900265416998, 1.058023099987787, 1.5059401578406693, 1.531407704768895, 1.3787616658635091, 0.6135309252162394, 0.6417006578874874, 0.0, 1.3520720770885373, 1.3030818331057565, 0.10457449879536476, 0.7195699791409879, 1.3084660834818809, 1.5300705784933801, 0.9213760490811909, 0.246783648338982, 1.303807869115085, 0.39268833305642054, 1.3817050469663756, 1.3241017764530865, 0.17931139939633467, 1.338359636461726, 1.2914039598012872, 1.5621106014498538, 0.796472879376956, 0.1335536330302564, 0.23671772471128857, 1.3480952520583322, 0.3214413174329259], [0.42111538500636975, 1.4834253458250237, 1.6259069214377417, 0.4147588412740373, 0.49706197395408075, 0.34742011251452204, 1.283762910097807, 0.2731750439157939, 0.21889048012609083, 1.3335844073728385, 0.23473255591320763, 1.6380040630858117, 0.2581172586739412, 0.2971045626649254, 0.37134176529242624, 1.5745799223984325, 1.4640119326203525, 1.3520720770885373, 0.0, 0.4192690276641443, 1.3661690514022085, 1.5914781181328732, 0.3967058532306833, 0.30257913189148217, 1.4697610945183723, 1.218383850201386, 0.32280367565879414, 1.3370732331692896, 0.21268133441211062, 0.3804464014280506, 1.2122797890417218, 0.353576482453699, 0.44300425126790666, 0.4156019218131827, 1.435529711775899, 1.339574744839611, 1.2195903342579772, 0.18855320990339555, 1.1886526922532306], [0.8354368735825095, 1.5445681552199697, 1.710534828426172, 0.16546531174990523, 0.8929798508054875, 0.628634385145639, 1.3504877312368098, 0.514373088909314, 0.3746275389673487, 1.2777888996066877, 0.3104321472444841, 1.7686689555144144, 0.6536045638301105, 0.5397725359516053, 0.7102896092638954, 1.6327687699943623, 1.5499331030005656, 1.3030818331057565, 0.4192690276641443, 0.0, 1.3107410036460412, 1.6678961466077857, 0.05950787269841975, 0.602523365030234, 1.5830791258556396, 1.165662048627313, 0.5070440402497737, 1.3020853063081772, 0.6183398499032267, 0.7219016850847978, 1.2056136910073885, 0.5710920805835561, 0.11802847235036593, 0.7381815383137648, 1.5372053657387121, 1.3271161485868002, 1.1656540919146958, 0.5800273098611602, 1.1988100041093022], [1.4822846275302672, 0.5052554111120959, 0.8543068688223815, 1.250884039374054, 1.4138133746435912, 1.5547334388968197, 0.5565881224672526, 1.4360682705653978, 1.2586495611892317, 0.4235257022670807, 1.3600684458038823, 1.1183914328201527, 1.524498078540747, 1.5436279866004232, 1.3907821135094542, 0.6822583430213189, 0.6832870032525766, 0.10457449879536476, 1.3661690514022085, 1.3107410036460412, 0.0, 0.7870478912895741, 1.3171151839976305, 1.5426668881034014, 0.9884518023568715, 0.21467849300333508, 1.3292697254134356, 0.4642903149787737, 1.399604904598815, 1.3485586926721589, 0.20755616673000787, 1.3502179797775813, 1.3077505594030128, 1.5702607612794335, 0.841926302427262, 0.14335672144469666, 0.2057902449694211, 1.3628021197322702, 0.40887920305029857], [1.5533964344705085, 0.34961444645693357, 0.07186558595863299, 1.547994535357844, 1.4247375809651965, 1.815860274759319, 0.3392044531258027, 1.725255596457287, 1.5647309344074407, 0.5727553291371442, 1.5721985214602672, 0.3913481577613978, 1.6900008596011762, 1.8129297464651568, 1.61926293639414, 0.11864295288466602, 0.2598543766249742, 0.7195699791409879, 1.5914781181328732, 1.6678961466077857, 0.7870478912895741, 0.0, 1.6518600467744624, 1.7898357810631835, 0.3357143728220995, 0.9148107472318944, 1.4425579455829278, 0.5045216982171052, 1.5725817511608828, 1.3913973123457857, 0.7049874924321187, 1.6519375119788335, 1.627316018854897, 1.8144023685486135, 0.3277705768143466, 0.67915901660579, 0.9069375806889756, 1.566170341753276, 0.6302329692900969], [0.8125491319565927, 1.5381335804051162, 1.6925646434710981, 0.1424389031235605, 0.865241189475867, 0.6331926763274535, 1.337635565928786, 0.5228836496332535, 0.3822848898939485, 1.27199556760574, 0.275276247600766, 1.740898937398935, 0.6375113255612758, 0.5443165320279636, 0.7103981529846826, 1.6204226356805698, 1.5321166405669242, 1.3084660834818809, 0.3967058532306833, 0.05950787269841975, 1.3171151839976305, 1.6518600467744624, 0.0, 0.60309425347406, 1.556804927218346, 1.1779548210824826, 0.45828153578086045, 1.2926158456486718, 0.6020029759323491, 0.6821575679937021, 1.2083011896889497, 0.5861478928690681, 0.11473881692842394, 0.7396773976156588, 1.512167090356556, 1.3299823934117698, 1.177566818864018, 0.5668242207310726, 1.2007643045504006], [0.4297150752044631, 1.6568393263614265, 1.826608869188021, 0.6433259286156144, 0.5697447394220221, 0.053074476750367645, 1.4816207026459858, 0.13164096995328017, 0.32074126879637016, 1.5526173846912938, 0.47789994581346656, 1.8481967122286478, 0.1983760010941269, 0.08627373093346713, 0.25091191443038907, 1.7687815743697737, 1.669363985587593, 1.5300705784933801, 0.30257913189148217, 0.602523365030234, 1.5426668881034014, 1.7898357810631835, 0.60309425347406, 0.0, 1.6848772572984017, 1.3712193235207573, 0.6050873057555111, 1.5615075512380587, 0.25495235237121516, 0.5861985675769762, 1.385543558848331, 0.23798616547681684, 0.6413025171494822, 0.16294255141010433, 1.6575641965956616, 1.51250430973417, 1.3746222980537544, 0.24451053434504136, 1.3544495815835613], [1.4053718109044055, 0.6119608811354711, 0.3019092197310746, 1.4488563433037744, 1.2639063734889011, 1.7180671462796162, 0.45198288085540694, 1.6385478484282734, 1.4862595240029577, 0.7041827290777568, 1.4404225587279953, 0.20054242509017325, 1.556797049504116, 1.711127620389677, 1.5335703845314659, 0.4334778041363596, 0.39962014550891484, 0.9213760490811909, 1.4697610945183723, 1.5830791258556396, 0.9884518023568715, 0.3357143728220995, 1.556804927218346, 1.6848772572984017, 0.0, 1.0816539956414952, 1.2747088171673702, 0.62373939374837, 1.4495405000622128, 1.2148244075266088, 0.8663581372547289, 1.5861396680578073, 1.532942322193556, 1.7178187315347488, 0.2571796253420304, 0.8824574457799245, 1.0736312689691012, 1.4538573368227918, 0.7697208338219087], [1.345970129849667, 0.6195956066378705, 0.982751633768921, 1.120708209457443, 1.294784998447843, 1.3789875788715216, 0.6345134602762272, 1.260401188933368, 1.090971199594576, 0.5389797061571999, 1.2269191167641489, 1.226815272467615, 1.370731586403975, 1.3708189753418174, 1.2200109159215216, 0.8161334579744453, 0.8027773566790756, 0.246783648338982, 1.218383850201386, 1.165662048627313, 0.21467849300333508, 0.9148107472318944, 1.1779548210824826, 1.3712193235207573, 1.0816539956414952, 0.0, 1.223734787098551, 0.5857767811570727, 1.2482781387067448, 1.2423527614861527, 0.21817576895372576, 1.1680141447493433, 1.171531361037895, 1.395017878588352, 0.9485002867330536, 0.26090835354538655, 0.012183891881284183, 1.2074463467989662, 0.4012269221658939], [0.5369269016385375, 1.3980460052670387, 1.4681778711141666, 0.4081043289082705, 0.5280297222281775, 0.6549608521280874, 1.1633253995186654, 0.5878650743861062, 0.47634812319301767, 1.2071973228826494, 0.25199203505952383, 1.4427352799326527, 0.48955113805079725, 0.6011357282007596, 0.6392100013998541, 1.4415997235072866, 1.3274325869565942, 1.303807869115085, 0.32280367565879414, 0.5070440402497737, 1.3292697254134356, 1.4425579455829278, 0.45828153578086045, 0.6050873057555111, 1.2747088171673702, 1.223734787098551, 0.0, 1.1980338492626819, 0.43787760270413023, 0.2844995173425499, 1.1740065362305088, 0.6457738258659568, 0.47312474197395216, 0.713018889175751, 1.2608829840505666, 1.2969974477266466, 1.2218123937739682, 0.44408040156393713, 1.1315146670921579], [1.4311530439700468, 0.4525024001458009, 0.5596074312628304, 1.1922143031081807, 1.3334700323446587, 1.5873616988338692, 0.3264468579019747, 1.4727106545008077, 1.2818219975505358, 0.08959245190443167, 1.2810704338554855, 0.7796222447430524, 1.4971176200766116, 1.563248927692093, 1.4315352628908535, 0.437343204931183, 0.4739867230409125, 0.39268833305642054, 1.3370732331692896, 1.3020853063081772, 0.4642903149787737, 0.5045216982171052, 1.2926158456486718, 1.5615075512380587, 0.62373939374837, 0.5857767811570727, 1.1980338492626819, 0.0, 1.3773876173088095, 1.2342100273338659, 0.420994934313581, 1.4082281406126669, 1.263523547551896, 1.6148486587715971, 0.5448529409706071, 0.42993721224657117, 0.5744622707802047, 1.3564792855315175, 0.38872797404702475], [0.23124299226176734, 1.463007238861068, 1.6047286549912243, 0.6046839398290629, 0.33738223416213076, 0.2940432413252978, 1.2749623907166, 0.2764803990345824, 0.31167732583979885, 1.3795054495134647, 0.41241272575784904, 1.6073340938682352, 0.12821225012850138, 0.30694575927859136, 0.21830175819643693, 1.560769181316368, 1.4493187710976707, 1.3817050469663756, 0.21268133441211062, 0.6183398499032267, 1.399604904598815, 1.5725817511608828, 0.6020029759323491, 0.25495235237121516, 1.4495405000622128, 1.2482781387067448, 0.43787760270413023, 1.3773876173088095, 0.0, 0.3475095334152023, 1.228077743675661, 0.3154250128454817, 0.6368279418030918, 0.30230354157957323, 1.4242906778941977, 1.354398786198266, 1.2504575020036068, 0.06328037174205714, 1.1917960050947618], [0.32509487299258266, 1.344781092739864, 1.412097232637714, 0.6480536020558924, 0.2686724016394907, 0.631580502676289, 1.1238492850678778, 0.5995717580392758, 0.5422265782482449, 1.2555463729917542, 0.4636240313192808, 1.36283717618197, 0.4145789055596521, 0.6221082449289491, 0.5369502562500984, 1.4000279607953783, 1.264341504171336, 1.3241017764530865, 0.3804464014280506, 0.7219016850847978, 1.3485586926721589, 1.3913973123457857, 0.6821575679937021, 0.5861985675769762, 1.2148244075266088, 1.2423527614861527, 0.2844995173425499, 1.2342100273338659, 0.3475095334152023, 0.0, 1.1706644478312327, 0.6354713682878023, 0.7111234360124025, 0.6348580477755851, 1.197360998514615, 1.290410111350109, 1.2416860160989058, 0.37501297161291375, 1.1311314872305278], [1.2955848506626202, 0.42531269536816063, 0.7714318967567023, 1.1359126010275198, 1.2211646961060334, 1.399360029927876, 0.41798240398470116, 1.286520738045839, 1.1144956576807676, 0.3983286467086295, 1.2170511649482783, 1.0090265364229833, 1.3540197007226624, 1.393184295407598, 1.222626907062872, 0.6127087477197168, 0.5902235009272687, 0.17931139939633467, 1.2122797890417218, 1.2056136910073885, 0.20755616673000787, 0.7049874924321187, 1.2083011896889497, 1.385543558848331, 0.8663581372547289, 0.21817576895372576, 1.1740065362305088, 0.420994934313581, 1.228077743675661, 1.1706644478312327, 0.0, 1.1986256996923843, 1.198719978369852, 1.4092221794831221, 0.7347602278394351, 0.13077910702710618, 0.21121075475424114, 1.1957626717397496, 0.25826526186280035], [0.5064892989183809, 1.4891911817107295, 1.6952032539668345, 0.6065001574317623, 0.6119219608807794, 0.22864106030730222, 1.3343360785158291, 0.1410798803754871, 0.21968649265941637, 1.3914245340387208, 0.5053890385671396, 1.754743752967255, 0.35163984969017237, 0.24521112014290333, 0.2137861595160817, 1.6187440213838264, 1.5360831116353362, 1.338359636461726, 0.353576482453699, 0.5710920805835561, 1.3502179797775813, 1.6519375119788335, 0.5861478928690681, 0.23798616547681684, 1.5861396680578073, 1.1680141447493433, 0.6457738258659568, 1.4082281406126669, 0.3154250128454817, 0.6354713682878023, 1.1986256996923843, 0.0, 0.6112371326395438, 0.2827765560189591, 1.549689853264237, 1.3243537463815411, 1.172236044264689, 0.27472574763808694, 1.1698682819389177], [0.8433218792032152, 1.5228237769501594, 1.6684900826854963, 0.08679981810686446, 0.8904807311705374, 0.6722923276275887, 1.318878754954599, 0.5601336921828183, 0.41112863365743163, 1.239558095078075, 0.27495153523419996, 1.7216787651174257, 0.6721228970575199, 0.5805238959595769, 0.7468053901223015, 1.595513401004943, 1.5242042021403968, 1.2914039598012872, 0.44300425126790666, 0.11802847235036593, 1.3077505594030128, 1.627316018854897, 0.11473881692842394, 0.6413025171494822, 1.532942322193556, 1.171531361037895, 0.47312474197395216, 1.263523547551896, 0.6368279418030918, 0.7111234360124025, 1.198719978369852, 0.6112371326395438, 0.0, 0.7859528616565706, 1.5035944514509287, 1.3213270108430326, 1.170608067558188, 0.6066024001002714, 1.1703693605985797], [0.41332620527300695, 1.668205131758586, 1.8507360835582785, 0.7828309247078155, 0.5601943787775611, 0.13726888037529267, 1.508583718361188, 0.2391115368612553, 0.4250293296898225, 1.6089612589332223, 0.6203789718618207, 1.8717109997485233, 0.2583038585368951, 0.23758150810794476, 0.20083599875766142, 1.793566988095304, 1.6852838054569244, 1.5621106014498538, 0.4156019218131827, 0.7381815383137648, 1.5702607612794335, 1.8144023685486135, 0.7396773976156588, 0.16294255141010433, 1.7178187315347488, 1.395017878588352, 0.713018889175751, 1.6148486587715971, 0.30230354157957323, 0.6348580477755851, 1.4092221794831221, 0.2827765560189591, 0.7859528616565706, 0.0, 1.6812706178309071, 1.5324901215077815, 1.3994365120694476, 0.2944213344216404, 1.3891525230815287], [1.3938950740440939, 0.5001951203584327, 0.3165551112374997, 1.4195021246803063, 1.257000680824103, 1.688004832562399, 0.3641192197402904, 1.6028300419468777, 1.4454513773821356, 0.6318339102188696, 1.4263213469054563, 0.3288784554674175, 1.5399929178748355, 1.6837833810905682, 1.4963359855406313, 0.3902992418325559, 0.2099582858669995, 0.796472879376956, 1.435529711775899, 1.5372053657387121, 0.841926302427262, 0.3277705768143466, 1.512167090356556, 1.6575641965956616, 0.2571796253420304, 0.9485002867330536, 1.2608829840505666, 0.5448529409706071, 1.4242906778941977, 1.197360998514615, 0.7347602278394351, 1.549689853264237, 1.5035944514509287, 1.6812706178309071, 0.0, 0.7369691284444463, 0.9407220611401461, 1.4200106593494433, 0.7162321651886733], [1.4168694095016008, 0.3780736903069621, 0.7465122862997877, 1.259065366111585, 1.3386998229760132, 1.525543386144654, 0.4414752460828553, 1.4132932188675684, 1.242417924289378, 0.4097146208584819, 1.3447377743289093, 1.007696116748321, 1.4808583319398658, 1.5207712741170398, 1.345802394389007, 0.5772124509825574, 0.5692493529074217, 0.1335536330302564, 1.339574744839611, 1.3271161485868002, 0.14335672144469666, 0.67915901660579, 1.3299823934117698, 1.51250430973417, 0.8824574457799245, 0.26090835354538655, 1.2969974477266466, 0.42993721224657117, 1.354398786198266, 1.290410111350109, 0.13077910702710618, 1.3243537463815411, 1.3213270108430326, 1.5324901215077815, 0.7369691284444463, 0.0, 0.254014824253523, 1.3219906119611398, 0.3333491232677471], [1.3479312388094744, 0.6138772179898796, 0.9748664603232484, 1.1193658145500198, 1.2958664174131278, 1.3828225627002921, 0.6270680604002018, 1.263928372643433, 1.0933712339213884, 0.5273755933109648, 1.2262687453450816, 1.2191387048323592, 1.3730158461318043, 1.374026662228088, 1.2242068435568854, 0.8082384597074661, 0.7956045519421712, 0.23671772471128857, 1.2195903342579772, 1.1656540919146958, 0.2057902449694211, 0.9069375806889756, 1.177566818864018, 1.3746222980537544, 1.0736312689691012, 0.012183891881284183, 1.2218123937739682, 0.5744622707802047, 1.2504575020036068, 1.2416860160989058, 0.21121075475424114, 1.172236044264689, 1.170608067558188, 1.3994365120694476, 0.9407220611401461, 0.254014824253523, 0.0, 1.2098759912320691, 0.39520071967828435], [0.2833775525238471, 1.445215925539272, 1.6004701373635641, 0.5759130634289845, 0.38111847894360773, 0.2797529165615856, 1.2616724852948282, 0.239715394937039, 0.2618181195756888, 1.3560082269050715, 0.4014852857349257, 1.613749528162331, 0.16870241019480584, 0.2892324117367962, 0.19941628526744976, 1.5500950925619779, 1.4382417658589712, 1.3480952520583322, 0.18855320990339555, 0.5800273098611602, 1.3628021197322702, 1.566170341753276, 0.5668242207310726, 0.24451053434504136, 1.4538573368227918, 1.2074463467989662, 0.44408040156393713, 1.3564792855315175, 0.06328037174205714, 0.37501297161291375, 1.1957626717397496, 0.27472574763808694, 0.6066024001002714, 0.2944213344216404, 1.4200106593494433, 1.3219906119611398, 1.2098759912320691, 0.0, 1.1683773258314594], [1.2478403483433305, 0.4220465732904288, 0.6969971292031402, 1.1057553122117776, 1.1680562987188026, 1.371224214957633, 0.3546306547308554, 1.2621967356263903, 1.0920091392580396, 0.36260618035537323, 1.17096147394111, 0.9318388615673923, 1.3123605521643502, 1.3623944402407386, 1.1968809011191601, 0.5467408523028832, 0.5991211381018168, 0.3214413174329259, 1.1886526922532306, 1.1988100041093022, 0.40887920305029857, 0.6302329692900969, 1.2007643045504006, 1.3544495815835613, 0.7697208338219087, 0.4012269221658939, 1.1315146670921579, 0.38872797404702475, 1.1917960050947618, 1.1311314872305278, 0.25826526186280035, 1.1698682819389177, 1.1703693605985797, 1.3891525230815287, 0.7162321651886733, 0.3333491232677471, 0.39520071967828435, 1.1683773258314594, 0.0]]}],\n",
       "                        {\"autosize\": false, \"height\": 800, \"hovermode\": \"closest\", \"showlegend\": false, \"width\": 800, \"xaxis\": {\"domain\": [0.15, 1], \"mirror\": false, \"rangemode\": \"tozero\", \"showgrid\": false, \"showline\": false, \"showticklabels\": true, \"tickmode\": \"array\", \"ticks\": \"\", \"ticktext\": [\"1536\", \"5087\", \"5511\", \"2738\", \"5481\", \"5379\", \"3163\", \"6835\", \"6787\", \"782\", \"4-Guanidinobutanoate\", \"2313\", \"5045\", \"5192\", \"5729\", \"248\", \"5680\", \"2934\", \"4460\", \"4938\", \"7001\", \"6912\", \"3498\", \"1718\", \"5420\", \"3093\", \"3370\", \"5898\", \"6952\", \"2-Hydroxymethylserine\", \"5065\", \"6687\", \"5482\", \"3297\", \"4992\", \"6994\", \"Coumarin\", \"6980\", \"3405\"], \"tickvals\": [5.0, 15.0, 25.0, 35.0, 45.0, 55.0, 65.0, 75.0, 85.0, 95.0, 105.0, 115.0, 125.0, 135.0, 145.0, 155.0, 165.0, 175.0, 185.0, 195.0, 205.0, 215.0, 225.0, 235.0, 245.0, 255.0, 265.0, 275.0, 285.0, 295.0, 305.0, 315.0, 325.0, 335.0, 345.0, 355.0, 365.0, 375.0, 385.0], \"type\": \"linear\", \"zeroline\": false}, \"xaxis2\": {\"domain\": [0, 0.15], \"mirror\": false, \"showgrid\": false, \"showline\": false, \"showticklabels\": false, \"ticks\": \"\", \"zeroline\": false}, \"yaxis\": {\"domain\": [0, 0.85], \"mirror\": false, \"rangemode\": \"tozero\", \"showgrid\": false, \"showline\": false, \"showticklabels\": false, \"ticks\": \"\", \"type\": \"linear\", \"zeroline\": false}, \"yaxis2\": {\"domain\": [0.825, 0.975], \"mirror\": false, \"showgrid\": false, \"showline\": false, \"showticklabels\": false, \"ticks\": \"\", \"zeroline\": false}},\n",
       "                        {\"showLink\": false, \"linkText\": \"Export to plot.ly\", \"plotlyServerURL\": \"https://plot.ly\", \"responsive\": true}\n",
       "                    ).then(function(){\n",
       "                            \n",
       "var gd = document.getElementById('97473b80-47d2-4176-b95a-cca62fc509c4');\n",
       "var x = new MutationObserver(function (mutations, observer) {{\n",
       "        var display = window.getComputedStyle(gd).display;\n",
       "        if (!display || display === 'none') {{\n",
       "            console.log([gd, 'removed!']);\n",
       "            Plotly.purge(gd);\n",
       "            observer.disconnect();\n",
       "        }}\n",
       "}});\n",
       "\n",
       "// Listen for the removal of the full notebook cells\n",
       "var notebookContainer = gd.closest('#notebook-container');\n",
       "if (notebookContainer) {{\n",
       "    x.observe(notebookContainer, {childList: true});\n",
       "}}\n",
       "\n",
       "// Listen for the clearing of the current output cell\n",
       "var outputEl = gd.closest('.output');\n",
       "if (outputEl) {{\n",
       "    x.observe(outputEl, {childList: true});\n",
       "}}\n",
       "\n",
       "                        })\n",
       "                };\n",
       "                });\n",
       "            </script>\n",
       "        </div>"
      ]
     },
     "metadata": {},
     "output_type": "display_data"
    }
   ],
   "source": [
    "# Create Heatmap\n",
    "dendro_leaves = dendro_side['layout']['yaxis']['ticktext']\n",
    "dendro_leaves = list(map(int, dendro_leaves))\n",
    "data_dist = pdist(smtRCC)\n",
    "heat_data = squareform(data_dist)\n",
    "heat_data = heat_data[dendro_leaves,:]\n",
    "heat_data = heat_data[:,dendro_leaves]\n",
    "\n",
    "heatmap = [\n",
    "    go.Heatmap(\n",
    "        x = dendro_leaves,\n",
    "        y = dendro_leaves,\n",
    "        z = heat_data,\n",
    "        colorscale = 'Blues'\n",
    "    )\n",
    "]\n",
    "\n",
    "heatmap[0]['x'] = fig['layout']['xaxis']['tickvals']\n",
    "heatmap[0]['y'] = dendro_side['layout']['yaxis']['tickvals']\n",
    "\n",
    "# Add Heatmap Data to Figure\n",
    "for data in heatmap:\n",
    "    fig.add_trace(data)\n",
    "\n",
    "# Edit Layout\n",
    "fig.layout.update({'width':800, 'height':800,\n",
    "                         'showlegend':False, 'hovermode': 'closest',\n",
    "                         })\n",
    "# Edit xaxis\n",
    "fig.layout.update(xaxis={'domain': [.15, 1],\n",
    "                                  'mirror': False,\n",
    "                                  'showgrid': False,\n",
    "                                  'showline': False,\n",
    "                                  'zeroline': False,\n",
    "                                  'ticks':\"\"})\n",
    "# Edit xaxis2\n",
    "fig.layout.update(xaxis2={'domain': [0, .15],\n",
    "                                   'mirror': False,\n",
    "                                   'showgrid': False,\n",
    "                                   'showline': False,\n",
    "                                   'zeroline': False,\n",
    "                                   'showticklabels': False,\n",
    "                                   'ticks':\"\"})\n",
    "\n",
    "# Edit yaxis\n",
    "fig.layout.update(yaxis={'domain': [0, .85],\n",
    "                                  'mirror': False,\n",
    "                                  'showgrid': False,\n",
    "                                  'showline': False,\n",
    "                                  'zeroline': False,\n",
    "                                  'showticklabels': False,\n",
    "                                  'ticks': \"\"\n",
    "                        })\n",
    "# Edit yaxis2\n",
    "fig.layout.update(yaxis2={'domain':[.825, .975],\n",
    "                                   'mirror': False,\n",
    "                                   'showgrid': False,\n",
    "                                   'showline': False,\n",
    "                                   'zeroline': False,\n",
    "                                   'showticklabels': False,\n",
    "                                   'ticks':\"\"})\n",
    "\n",
    "# Plot!\n",
    "#fig.show()\n",
    "py.offline.iplot(fig)"
   ]
  },
  {
   "cell_type": "markdown",
   "metadata": {},
   "source": [
    "### 3b. Radial Dendograms"
   ]
  },
  {
   "cell_type": "code",
   "execution_count": null,
   "metadata": {},
   "outputs": [],
   "source": []
  },
  {
   "cell_type": "markdown",
   "metadata": {},
   "source": [
    "### 3c. Traditional Dendograms"
   ]
  },
  {
   "cell_type": "code",
   "execution_count": 26,
   "metadata": {},
   "outputs": [
    {
     "data": {
      "image/png": "[encoded data removed]",
      "text/plain": [
       "<Figure size 1800x720 with 1 Axes>"
      ]
     },
     "metadata": {
      "image/png": {
       "height": 713,
       "width": 1447
      },
      "needs_background": "light"
     },
     "output_type": "display_data"
    }
   ],
   "source": [
    "# Plot dendogram\n",
    "plt.figure(figsize=(25, 10))\n",
    "plt.title('Hierarchical Clustering Dendrogram')\n",
    "plt.xlabel('sample index')\n",
    "plt.ylabel('distance')\n",
    "hac.dendrogram(\n",
    "    c_link,\n",
    "    labels=RFE_MLfeatures.columns,\n",
    "    leaf_rotation=75.,  # rotates the x axis labels\n",
    "    leaf_font_size=12,  # font size for the x axis labels\n",
    ")\n",
    "#plt.savefig('AUCplots.svg', dpi=300)\n",
    "plt.show()"
   ]
  },
  {
   "cell_type": "markdown",
   "metadata": {},
   "source": [
    "### 3d. Retrieve Cluster"
   ]
  },
  {
   "cell_type": "code",
   "execution_count": 24,
   "metadata": {},
   "outputs": [
    {
     "name": "stdout",
     "output_type": "stream",
     "text": [
      "Cluster 5 number of entries 8\n"
     ]
    },
    {
     "data": {
      "image/png": "[encoded data removed]",
      "text/plain": [
       "<Figure size 432x288 with 1 Axes>"
      ]
     },
     "metadata": {
      "image/png": {
       "height": 260,
       "width": 374
      },
      "needs_background": "light"
     },
     "output_type": "display_data"
    },
    {
     "name": "stdout",
     "output_type": "stream",
     "text": [
      "Cluster 1 number of entries 7\n"
     ]
    },
    {
     "data": {
      "image/png": "[encoded data removed]",
      "text/plain": [
       "<Figure size 432x288 with 1 Axes>"
      ]
     },
     "metadata": {
      "image/png": {
       "height": 260,
       "width": 374
      },
      "needs_background": "light"
     },
     "output_type": "display_data"
    },
    {
     "name": "stdout",
     "output_type": "stream",
     "text": [
      "Cluster 6 number of entries 4\n"
     ]
    },
    {
     "data": {
      "image/png": "[encoded data removed]",
      "text/plain": [
       "<Figure size 432x288 with 1 Axes>"
      ]
     },
     "metadata": {
      "image/png": {
       "height": 260,
       "width": 374
      },
      "needs_background": "light"
     },
     "output_type": "display_data"
    },
    {
     "name": "stdout",
     "output_type": "stream",
     "text": [
      "Cluster 2 number of entries 3\n"
     ]
    },
    {
     "data": {
      "image/png": "[encoded data removed]",
      "text/plain": [
       "<Figure size 432x288 with 1 Axes>"
      ]
     },
     "metadata": {
      "image/png": {
       "height": 260,
       "width": 374
      },
      "needs_background": "light"
     },
     "output_type": "display_data"
    },
    {
     "name": "stdout",
     "output_type": "stream",
     "text": [
      "Cluster 4 number of entries 6\n"
     ]
    },
    {
     "data": {
      "image/png": "[encoded data removed]",
      "text/plain": [
       "<Figure size 432x288 with 1 Axes>"
      ]
     },
     "metadata": {
      "image/png": {
       "height": 260,
       "width": 374
      },
      "needs_background": "light"
     },
     "output_type": "display_data"
    },
    {
     "name": "stdout",
     "output_type": "stream",
     "text": [
      "Cluster 3 number of entries 12\n"
     ]
    },
    {
     "data": {
      "image/png": "[encoded data removed]",
      "text/plain": [
       "<Figure size 432x288 with 1 Axes>"
      ]
     },
     "metadata": {
      "image/png": {
       "height": 260,
       "width": 374
      },
      "needs_background": "light"
     },
     "output_type": "display_data"
    }
   ],
   "source": [
    "from scipy.cluster.hierarchy import fcluster\n",
    "\n",
    "def print_clusters(smtRCC, Z, k, plot=False):\n",
    "    # k Number of clusters I'd like to extract\n",
    "    results = fcluster(Z, k, criterion='maxclust')\n",
    "\n",
    "    # check the results\n",
    "    s = pd.Series(results)\n",
    "    clusters = s.unique()\n",
    "\n",
    "    for c in clusters:\n",
    "        cluster_indeces = s[s==c].index\n",
    "        print(\"Cluster %d number of entries %d\" % (c, len(cluster_indeces)))\n",
    "        if plot:\n",
    "            smtRCC.T.iloc[:,cluster_indeces].plot()\n",
    "            plt.show()\n",
    "\n",
    "print_clusters(smtRCC, c_link, 6, plot=True)"
   ]
  },
  {
   "cell_type": "code",
   "execution_count": null,
   "metadata": {},
   "outputs": [],
   "source": []
  },
  {
   "cell_type": "code",
   "execution_count": null,
   "metadata": {},
   "outputs": [],
   "source": []
  },
  {
   "cell_type": "code",
   "execution_count": null,
   "metadata": {},
   "outputs": [],
   "source": []
  },
  {
   "cell_type": "code",
   "execution_count": null,
   "metadata": {},
   "outputs": [],
   "source": []
  }
 ],
 "metadata": {
  "kernelspec": {
   "display_name": "Python 3",
   "language": "python",
   "name": "python3"
  },
  "language_info": {
   "codemirror_mode": {
    "name": "ipython",
    "version": 3
   },
   "file_extension": ".py",
   "mimetype": "text/x-python",
   "name": "python",
   "nbconvert_exporter": "python",
   "pygments_lexer": "ipython3",
   "version": "3.6.8"
  }
 },
 "nbformat": 4,
 "nbformat_minor": 2
}
